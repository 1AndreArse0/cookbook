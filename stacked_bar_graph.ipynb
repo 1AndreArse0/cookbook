{
 "cells": [
  {
   "cell_type": "markdown",
   "metadata": {},
   "source": [
    "# Stacked Bar Graph with pandas ans matplotlib\n",
    "\n",
    "##### Germain Salvato Vallverdu [germain.vallverdu@univ-pau.fr](germain.vallverdu@univ-pau.fr)\n",
    "\n",
    "Quelques notions sur [Stacked Bar Graph sur le datavizcatalogue](http://www.datavizcatalogue.com/methods/stacked_bar_graph.html).\n",
    "\n",
    "Ce notebook présente la construction d'un stacked bar graph avec pandas et matplotlib. \n",
    "\n",
    "Concernant pandas, ce notebook montre comment :\n",
    "\n",
    "* appliquer une fonction colonne par colonne\n",
    "* Transformer un score en catégorie\n",
    "* Extraire le pourcentatge d'une catégorie par colonne"
   ]
  },
  {
   "cell_type": "code",
   "execution_count": 1,
   "metadata": {
    "collapsed": true
   },
   "outputs": [],
   "source": [
    "import pandas as pd\n",
    "import numpy as np\n",
    "import matplotlib.pyplot as plt\n",
    "import seaborn as sns\n",
    "sns.set(style=\"white\", font_scale=1.5)\n",
    "%matplotlib inline"
   ]
  },
  {
   "cell_type": "markdown",
   "metadata": {},
   "source": [
    "\n",
    "## Création d'une data frame aléatoire"
   ]
  },
  {
   "cell_type": "code",
   "execution_count": 2,
   "metadata": {
    "collapsed": false
   },
   "outputs": [
    {
     "data": {
      "text/html": [
       "<div>\n",
       "<table border=\"1\" class=\"dataframe\">\n",
       "  <thead>\n",
       "    <tr style=\"text-align: right;\">\n",
       "      <th></th>\n",
       "      <th>A</th>\n",
       "      <th>B</th>\n",
       "      <th>C</th>\n",
       "      <th>D</th>\n",
       "    </tr>\n",
       "  </thead>\n",
       "  <tbody>\n",
       "    <tr>\n",
       "      <th>0</th>\n",
       "      <td>6</td>\n",
       "      <td>4</td>\n",
       "      <td>5</td>\n",
       "      <td>6</td>\n",
       "    </tr>\n",
       "    <tr>\n",
       "      <th>1</th>\n",
       "      <td>4</td>\n",
       "      <td>2</td>\n",
       "      <td>3</td>\n",
       "      <td>6</td>\n",
       "    </tr>\n",
       "    <tr>\n",
       "      <th>2</th>\n",
       "      <td>4</td>\n",
       "      <td>6</td>\n",
       "      <td>4</td>\n",
       "      <td>4</td>\n",
       "    </tr>\n",
       "    <tr>\n",
       "      <th>3</th>\n",
       "      <td>4</td>\n",
       "      <td>4</td>\n",
       "      <td>2</td>\n",
       "      <td>5</td>\n",
       "    </tr>\n",
       "    <tr>\n",
       "      <th>4</th>\n",
       "      <td>2</td>\n",
       "      <td>2</td>\n",
       "      <td>1</td>\n",
       "      <td>3</td>\n",
       "    </tr>\n",
       "    <tr>\n",
       "      <th>5</th>\n",
       "      <td>5</td>\n",
       "      <td>4</td>\n",
       "      <td>4</td>\n",
       "      <td>5</td>\n",
       "    </tr>\n",
       "    <tr>\n",
       "      <th>6</th>\n",
       "      <td>1</td>\n",
       "      <td>3</td>\n",
       "      <td>1</td>\n",
       "      <td>6</td>\n",
       "    </tr>\n",
       "    <tr>\n",
       "      <th>7</th>\n",
       "      <td>6</td>\n",
       "      <td>2</td>\n",
       "      <td>5</td>\n",
       "      <td>5</td>\n",
       "    </tr>\n",
       "    <tr>\n",
       "      <th>8</th>\n",
       "      <td>5</td>\n",
       "      <td>1</td>\n",
       "      <td>2</td>\n",
       "      <td>1</td>\n",
       "    </tr>\n",
       "    <tr>\n",
       "      <th>9</th>\n",
       "      <td>3</td>\n",
       "      <td>1</td>\n",
       "      <td>5</td>\n",
       "      <td>3</td>\n",
       "    </tr>\n",
       "  </tbody>\n",
       "</table>\n",
       "</div>"
      ],
      "text/plain": [
       "   A  B  C  D\n",
       "0  6  4  5  6\n",
       "1  4  2  3  6\n",
       "2  4  6  4  4\n",
       "3  4  4  2  5\n",
       "4  2  2  1  3\n",
       "5  5  4  4  5\n",
       "6  1  3  1  6\n",
       "7  6  2  5  5\n",
       "8  5  1  2  1\n",
       "9  3  1  5  3"
      ]
     },
     "execution_count": 2,
     "metadata": {},
     "output_type": "execute_result"
    }
   ],
   "source": [
    "N = 10\n",
    "df = pd.DataFrame({k: np.random.randint(low=1, high=7, size=N) for k in \"ABCD\"})\n",
    "df"
   ]
  },
  {
   "cell_type": "markdown",
   "metadata": {},
   "source": [
    "## Transformer le score en catégorie\n",
    "\n",
    "L'idée est de transformer le score du questionnaire en une catégorie : \"défavorise\", \"neutre\", \"favrorise\".\n",
    "\n",
    "Le point le plus difficile est l'écriture de la fonction. Avec `df.apply()` on va appliquer la fonction à l'ensemble du tableau. On peut le faire de deux manières différentes.\n",
    "\n",
    "### Version 1: fonction par colonne\n",
    "\n",
    "Ici je vais appliquer la fonction colonne par colonne (`axis=0`). Il faut donc que la fonction prenne commme argument la colonne et retourne la liste des nouvelles valeurs de la colonne.\n",
    "\n",
    "Donc \n",
    "\n",
    "* On commence par créer une liste vide\n",
    "* On fait une boucle sur les éléments de la colonne\n",
    "* On remplit la liste"
   ]
  },
  {
   "cell_type": "code",
   "execution_count": 3,
   "metadata": {
    "collapsed": true
   },
   "outputs": [],
   "source": [
    "def cat_column(column):\n",
    "    values = list()\n",
    "    for val in column:\n",
    "        if val <= 2:\n",
    "            cat = \"defavorise\"\n",
    "        elif val >= 5:\n",
    "            cat = \"favorise\"\n",
    "        else:\n",
    "            cat = \"neutre\"\n",
    "        values.append(cat)\n",
    "    return values"
   ]
  },
  {
   "cell_type": "markdown",
   "metadata": {},
   "source": [
    "Sur le principe, voici comme ça marche avec :"
   ]
  },
  {
   "cell_type": "code",
   "execution_count": 4,
   "metadata": {
    "collapsed": false
   },
   "outputs": [
    {
     "name": "stdout",
     "output_type": "stream",
     "text": [
      "['defavorise', 'defavorise', 'neutre', 'neutre', 'favorise', 'favorise']\n"
     ]
    }
   ],
   "source": [
    "liste = [1, 2, 3, 4, 5, 6]\n",
    "values = cat_column(liste)\n",
    "print(values)"
   ]
  },
  {
   "cell_type": "markdown",
   "metadata": {},
   "source": [
    "Maintenant on applique à notre tableau :"
   ]
  },
  {
   "cell_type": "code",
   "execution_count": 5,
   "metadata": {
    "collapsed": false
   },
   "outputs": [
    {
     "data": {
      "text/html": [
       "<div>\n",
       "<table border=\"1\" class=\"dataframe\">\n",
       "  <thead>\n",
       "    <tr style=\"text-align: right;\">\n",
       "      <th></th>\n",
       "      <th>A</th>\n",
       "      <th>B</th>\n",
       "      <th>C</th>\n",
       "      <th>D</th>\n",
       "    </tr>\n",
       "  </thead>\n",
       "  <tbody>\n",
       "    <tr>\n",
       "      <th>0</th>\n",
       "      <td>favorise</td>\n",
       "      <td>neutre</td>\n",
       "      <td>favorise</td>\n",
       "      <td>favorise</td>\n",
       "    </tr>\n",
       "    <tr>\n",
       "      <th>1</th>\n",
       "      <td>neutre</td>\n",
       "      <td>defavorise</td>\n",
       "      <td>neutre</td>\n",
       "      <td>favorise</td>\n",
       "    </tr>\n",
       "    <tr>\n",
       "      <th>2</th>\n",
       "      <td>neutre</td>\n",
       "      <td>favorise</td>\n",
       "      <td>neutre</td>\n",
       "      <td>neutre</td>\n",
       "    </tr>\n",
       "    <tr>\n",
       "      <th>3</th>\n",
       "      <td>neutre</td>\n",
       "      <td>neutre</td>\n",
       "      <td>defavorise</td>\n",
       "      <td>favorise</td>\n",
       "    </tr>\n",
       "    <tr>\n",
       "      <th>4</th>\n",
       "      <td>defavorise</td>\n",
       "      <td>defavorise</td>\n",
       "      <td>defavorise</td>\n",
       "      <td>neutre</td>\n",
       "    </tr>\n",
       "    <tr>\n",
       "      <th>5</th>\n",
       "      <td>favorise</td>\n",
       "      <td>neutre</td>\n",
       "      <td>neutre</td>\n",
       "      <td>favorise</td>\n",
       "    </tr>\n",
       "    <tr>\n",
       "      <th>6</th>\n",
       "      <td>defavorise</td>\n",
       "      <td>neutre</td>\n",
       "      <td>defavorise</td>\n",
       "      <td>favorise</td>\n",
       "    </tr>\n",
       "    <tr>\n",
       "      <th>7</th>\n",
       "      <td>favorise</td>\n",
       "      <td>defavorise</td>\n",
       "      <td>favorise</td>\n",
       "      <td>favorise</td>\n",
       "    </tr>\n",
       "    <tr>\n",
       "      <th>8</th>\n",
       "      <td>favorise</td>\n",
       "      <td>defavorise</td>\n",
       "      <td>defavorise</td>\n",
       "      <td>defavorise</td>\n",
       "    </tr>\n",
       "    <tr>\n",
       "      <th>9</th>\n",
       "      <td>neutre</td>\n",
       "      <td>defavorise</td>\n",
       "      <td>favorise</td>\n",
       "      <td>neutre</td>\n",
       "    </tr>\n",
       "  </tbody>\n",
       "</table>\n",
       "</div>"
      ],
      "text/plain": [
       "            A           B           C           D\n",
       "0    favorise      neutre    favorise    favorise\n",
       "1      neutre  defavorise      neutre    favorise\n",
       "2      neutre    favorise      neutre      neutre\n",
       "3      neutre      neutre  defavorise    favorise\n",
       "4  defavorise  defavorise  defavorise      neutre\n",
       "5    favorise      neutre      neutre    favorise\n",
       "6  defavorise      neutre  defavorise    favorise\n",
       "7    favorise  defavorise    favorise    favorise\n",
       "8    favorise  defavorise  defavorise  defavorise\n",
       "9      neutre  defavorise    favorise      neutre"
      ]
     },
     "execution_count": 5,
     "metadata": {},
     "output_type": "execute_result"
    }
   ],
   "source": [
    "df_cat = df.apply(cat_column, axis=0)\n",
    "df_cat"
   ]
  },
  {
   "cell_type": "markdown",
   "metadata": {},
   "source": [
    "### Version 2: sur tout le tableau\n",
    "\n",
    "Les opérations ne dépendent que d'une case du tableau. On peut donc utiliser une fonction qui ne connait que le contenu d'une case et retourne la bonne catégorie. La fonction est plus simple (pas de boucle), elle prend comme arguement le contenu d'une case et retourne la catégorie :"
   ]
  },
  {
   "cell_type": "code",
   "execution_count": 6,
   "metadata": {
    "collapsed": true
   },
   "outputs": [],
   "source": [
    "def cat_cell(val):\n",
    "    if val <= 2:\n",
    "        cat = \"defavorise\"\n",
    "    elif val >= 5:\n",
    "        cat = \"favorise\"\n",
    "    else:\n",
    "        cat = \"neutre\"\n",
    "\n",
    "    return cat"
   ]
  },
  {
   "cell_type": "markdown",
   "metadata": {},
   "source": [
    "Par exemple :"
   ]
  },
  {
   "cell_type": "code",
   "execution_count": 7,
   "metadata": {
    "collapsed": false
   },
   "outputs": [
    {
     "name": "stdout",
     "output_type": "stream",
     "text": [
      "defavorise neutre\n"
     ]
    }
   ],
   "source": [
    "print(cat_cell(2), cat_cell(3))"
   ]
  },
  {
   "cell_type": "markdown",
   "metadata": {},
   "source": [
    "On l'applique au tableau. Maintenant on doit utiliser la méthode `df.applymap()` au lieu de `apply()`."
   ]
  },
  {
   "cell_type": "code",
   "execution_count": 8,
   "metadata": {
    "collapsed": false
   },
   "outputs": [
    {
     "data": {
      "text/html": [
       "<div>\n",
       "<table border=\"1\" class=\"dataframe\">\n",
       "  <thead>\n",
       "    <tr style=\"text-align: right;\">\n",
       "      <th></th>\n",
       "      <th>A</th>\n",
       "      <th>B</th>\n",
       "      <th>C</th>\n",
       "      <th>D</th>\n",
       "    </tr>\n",
       "  </thead>\n",
       "  <tbody>\n",
       "    <tr>\n",
       "      <th>0</th>\n",
       "      <td>favorise</td>\n",
       "      <td>neutre</td>\n",
       "      <td>favorise</td>\n",
       "      <td>favorise</td>\n",
       "    </tr>\n",
       "    <tr>\n",
       "      <th>1</th>\n",
       "      <td>neutre</td>\n",
       "      <td>defavorise</td>\n",
       "      <td>neutre</td>\n",
       "      <td>favorise</td>\n",
       "    </tr>\n",
       "    <tr>\n",
       "      <th>2</th>\n",
       "      <td>neutre</td>\n",
       "      <td>favorise</td>\n",
       "      <td>neutre</td>\n",
       "      <td>neutre</td>\n",
       "    </tr>\n",
       "    <tr>\n",
       "      <th>3</th>\n",
       "      <td>neutre</td>\n",
       "      <td>neutre</td>\n",
       "      <td>defavorise</td>\n",
       "      <td>favorise</td>\n",
       "    </tr>\n",
       "    <tr>\n",
       "      <th>4</th>\n",
       "      <td>defavorise</td>\n",
       "      <td>defavorise</td>\n",
       "      <td>defavorise</td>\n",
       "      <td>neutre</td>\n",
       "    </tr>\n",
       "    <tr>\n",
       "      <th>5</th>\n",
       "      <td>favorise</td>\n",
       "      <td>neutre</td>\n",
       "      <td>neutre</td>\n",
       "      <td>favorise</td>\n",
       "    </tr>\n",
       "    <tr>\n",
       "      <th>6</th>\n",
       "      <td>defavorise</td>\n",
       "      <td>neutre</td>\n",
       "      <td>defavorise</td>\n",
       "      <td>favorise</td>\n",
       "    </tr>\n",
       "    <tr>\n",
       "      <th>7</th>\n",
       "      <td>favorise</td>\n",
       "      <td>defavorise</td>\n",
       "      <td>favorise</td>\n",
       "      <td>favorise</td>\n",
       "    </tr>\n",
       "    <tr>\n",
       "      <th>8</th>\n",
       "      <td>favorise</td>\n",
       "      <td>defavorise</td>\n",
       "      <td>defavorise</td>\n",
       "      <td>defavorise</td>\n",
       "    </tr>\n",
       "    <tr>\n",
       "      <th>9</th>\n",
       "      <td>neutre</td>\n",
       "      <td>defavorise</td>\n",
       "      <td>favorise</td>\n",
       "      <td>neutre</td>\n",
       "    </tr>\n",
       "  </tbody>\n",
       "</table>\n",
       "</div>"
      ],
      "text/plain": [
       "            A           B           C           D\n",
       "0    favorise      neutre    favorise    favorise\n",
       "1      neutre  defavorise      neutre    favorise\n",
       "2      neutre    favorise      neutre      neutre\n",
       "3      neutre      neutre  defavorise    favorise\n",
       "4  defavorise  defavorise  defavorise      neutre\n",
       "5    favorise      neutre      neutre    favorise\n",
       "6  defavorise      neutre  defavorise    favorise\n",
       "7    favorise  defavorise    favorise    favorise\n",
       "8    favorise  defavorise  defavorise  defavorise\n",
       "9      neutre  defavorise    favorise      neutre"
      ]
     },
     "execution_count": 8,
     "metadata": {},
     "output_type": "execute_result"
    }
   ],
   "source": [
    "df_cat = df.applymap(cat_cell)\n",
    "df_cat"
   ]
  },
  {
   "cell_type": "markdown",
   "metadata": {},
   "source": [
    "## Pourcentage de chaque catégorie par colonne\n",
    "\n",
    "Maintenant on va calculer le nombre de fois que chaque catégorie apparaît dans une colonne. Il faut pour cela utiliser `pd.value_counts()` :"
   ]
  },
  {
   "cell_type": "code",
   "execution_count": 9,
   "metadata": {
    "collapsed": false
   },
   "outputs": [
    {
     "data": {
      "text/html": [
       "<div>\n",
       "<table border=\"1\" class=\"dataframe\">\n",
       "  <thead>\n",
       "    <tr style=\"text-align: right;\">\n",
       "      <th></th>\n",
       "      <th>A</th>\n",
       "      <th>B</th>\n",
       "      <th>C</th>\n",
       "      <th>D</th>\n",
       "    </tr>\n",
       "  </thead>\n",
       "  <tbody>\n",
       "    <tr>\n",
       "      <th>defavorise</th>\n",
       "      <td>2</td>\n",
       "      <td>5</td>\n",
       "      <td>4</td>\n",
       "      <td>1</td>\n",
       "    </tr>\n",
       "    <tr>\n",
       "      <th>favorise</th>\n",
       "      <td>4</td>\n",
       "      <td>1</td>\n",
       "      <td>3</td>\n",
       "      <td>6</td>\n",
       "    </tr>\n",
       "    <tr>\n",
       "      <th>neutre</th>\n",
       "      <td>4</td>\n",
       "      <td>4</td>\n",
       "      <td>3</td>\n",
       "      <td>3</td>\n",
       "    </tr>\n",
       "  </tbody>\n",
       "</table>\n",
       "</div>"
      ],
      "text/plain": [
       "            A  B  C  D\n",
       "defavorise  2  5  4  1\n",
       "favorise    4  1  3  6\n",
       "neutre      4  4  3  3"
      ]
     },
     "execution_count": 9,
     "metadata": {},
     "output_type": "execute_result"
    }
   ],
   "source": [
    "df_cat.apply(pd.value_counts)"
   ]
  },
  {
   "cell_type": "markdown",
   "metadata": {},
   "source": [
    "Si on veut le pourcentage, il faut savoir combien il y a de lignes. Dans cet exemple, c'est `N` que l'on a définit tout au début. Sinon, il faut récupérer le nombre de lignes de la `DataFrame`. Cette information est contenu dans `df.shape` :"
   ]
  },
  {
   "cell_type": "code",
   "execution_count": 10,
   "metadata": {
    "collapsed": false
   },
   "outputs": [
    {
     "name": "stdout",
     "output_type": "stream",
     "text": [
      "10 4\n"
     ]
    }
   ],
   "source": [
    "nrows, ncols = df_cat.shape\n",
    "print(nrows, ncols)"
   ]
  },
  {
   "cell_type": "code",
   "execution_count": 11,
   "metadata": {
    "collapsed": false
   },
   "outputs": [
    {
     "data": {
      "text/html": [
       "<div>\n",
       "<table border=\"1\" class=\"dataframe\">\n",
       "  <thead>\n",
       "    <tr style=\"text-align: right;\">\n",
       "      <th></th>\n",
       "      <th>A</th>\n",
       "      <th>B</th>\n",
       "      <th>C</th>\n",
       "      <th>D</th>\n",
       "    </tr>\n",
       "  </thead>\n",
       "  <tbody>\n",
       "    <tr>\n",
       "      <th>defavorise</th>\n",
       "      <td>20.0</td>\n",
       "      <td>50.0</td>\n",
       "      <td>40.0</td>\n",
       "      <td>10.0</td>\n",
       "    </tr>\n",
       "    <tr>\n",
       "      <th>favorise</th>\n",
       "      <td>40.0</td>\n",
       "      <td>10.0</td>\n",
       "      <td>30.0</td>\n",
       "      <td>60.0</td>\n",
       "    </tr>\n",
       "    <tr>\n",
       "      <th>neutre</th>\n",
       "      <td>40.0</td>\n",
       "      <td>40.0</td>\n",
       "      <td>30.0</td>\n",
       "      <td>30.0</td>\n",
       "    </tr>\n",
       "  </tbody>\n",
       "</table>\n",
       "</div>"
      ],
      "text/plain": [
       "               A     B     C     D\n",
       "defavorise  20.0  50.0  40.0  10.0\n",
       "favorise    40.0  10.0  30.0  60.0\n",
       "neutre      40.0  40.0  30.0  30.0"
      ]
     },
     "execution_count": 11,
     "metadata": {},
     "output_type": "execute_result"
    }
   ],
   "source": [
    "df_percent = df_cat.apply(pd.value_counts) / nrows * 100\n",
    "df_percent"
   ]
  },
  {
   "cell_type": "markdown",
   "metadata": {},
   "source": [
    "## Stacked histogram\n",
    "\n",
    "Avant de faire le graphique avec pandas, il faut transposer le tableau pour qu'il trace en fonction de A, B, C et D."
   ]
  },
  {
   "cell_type": "code",
   "execution_count": 12,
   "metadata": {
    "collapsed": false
   },
   "outputs": [
    {
     "data": {
      "text/html": [
       "<div>\n",
       "<table border=\"1\" class=\"dataframe\">\n",
       "  <thead>\n",
       "    <tr style=\"text-align: right;\">\n",
       "      <th></th>\n",
       "      <th>defavorise</th>\n",
       "      <th>favorise</th>\n",
       "      <th>neutre</th>\n",
       "    </tr>\n",
       "  </thead>\n",
       "  <tbody>\n",
       "    <tr>\n",
       "      <th>A</th>\n",
       "      <td>20.0</td>\n",
       "      <td>40.0</td>\n",
       "      <td>40.0</td>\n",
       "    </tr>\n",
       "    <tr>\n",
       "      <th>B</th>\n",
       "      <td>50.0</td>\n",
       "      <td>10.0</td>\n",
       "      <td>40.0</td>\n",
       "    </tr>\n",
       "    <tr>\n",
       "      <th>C</th>\n",
       "      <td>40.0</td>\n",
       "      <td>30.0</td>\n",
       "      <td>30.0</td>\n",
       "    </tr>\n",
       "    <tr>\n",
       "      <th>D</th>\n",
       "      <td>10.0</td>\n",
       "      <td>60.0</td>\n",
       "      <td>30.0</td>\n",
       "    </tr>\n",
       "  </tbody>\n",
       "</table>\n",
       "</div>"
      ],
      "text/plain": [
       "   defavorise  favorise  neutre\n",
       "A        20.0      40.0    40.0\n",
       "B        50.0      10.0    40.0\n",
       "C        40.0      30.0    30.0\n",
       "D        10.0      60.0    30.0"
      ]
     },
     "execution_count": 12,
     "metadata": {},
     "output_type": "execute_result"
    }
   ],
   "source": [
    "df_percent_t = df_percent.transpose()\n",
    "df_percent_t"
   ]
  },
  {
   "cell_type": "markdown",
   "metadata": {},
   "source": [
    "Pour que le graphique soit plus cohérent, on va réorganiser les colonnes de sorte que `\"neutre\"` soit au milieu :"
   ]
  },
  {
   "cell_type": "code",
   "execution_count": 13,
   "metadata": {
    "collapsed": false
   },
   "outputs": [
    {
     "data": {
      "text/html": [
       "<div>\n",
       "<table border=\"1\" class=\"dataframe\">\n",
       "  <thead>\n",
       "    <tr style=\"text-align: right;\">\n",
       "      <th></th>\n",
       "      <th>defavorise</th>\n",
       "      <th>neutre</th>\n",
       "      <th>favorise</th>\n",
       "    </tr>\n",
       "  </thead>\n",
       "  <tbody>\n",
       "    <tr>\n",
       "      <th>A</th>\n",
       "      <td>20.0</td>\n",
       "      <td>40.0</td>\n",
       "      <td>40.0</td>\n",
       "    </tr>\n",
       "    <tr>\n",
       "      <th>B</th>\n",
       "      <td>50.0</td>\n",
       "      <td>40.0</td>\n",
       "      <td>10.0</td>\n",
       "    </tr>\n",
       "    <tr>\n",
       "      <th>C</th>\n",
       "      <td>40.0</td>\n",
       "      <td>30.0</td>\n",
       "      <td>30.0</td>\n",
       "    </tr>\n",
       "    <tr>\n",
       "      <th>D</th>\n",
       "      <td>10.0</td>\n",
       "      <td>30.0</td>\n",
       "      <td>60.0</td>\n",
       "    </tr>\n",
       "  </tbody>\n",
       "</table>\n",
       "</div>"
      ],
      "text/plain": [
       "   defavorise  neutre  favorise\n",
       "A        20.0    40.0      40.0\n",
       "B        50.0    40.0      10.0\n",
       "C        40.0    30.0      30.0\n",
       "D        10.0    30.0      60.0"
      ]
     },
     "execution_count": 13,
     "metadata": {},
     "output_type": "execute_result"
    }
   ],
   "source": [
    "df_percent_t = df_percent_t[[\"defavorise\", \"neutre\", \"favorise\"]]\n",
    "df_percent_t"
   ]
  },
  {
   "cell_type": "markdown",
   "metadata": {},
   "source": [
    "Voici une première version, le principe étant de choisir un graphique de type `barh` avec `stacked` vrai. On choisit ensuite une [colormap divergente](http://matplotlib.org/examples/color/colormaps_reference.html) pour donner un sens aux couleurs."
   ]
  },
  {
   "cell_type": "code",
   "execution_count": 14,
   "metadata": {
    "collapsed": false
   },
   "outputs": [
    {
     "data": {
      "text/plain": [
       "<matplotlib.legend.Legend at 0x1178ba0f0>"
      ]
     },
     "execution_count": 14,
     "metadata": {},
     "output_type": "execute_result"
    },
    {
     "data": {
      "image/png": "[encoded data removed]",
      "text/plain": [
       "<matplotlib.figure.Figure at 0x1153f8eb8>"
      ]
     },
     "metadata": {},
     "output_type": "display_data"
    }
   ],
   "source": [
    "fig = plt.figure()\n",
    "ax = fig.add_subplot(111)\n",
    "df_percent_t.plot(kind=\"barh\", stacked=True, ax=ax, colormap=\"RdYlGn\", alpha=.8, xlim=(0, 101))\n",
    "ax.legend(ncol=3, loc='upper center', bbox_to_anchor=(0.5, 1.15), frameon=False, fontsize=14)"
   ]
  },
  {
   "cell_type": "markdown",
   "metadata": {},
   "source": [
    "Un peu plus de détails, la partie compliquée est l'ajout des annotations."
   ]
  },
  {
   "cell_type": "code",
   "execution_count": 15,
   "metadata": {
    "collapsed": false
   },
   "outputs": [
    {
     "name": "stdout",
     "output_type": "stream",
     "text": [
      "[0, 20.0, 60.0, 100.0]\n",
      "[0, 50.0, 90.0, 100.0]\n",
      "[0, 40.0, 70.0, 100.0]\n",
      "[0, 10.0, 40.0, 100.0]\n"
     ]
    },
    {
     "data": {
      "image/png": "[encoded data removed]",
      "text/plain": [
       "<matplotlib.figure.Figure at 0x117dd4390>"
      ]
     },
     "metadata": {},
     "output_type": "display_data"
    }
   ],
   "source": [
    "fig = plt.figure()\n",
    "ax = fig.add_subplot(111)\n",
    "df_percent_t.plot(kind=\"barh\", stacked=True, ax=ax, colormap=\"RdYlGn\", alpha=.8)\n",
    "ax.legend(ncol=3, loc='upper center', bbox_to_anchor=(0.5, 1.15), frameon=False, fontsize=14)\n",
    "ax.set_frame_on(False)\n",
    "\n",
    "# add texts\n",
    "y = 0\n",
    "for index, row in df_percent_t.iterrows(): # boucle sur les lignes\n",
    "    # on calcule les intervalles \n",
    "    xbounds = [0]\n",
    "    for i in range(len(row)): # len(row) est le nombre d'éléments sur la ligne, 3 ici\n",
    "        xbounds.append(xbounds[i] + row[i])\n",
    "    print(xbounds)\n",
    "    # ajout du texte au centre de chaque intervalle\n",
    "    for i in range(3):\n",
    "        x = (xbounds[i] + xbounds[i+1]) / 2\n",
    "        ax.text(x, y, \"%3.0f%%\" % row[i], \n",
    "                verticalalignment=\"center\",\n",
    "                horizontalalignment=\"center\")\n",
    "    y += 1\n"
   ]
  },
  {
   "cell_type": "markdown",
   "metadata": {},
   "source": [
    "Pour y voir plus clair sur le calcul des intervalles, voici un exemple :"
   ]
  },
  {
   "cell_type": "code",
   "execution_count": 16,
   "metadata": {
    "collapsed": false
   },
   "outputs": [
    {
     "name": "stdout",
     "output_type": "stream",
     "text": [
      "[0, 40, 90, 100]\n"
     ]
    }
   ],
   "source": [
    "l = [40, 50, 10]\n",
    "x = [0]\n",
    "for i in range(3):\n",
    "    x.append(x[i] + l[i])\n",
    "print(x)"
   ]
  }
 ],
 "metadata": {
  "anaconda-cloud": {},
  "kernelspec": {
   "display_name": "Python [default]",
   "language": "python",
   "name": "python3"
  },
  "language_info": {
   "codemirror_mode": {
    "name": "ipython",
    "version": 3
   },
   "file_extension": ".py",
   "mimetype": "text/x-python",
   "name": "python",
   "nbconvert_exporter": "python",
   "pygments_lexer": "ipython3",
   "version": "3.5.2"
  }
 },
 "nbformat": 4,
 "nbformat_minor": 1
}
