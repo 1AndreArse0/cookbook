{
 "metadata": {
  "name": "",
  "signature": "sha256:4f3fa82eef04d9e4e0362fa22f46c435adc474fcbc81c7d8e2f828c5e75a460e"
 },
 "nbformat": 3,
 "nbformat_minor": 0,
 "worksheets": [
  {
   "cells": [
    {
     "cell_type": "heading",
     "level": 1,
     "metadata": {},
     "source": [
      "Comment mettre en oeuvre une r\u00e9gression lin\u00e9aire avec python ?"
     ]
    },
    {
     "cell_type": "heading",
     "level": 6,
     "metadata": {},
     "source": [
      "Germain Salvato-Vallverdu [germain.vallverdu@univ-pau.fr](mailto:germain.vallverdu@univ-pau.fr)"
     ]
    },
    {
     "cell_type": "markdown",
     "metadata": {},
     "source": [
      "L'objectif de ce TP est de mettre en pratique le langage python pour r\u00e9aliser une regression lin\u00e9aire. L'id\u00e9e est, dans un premier temps, de reprendre les \u00e9l\u00e9ments de base du langage (condition, boucles ...) pour cr\u00e9er un outil qui calcule les param\u00e8tres par la m\u00e9thode des moindres carr\u00e9s. Dans une deuxi\u00e8me partie les modules sp\u00e9cifiques tels que [numpy](http://www.numpy.org/) ou [matplotlib](http://matplotlib.org/) seront mis \u00e0 profit pour r\u00e9aliser la m\u00eame op\u00e9ration avec des m\u00e9thodes existantes."
     ]
    },
    {
     "cell_type": "markdown",
     "metadata": {},
     "source": [
      "*Note : Ce notebook est compatible python2 et python3. Il est recommand\u00e9 d'utiliser python3.*"
     ]
    },
    {
     "cell_type": "markdown",
     "metadata": {},
     "source": [
      " 1. [Introduction](#Introduction)\n",
      " 2. [Programation](#Programmation)\n",
      "     1. [\u00c9tape 0: Lecture du fichier de donn\u00e9es](#\u00c9tape-0:-Lecture-du-fichier-donnees.dat)\n",
      "     2. [\u00c9tape 1: \u00c0 la main](#\u00c9tape-1:-\u00c0-la-main)\n",
      "     3. [\u00c9tape 2: Cr\u00e9er une fonction](#\u00c9tape-2:-Cr\u00e9er-une-fonction)\n",
      "     4. [\u00c9tape 3: Utilisation du module numpy](#\u00c9tape-3:-Utilisation-du-module-numpy)\n",
      "     5. [\u00c9tape 4: Utilisation des m\u00e9thodes pr\u00e9d\u00e9finies dans numpy et scipy](#\u00c9tape-4:-Utilisation-des-m\u00e9thodes-pr\u00e9d\u00e9finies-dans-numpy-et-scipy)\n",
      " 3. [Repr\u00e9sentation graphique](#Repr\u00e9sentation-graphique)\n",
      " 4. [Pour aller plus loin ; les r\u00e9sidus](#Pour-aller-plus-loin-:-les-r\u00e9sidus)\n",
      " 5. [Conlusion](#Conclusion)"
     ]
    },
    {
     "cell_type": "heading",
     "level": 2,
     "metadata": {},
     "source": [
      "Introduction"
     ]
    },
    {
     "cell_type": "heading",
     "level": 3,
     "metadata": {},
     "source": [
      "Cahier des charges"
     ]
    },
    {
     "cell_type": "markdown",
     "metadata": {},
     "source": [
      "Le programme que nous allons \u00e9crire devra r\u00e9aliser les op\u00e9rations suivantes :\n",
      "\n",
      "* Lire les valeurs des valeurs de $x$ et $y$ sur le fichier `donnees.dat`.\n",
      "* Calculer les param\u00e8tres $a$ et $b$ de la r\u00e9gression lin\u00e9aire par la m\u00e9thode des moindres carr\u00e9s et les afficher.\n",
      "* (bonus) Repr\u00e9senter les points $(x,y)$ et tracer la droite de r\u00e9gression."
     ]
    },
    {
     "cell_type": "heading",
     "level": 3,
     "metadata": {},
     "source": [
      "Rappels math\u00e9matiques"
     ]
    },
    {
     "cell_type": "markdown",
     "metadata": {},
     "source": [
      "La r\u00e9gression lin\u00e9aire consiste \u00e0 chercher les param\u00e8tres $a$ et $b$ d\u00e9finissant la droite $y=ax+b$ qui passe au plus pr\u00e8s d'un ensemble de points $(x_k,y_k)$. Les param\u00e8tres $a$ et $b$ sont d\u00e9termin\u00e9s par la m\u00e9thodes des moindres carr\u00e9s qui consiste, dans le cas d'une r\u00e9gression lin\u00e9aire, \u00e0 minimiser la quantit\u00e9 :\n",
      "\n",
      "\\begin{equation}\n",
      "    Q(a, b) = \\sum_{k=1}^N (y_k - a x_k - b)^2\n",
      "\\end{equation}\n",
      "\n",
      "Le minimum de $Q(a,b)$ est obtenu lorsque ses d\u00e9riv\u00e9es par rapport \u00e0 $a$ et $b$ sont nulles. Il faut donc r\u00e9soudre le syst\u00e8me \u00e0 deux \u00e9quations deux inconnues suivant :\n",
      "\n",
      "\\begin{align}\n",
      "    &\n",
      "    \\begin{cases}\n",
      "        \\displaystyle\\frac{\\partial Q(a,b)}{\\partial a} = 0 \\\\ \n",
      "        \\displaystyle\\frac{\\partial Q(a,b)}{\\partial b} = 0\n",
      "    \\end{cases}\n",
      "    &\n",
      "    \\Leftrightarrow &\n",
      "    &\n",
      "    &\n",
      "    \\begin{cases}\n",
      "        \\displaystyle -2 \\sum_{k=1}^N x_k \\left(y_k - a x_k - b\\right) = 0 \\\\ \n",
      "        \\displaystyle -2 \\sum_{k=1}^N \\left(y_k - a x_k - b\\right) = 0\n",
      "    \\end{cases}\n",
      "\\end{align}\n",
      "\n",
      "Les solutions de ce syst\u00e8me sont :\n",
      "\n",
      "\\begin{align}\n",
      "    a & = \\frac{\\displaystyle N \\sum_{k=1}^N x_k y_k - \\sum_{k=1}^N x_k\\sum_{k=1}^N y_k}{\\displaystyle N\\sum_{k=1}^N x_k^2 - \\left(\\sum_{k=1}^N x_k\\right)^2} &\n",
      "    b & = \\frac{\\displaystyle \\sum_{k=1}^N x_k^2 \\sum_{k=1}^N y_k - \\sum_{k=1}^N x_k\\sum_{k=1}^N x_k y_k}{\\displaystyle N\\sum_{k=1}^N x_k^2 - \\left(\\sum_{k=1}^N x_k\\right)^2}\n",
      "\\end{align}"
     ]
    },
    {
     "cell_type": "heading",
     "level": 3,
     "metadata": {},
     "source": [
      "Mise en oeuvre"
     ]
    },
    {
     "cell_type": "markdown",
     "metadata": {},
     "source": [
      "Le programme sera \u00e9crit de plusieurs fa\u00e7on diff\u00e9rentes.\n",
      "\n",
      "1. Tous les calculs seront r\u00e9alis\u00e9s \u00e0 la main.\n",
      "2. Cr\u00e9ation d'une fonction qui r\u00e9alise la r\u00e9gression lin\u00e9aire\n",
      "3. Utilisation du module numpy pour simplifier les calculs\n",
      "4. Utilisation des m\u00e9thodes des modules numpy/scipy pour r\u00e9aliser la r\u00e9gression lin\u00e9aire\n",
      "5. (bonus) Utilisation du module matplotlib pour repr\u00e9senter les points et la droite de r\u00e9gression."
     ]
    },
    {
     "cell_type": "heading",
     "level": 2,
     "metadata": {},
     "source": [
      "Programmation"
     ]
    },
    {
     "cell_type": "heading",
     "level": 3,
     "metadata": {},
     "source": [
      "\u00c9tape 0: Lecture du fichier `donnees.dat`"
     ]
    },
    {
     "cell_type": "markdown",
     "metadata": {},
     "source": [
      "Lecture du fichier ligne par ligne :"
     ]
    },
    {
     "cell_type": "code",
     "collapsed": false,
     "input": [
      "with open(\"data/donnees.dat\", \"r\") as inp:\n",
      "    for line in inp:\n",
      "        xi, yi = line.split()\n",
      "        print(xi, yi)\n",
      "print(\"type de xi : \", type(xi))"
     ],
     "language": "python",
     "metadata": {},
     "outputs": [
      {
       "output_type": "stream",
       "stream": "stdout",
       "text": [
        "1. 2.1\n",
        "2. 2.9\n",
        "3. 4.2\n",
        "4. 5.05\n",
        "5. 5.85\n",
        "6. 6.95\n",
        "7. 8.1\n",
        "8. 9.\n",
        "9. 10.2\n",
        "10. 10.9\n",
        "type de xi :  <class 'str'>\n"
       ]
      }
     ],
     "prompt_number": 1
    },
    {
     "cell_type": "markdown",
     "metadata": {},
     "source": [
      "On va maintenant enregistrer les valeurs xi et yi dans des listes. Par ailleurs, on peut remarquer que les valeurs sont lues comme des cha\u00eenes de caract\u00e8res. Il faut les convertir en nombre flottants avec la fonction `float()`."
     ]
    },
    {
     "cell_type": "code",
     "collapsed": false,
     "input": [
      "# cr\u00e9ation des listes\n",
      "x = list()\n",
      "y = list()\n",
      "\n",
      "# lecture du fichier\n",
      "with open(\"data/donnees.dat\", \"r\") as inp:\n",
      "    for line in inp:\n",
      "        xi, yi = line.split()\n",
      "        x.append(float(xi))\n",
      "        y.append(float(yi))"
     ],
     "language": "python",
     "metadata": {},
     "outputs": [],
     "prompt_number": 2
    },
    {
     "cell_type": "markdown",
     "metadata": {},
     "source": [
      "Nous avons maintenant nos listes de valeurs de x et y :"
     ]
    },
    {
     "cell_type": "code",
     "collapsed": false,
     "input": [
      "print(x)"
     ],
     "language": "python",
     "metadata": {},
     "outputs": [
      {
       "output_type": "stream",
       "stream": "stdout",
       "text": [
        "[1.0, 2.0, 3.0, 4.0, 5.0, 6.0, 7.0, 8.0, 9.0, 10.0]\n"
       ]
      }
     ],
     "prompt_number": 3
    },
    {
     "cell_type": "code",
     "collapsed": false,
     "input": [
      "print(y)"
     ],
     "language": "python",
     "metadata": {},
     "outputs": [
      {
       "output_type": "stream",
       "stream": "stdout",
       "text": [
        "[2.1, 2.9, 4.2, 5.05, 5.85, 6.95, 8.1, 9.0, 10.2, 10.9]\n"
       ]
      }
     ],
     "prompt_number": 4
    },
    {
     "cell_type": "markdown",
     "metadata": {},
     "source": [
      "Nous verrons par la suite comment lire ce type de fichier de fa\u00e7on efficace avec la m\u00e9thode `loadtxt()` de `numpy`."
     ]
    },
    {
     "cell_type": "heading",
     "level": 3,
     "metadata": {},
     "source": [
      "\u00c9tape 1: \u00c0 la main"
     ]
    },
    {
     "cell_type": "markdown",
     "metadata": {},
     "source": [
      "Dans cette \u00e9tape on va utiliser directement les formules pr\u00e9sent\u00e9es en introduction pour calculer la valeur des param\u00e8tres $a$ et $b$. Commen\u00e7ons par calculer la somme des valeurs de $x$. Le point important est de ne pas oublier d'initialiser la valeur de la somme."
     ]
    },
    {
     "cell_type": "code",
     "collapsed": false,
     "input": [
      "# initialisation\n",
      "x_sum = 0\n",
      "# calcul de la somme\n",
      "for xi in x:\n",
      "    x_sum += xi\n",
      "# affichage\n",
      "print(\"somme des valeurs de x = \", x_sum)"
     ],
     "language": "python",
     "metadata": {},
     "outputs": [
      {
       "output_type": "stream",
       "stream": "stdout",
       "text": [
        "somme des valeurs de x =  55.0\n"
       ]
      }
     ],
     "prompt_number": 5
    },
    {
     "cell_type": "markdown",
     "metadata": {},
     "source": [
      "On fait de m\u00eame pour la somme des valeurs de $y$ et des valeurs de $x$ au carr\u00e9."
     ]
    },
    {
     "cell_type": "code",
     "collapsed": true,
     "input": [
      "y_sum = 0.\n",
      "for yi in y:\n",
      "    y_sum += yi\n",
      "print(\"somme des valeurs de y = \", y_sum)"
     ],
     "language": "python",
     "metadata": {},
     "outputs": [
      {
       "output_type": "stream",
       "stream": "stdout",
       "text": [
        "somme des valeurs de y =  65.25\n"
       ]
      }
     ],
     "prompt_number": 6
    },
    {
     "cell_type": "code",
     "collapsed": false,
     "input": [
      "x2_sum = 0.\n",
      "for xi in x:\n",
      "    x2_sum += xi**2\n",
      "print(\"somme des valeurs de x^2 = \", x2_sum)"
     ],
     "language": "python",
     "metadata": {},
     "outputs": [
      {
       "output_type": "stream",
       "stream": "stdout",
       "text": [
        "somme des valeurs de x^2 =  385.0\n"
       ]
      }
     ],
     "prompt_number": 7
    },
    {
     "cell_type": "markdown",
     "metadata": {},
     "source": [
      "Il reste \u00e0 calculer la somme des produits $x\\times y$. Pour parcourir \u00e0 la fois la liste des valeurs de $x$ et de $y$ on utilise la fonction `zip` qui joint les deux listes :"
     ]
    },
    {
     "cell_type": "code",
     "collapsed": false,
     "input": [
      "for xi, yi in zip(x, y):\n",
      "    print(\"xi = \", xi, \"\\tyi = \", yi)"
     ],
     "language": "python",
     "metadata": {},
     "outputs": [
      {
       "output_type": "stream",
       "stream": "stdout",
       "text": [
        "xi =  1.0 \tyi =  2.1\n",
        "xi =  2.0 \tyi =  2.9\n",
        "xi =  3.0 \tyi =  4.2\n",
        "xi =  4.0 \tyi =  5.05\n",
        "xi =  5.0 \tyi =  5.85\n",
        "xi =  6.0 \tyi =  6.95\n",
        "xi =  7.0 \tyi =  8.1\n",
        "xi =  8.0 \tyi =  9.0\n",
        "xi =  9.0 \tyi =  10.2\n",
        "xi =  10.0 \tyi =  10.9\n"
       ]
      }
     ],
     "prompt_number": 8
    },
    {
     "cell_type": "markdown",
     "metadata": {},
     "source": [
      "Mettons cela \u00e0 profit pour calculer la somme :"
     ]
    },
    {
     "cell_type": "code",
     "collapsed": false,
     "input": [
      "xy_sum = 0.\n",
      "for xi, yi in zip(x, y):\n",
      "    xy_sum += xi * yi\n",
      "print(\"somme des valeurs de x*y = \", xy_sum)"
     ],
     "language": "python",
     "metadata": {},
     "outputs": [
      {
       "output_type": "stream",
       "stream": "stdout",
       "text": [
        "somme des valeurs de x*y =  441.15\n"
       ]
      }
     ],
     "prompt_number": 9
    },
    {
     "cell_type": "markdown",
     "metadata": {},
     "source": [
      "Maintenant que nous disposons de toutes les valeurs n\u00e9cessaires, il ne reste plus qu'\u00e0 calculer $a$ et $b$. Nous avons encore besoin du nombre de points. La fonction `len` donne le nombre d'\u00e9l\u00e9ments d'une liste."
     ]
    },
    {
     "cell_type": "code",
     "collapsed": false,
     "input": [
      "npoints = len(x)\n",
      "print(\"Nombre de points = \", npoints)"
     ],
     "language": "python",
     "metadata": {},
     "outputs": [
      {
       "output_type": "stream",
       "stream": "stdout",
       "text": [
        "Nombre de points =  10\n"
       ]
      }
     ],
     "prompt_number": 10
    },
    {
     "cell_type": "markdown",
     "metadata": {},
     "source": [
      "D'apr\u00e8s les \u00e9quations pr\u00e9sent\u00e9es en introduction :"
     ]
    },
    {
     "cell_type": "code",
     "collapsed": false,
     "input": [
      "a = (npoints * xy_sum - x_sum * y_sum) / (npoints * x2_sum - x_sum**2)\n",
      "print(\"a = \", a)"
     ],
     "language": "python",
     "metadata": {},
     "outputs": [
      {
       "output_type": "stream",
       "stream": "stdout",
       "text": [
        "a =  0.9972727272727273\n"
       ]
      }
     ],
     "prompt_number": 11
    },
    {
     "cell_type": "code",
     "collapsed": false,
     "input": [
      "b = (x2_sum * y_sum - x_sum * xy_sum) / (npoints * x2_sum - x_sum**2)\n",
      "print(\"b = \", b)"
     ],
     "language": "python",
     "metadata": {},
     "outputs": [
      {
       "output_type": "stream",
       "stream": "stdout",
       "text": [
        "b =  1.04\n"
       ]
      }
     ],
     "prompt_number": 12
    },
    {
     "cell_type": "heading",
     "level": 3,
     "metadata": {},
     "source": [
      "\u00c9tape 2: Cr\u00e9er une fonction"
     ]
    },
    {
     "cell_type": "markdown",
     "metadata": {},
     "source": [
      "Dans cette fonction nous allons regrouper les diff\u00e9rentes \u00e9tapes permettant de r\u00e9aliser la r\u00e9gression lin\u00e9aire. La fonction prend comme arguments les listes des valeurs de $x$ et $y$ et retourne les valeurs des param\u00e8tres $a$ et $b$. Les entr\u00e9es et sorties de la fonction doivent \u00eatre explicit\u00e9s dans la `docstring` situ\u00e9e en dessous de la d\u00e9finition."
     ]
    },
    {
     "cell_type": "code",
     "collapsed": false,
     "input": [
      "def regLin(x, y):\n",
      "    \"\"\" \n",
      "    Ajuste une droite d'\u00e9quation a*x + b sur les points (x, y) par la m\u00e9thode\n",
      "    des moindres carr\u00e9s.\n",
      "    \n",
      "    Args :\n",
      "        * x (list): valeurs de x\n",
      "        * y (list): valeurs de y\n",
      "        \n",
      "    Return:\n",
      "        * a (float): pente de la droite\n",
      "        * b (float): ordonn\u00e9e \u00e0 l'origine\n",
      "    \"\"\"\n",
      "    # initialisation des sommes\n",
      "    x_sum = 0.\n",
      "    x2_sum = 0.\n",
      "    y_sum = 0.\n",
      "    xy_sum = 0.\n",
      "    # calcul des sommes \n",
      "    for xi, yi in zip(x, y):\n",
      "        x_sum += xi\n",
      "        x2_sum += xi**2\n",
      "        y_sum += yi\n",
      "        xy_sum += xi * yi\n",
      "    # nombre de points\n",
      "    npoints = len(x)\n",
      "    # calcul des parametres\n",
      "    a = (npoints * xy_sum - x_sum * y_sum) / (npoints * x2_sum - x_sum**2)\n",
      "    b = (x2_sum * y_sum - x_sum * xy_sum) / (npoints * x2_sum - x_sum**2)\n",
      "    # renvoie des parametres\n",
      "    return a, b"
     ],
     "language": "python",
     "metadata": {},
     "outputs": [],
     "prompt_number": 13
    },
    {
     "cell_type": "markdown",
     "metadata": {},
     "source": [
      "Utilisons maintenant cette nouvelle fonction."
     ]
    },
    {
     "cell_type": "code",
     "collapsed": false,
     "input": [
      "a, b = regLin(x, y)\n",
      "print(\"a = \", a)\n",
      "print(\"b = \", b)"
     ],
     "language": "python",
     "metadata": {},
     "outputs": [
      {
       "output_type": "stream",
       "stream": "stdout",
       "text": [
        "a =  0.9972727272727273\n",
        "b =  1.04\n"
       ]
      }
     ],
     "prompt_number": 14
    },
    {
     "cell_type": "markdown",
     "metadata": {},
     "source": [
      "Pour afficher les nombres flotant, il est possible d'utiliser un format. Deux syntaxes existent suivant la version de python :"
     ]
    },
    {
     "cell_type": "code",
     "collapsed": false,
     "input": [
      "# python 2.7 et superieur\n",
      "print(\"a = {:8.3f}\".format(a))\n",
      "print(\"b = {:8.3f}\".format(b))"
     ],
     "language": "python",
     "metadata": {},
     "outputs": [
      {
       "output_type": "stream",
       "stream": "stdout",
       "text": [
        "a =    0.997\n",
        "b =    1.040\n"
       ]
      }
     ],
     "prompt_number": 15
    },
    {
     "cell_type": "code",
     "collapsed": false,
     "input": [
      "# python 2.X\n",
      "print(\"a = %8.3f\" % a)\n",
      "print(\"b = %8.3f\" % b)"
     ],
     "language": "python",
     "metadata": {},
     "outputs": [
      {
       "output_type": "stream",
       "stream": "stdout",
       "text": [
        "a =    0.997\n",
        "b =    1.040\n"
       ]
      }
     ],
     "prompt_number": 16
    },
    {
     "cell_type": "heading",
     "level": 3,
     "metadata": {},
     "source": [
      "\u00c9tape 3: Utilisation du module numpy"
     ]
    },
    {
     "cell_type": "markdown",
     "metadata": {},
     "source": [
      "Nous allons maintenant utiliser le module numpy pour simplifier le calcul des sommes. Pour commencer il faut importer le module numpy. Il est courant de le donner `np` comme raccourci."
     ]
    },
    {
     "cell_type": "code",
     "collapsed": false,
     "input": [
      "import numpy as np"
     ],
     "language": "python",
     "metadata": {},
     "outputs": [],
     "prompt_number": 17
    },
    {
     "cell_type": "markdown",
     "metadata": {},
     "source": [
      "La somme des valeurs d'un tableau peut \u00eatre obtenue par la m\u00e9thode `sum()`."
     ]
    },
    {
     "cell_type": "code",
     "collapsed": false,
     "input": [
      "a = np.array([1, 2, 3])\n",
      "a.sum()"
     ],
     "language": "python",
     "metadata": {},
     "outputs": [
      {
       "metadata": {},
       "output_type": "pyout",
       "prompt_number": 18,
       "text": [
        "6"
       ]
      }
     ],
     "prompt_number": 18
    },
    {
     "cell_type": "markdown",
     "metadata": {},
     "source": [
      "La somme des carr\u00e9s ou des produits peut \u00e9galement \u00eatre obtenue ais\u00e9ment."
     ]
    },
    {
     "cell_type": "code",
     "collapsed": false,
     "input": [
      "(a**2).sum()"
     ],
     "language": "python",
     "metadata": {},
     "outputs": [
      {
       "metadata": {},
       "output_type": "pyout",
       "prompt_number": 19,
       "text": [
        "14"
       ]
      }
     ],
     "prompt_number": 19
    },
    {
     "cell_type": "markdown",
     "metadata": {},
     "source": [
      "Pour calculer les produits entre deux arrays numpy il suffit de les multiplier :"
     ]
    },
    {
     "cell_type": "code",
     "collapsed": false,
     "input": [
      "b = np.array([3, 2, 1])\n",
      "print(\"a : \", a)\n",
      "print(\"b : \", b)\n",
      "print(\"a * b :\", a * b)"
     ],
     "language": "python",
     "metadata": {},
     "outputs": [
      {
       "output_type": "stream",
       "stream": "stdout",
       "text": [
        "a :  [1 2 3]\n",
        "b :  [3 2 1]\n",
        "a * b : [3 4 3]\n"
       ]
      }
     ],
     "prompt_number": 20
    },
    {
     "cell_type": "markdown",
     "metadata": {},
     "source": [
      "La somme se calcule alors de la m\u00eame mani\u00e8re que pr\u00e9c\u00e9demment pour le carr\u00e9 :"
     ]
    },
    {
     "cell_type": "code",
     "collapsed": false,
     "input": [
      "(a * b).sum()"
     ],
     "language": "python",
     "metadata": {},
     "outputs": [
      {
       "metadata": {},
       "output_type": "pyout",
       "prompt_number": 21,
       "text": [
        "10"
       ]
      }
     ],
     "prompt_number": 21
    },
    {
     "cell_type": "markdown",
     "metadata": {},
     "source": [
      "Nous pouvons maintenant simplifier la fonction `regLin` en utilisant les fonctions de `numpy` :"
     ]
    },
    {
     "cell_type": "code",
     "collapsed": false,
     "input": [
      "def regLin_np(x, y):\n",
      "    \"\"\" \n",
      "    Ajuste une droite d'\u00e9quation a*x + b sur les points (x, y) par la m\u00e9thode\n",
      "    des moindres carr\u00e9s.\n",
      "    \n",
      "    Args :\n",
      "        * x (list): valeurs de x\n",
      "        * y (list): valeurs de y\n",
      "        \n",
      "    Return:\n",
      "        * a (float): pente de la droite\n",
      "        * b (float): ordonn\u00e9e \u00e0 l'origine\n",
      "    \"\"\"\n",
      "    # conversion en array numpy\n",
      "    x = np.array(x)\n",
      "    y = np.array(y)\n",
      "    # nombre de points\n",
      "    npoints = len(x)\n",
      "    # calculs des parametres a et b\n",
      "    a = (npoints * (x*y).sum() - x.sum()*y.sum()) / (npoints*(x**2).sum() - (x.sum())**2)\n",
      "    b = ((x**2).sum()*y.sum() - x.sum() * (x*y).sum()) / (npoints * (x**2).sum() - (x.sum())**2)\n",
      "    # renvoie des parametres\n",
      "    return a, b"
     ],
     "language": "python",
     "metadata": {},
     "outputs": [],
     "prompt_number": 22
    },
    {
     "cell_type": "markdown",
     "metadata": {},
     "source": [
      "La nouvelle fonction renvoie \u00e9videmment les m\u00eames r\u00e9sultats :"
     ]
    },
    {
     "cell_type": "code",
     "collapsed": false,
     "input": [
      "a, b = regLin_np(x, y)\n",
      "print(\"a = {:8.3f}\\nb = {:8.3f}\".format(a, b)) # \\n est le caractere de fin de ligne"
     ],
     "language": "python",
     "metadata": {},
     "outputs": [
      {
       "output_type": "stream",
       "stream": "stdout",
       "text": [
        "a =    0.997\n",
        "b =    1.040\n"
       ]
      }
     ],
     "prompt_number": 23
    },
    {
     "cell_type": "heading",
     "level": 3,
     "metadata": {},
     "source": [
      "\u00c9tape 4: Utilisation des m\u00e9thodes pr\u00e9d\u00e9finies dans numpy et scipy"
     ]
    },
    {
     "cell_type": "markdown",
     "metadata": {},
     "source": [
      "Numpy et Scipy sont deux modules scientifiques de python qui regroupent de nombreuses fonctions. Nous allons utiliser la m\u00e9thode [loadtxt](http://docs.scipy.org/doc/numpy/reference/generated/numpy.loadtxt.html) pour lire le fichier texte et les m\u00e9thodes [polyfit](http://docs.scipy.org/doc/numpy/reference/generated/numpy.polyfit.html) et [linregress](http://docs.scipy.org/doc/scipy/reference/generated/scipy.stats.linregress.html) pour r\u00e9aliser la r\u00e9gression lin\u00e9aire. Le module numpy est totalement inclu dans scipy. Compte tenu du grand nombre de modules et biblioth\u00e8ques python existants, il est important de savoir lire une documentation pour utiliser les m\u00e9thodes disponibles. De plus, l'utilisation d'une m\u00e9thode d\u00e9j\u00e0 existante acc\u00e9l\u00e8re le travail de d\u00e9veloppement tout en \u00e9vitant de refaire la m\u00eame chose. Pour obtenir la documentation \u00e0 l'int\u00e9rieur de ipyhon, ajouter un ? apr\u00e8s le nom de la m\u00e9thode."
     ]
    },
    {
     "cell_type": "markdown",
     "metadata": {},
     "source": [
      "Commen\u00e7ons par lire le fichier `donnees.dat` avec la m\u00e9thode `loadtxt` pour lire le fichier de donn\u00e9es."
     ]
    },
    {
     "cell_type": "code",
     "collapsed": false,
     "input": [
      "data = np.loadtxt(\"data/donnees.dat\")\n",
      "print(data)"
     ],
     "language": "python",
     "metadata": {},
     "outputs": [
      {
       "output_type": "stream",
       "stream": "stdout",
       "text": [
        "[[  1.     2.1 ]\n",
        " [  2.     2.9 ]\n",
        " [  3.     4.2 ]\n",
        " [  4.     5.05]\n",
        " [  5.     5.85]\n",
        " [  6.     6.95]\n",
        " [  7.     8.1 ]\n",
        " [  8.     9.  ]\n",
        " [  9.    10.2 ]\n",
        " [ 10.    10.9 ]]\n"
       ]
      }
     ],
     "prompt_number": 24
    },
    {
     "cell_type": "markdown",
     "metadata": {},
     "source": [
      "Les valeurs de $x$ correspondent \u00e0 la premi\u00e8re colonne."
     ]
    },
    {
     "cell_type": "code",
     "collapsed": false,
     "input": [
      "x = data[:,0]\n",
      "print(x)"
     ],
     "language": "python",
     "metadata": {},
     "outputs": [
      {
       "output_type": "stream",
       "stream": "stdout",
       "text": [
        "[  1.   2.   3.   4.   5.   6.   7.   8.   9.  10.]\n"
       ]
      }
     ],
     "prompt_number": 25
    },
    {
     "cell_type": "markdown",
     "metadata": {},
     "source": [
      "Les valeurs de $y$ correspondent \u00e0 la deuxi\u00e8me colonne."
     ]
    },
    {
     "cell_type": "code",
     "collapsed": false,
     "input": [
      "y = data[:,1]\n",
      "print(y)"
     ],
     "language": "python",
     "metadata": {},
     "outputs": [
      {
       "output_type": "stream",
       "stream": "stdout",
       "text": [
        "[  2.1    2.9    4.2    5.05   5.85   6.95   8.1    9.    10.2   10.9 ]\n"
       ]
      }
     ],
     "prompt_number": 26
    },
    {
     "cell_type": "markdown",
     "metadata": {},
     "source": [
      "Le tout peut \u00eatre fait en une seul ligne :"
     ]
    },
    {
     "cell_type": "code",
     "collapsed": false,
     "input": [
      "x, y = np.loadtxt(\"data/donnees.dat\", unpack=True)\n",
      "print(x, y)"
     ],
     "language": "python",
     "metadata": {},
     "outputs": [
      {
       "output_type": "stream",
       "stream": "stdout",
       "text": [
        "[  1.   2.   3.   4.   5.   6.   7.   8.   9.  10.] [  2.1    2.9    4.2    5.05   5.85   6.95   8.1    9.    10.2   10.9 ]\n"
       ]
      }
     ],
     "prompt_number": 27
    },
    {
     "cell_type": "heading",
     "level": 4,
     "metadata": {},
     "source": [
      "Utilisation de la m\u00e9thode `polyfit`"
     ]
    },
    {
     "cell_type": "markdown",
     "metadata": {},
     "source": [
      "La m\u00e9thode `polytfit` du module `numpy` prend comme argument les valeurs de $x$, de $y$ et le degr\u00e9 du polynome (1 ici puisqu'il s'agit d'une droite)."
     ]
    },
    {
     "cell_type": "code",
     "collapsed": false,
     "input": [
      "parametres = np.polyfit(x, y, 1)\n",
      "print(parametres)"
     ],
     "language": "python",
     "metadata": {},
     "outputs": [
      {
       "output_type": "stream",
       "stream": "stdout",
       "text": [
        "[ 0.99727273  1.04      ]\n"
       ]
      }
     ],
     "prompt_number": 28
    },
    {
     "cell_type": "markdown",
     "metadata": {},
     "source": [
      "Les param\u00e8tres sont bien les m\u00eames que ceux que nous avions d\u00e9termin\u00e9s \u00e0 la main."
     ]
    },
    {
     "cell_type": "code",
     "collapsed": false,
     "input": [
      "a, b = parametres\n",
      "print(\"a = {:8.3f}\\nb = {:8.3f}\".format(a, b))"
     ],
     "language": "python",
     "metadata": {},
     "outputs": [
      {
       "output_type": "stream",
       "stream": "stdout",
       "text": [
        "a =    0.997\n",
        "b =    1.040\n"
       ]
      }
     ],
     "prompt_number": 29
    },
    {
     "cell_type": "heading",
     "level": 4,
     "metadata": {},
     "source": [
      "Utilisation de la m\u00e9thode `linregress`"
     ]
    },
    {
     "cell_type": "markdown",
     "metadata": {},
     "source": [
      "La m\u00e9thode `linregress` est contenue dans le module `stats` du module `scipy`. Elle prend comme argument les valeurs de $x$, de $y$ et retourne en plus des param\u00e8tres $a$ et $b$, le coefficiant de corr\u00e9lation."
     ]
    },
    {
     "cell_type": "markdown",
     "metadata": {},
     "source": [
      "Commen\u00e7ons par importer la m\u00e9thode `linregress`."
     ]
    },
    {
     "cell_type": "code",
     "collapsed": false,
     "input": [
      "from scipy.stats import linregress"
     ],
     "language": "python",
     "metadata": {},
     "outputs": [],
     "prompt_number": 30
    },
    {
     "cell_type": "markdown",
     "metadata": {},
     "source": [
      "Utilisons maintenant la m\u00e9thode `linregress`."
     ]
    },
    {
     "cell_type": "code",
     "collapsed": false,
     "input": [
      "a, b, r, p_value, std_err = linregress(x, y)\n",
      "print(\"a   ={:8.3f}\\nb   ={:8.3f}\\nr^2 ={:8.5f}\".format(a, b, r**2))"
     ],
     "language": "python",
     "metadata": {},
     "outputs": [
      {
       "output_type": "stream",
       "stream": "stdout",
       "text": [
        "a   =   0.997\n",
        "b   =   1.040\n",
        "r^2 = 0.99829\n"
       ]
      }
     ],
     "prompt_number": 31
    },
    {
     "cell_type": "heading",
     "level": 2,
     "metadata": {},
     "source": [
      "Repr\u00e9sentation graphique"
     ]
    },
    {
     "cell_type": "markdown",
     "metadata": {},
     "source": [
      "Python offre la possibilit\u00e9 de r\u00e9aliser une r\u00e9pr\u00e9sentation graphique en utilisant le module [matplotlib](http://matplotlib.org/). Voici un exemple d'utilisation de ce module pour repr\u00e9senter les points $(x, y)$ et la droite de r\u00e9gression pr\u00e9c\u00e9demment d\u00e9termin\u00e9e."
     ]
    },
    {
     "cell_type": "markdown",
     "metadata": {},
     "source": [
      "Pour une utilisation dans ipython il faut d'abord pr\u00e9parer l'environnement pour int\u00e9grer matplotlib."
     ]
    },
    {
     "cell_type": "code",
     "collapsed": false,
     "input": [
      "%matplotlib inline"
     ],
     "language": "python",
     "metadata": {},
     "outputs": [],
     "prompt_number": 32
    },
    {
     "cell_type": "markdown",
     "metadata": {},
     "source": [
      "Chargeons le module ``matplotlib.``"
     ]
    },
    {
     "cell_type": "code",
     "collapsed": false,
     "input": [
      "import matplotlib.pyplot as plt"
     ],
     "language": "python",
     "metadata": {},
     "outputs": [],
     "prompt_number": 33
    },
    {
     "cell_type": "markdown",
     "metadata": {},
     "source": [
      "Pr\u00e9parons maintenant le graphique."
     ]
    },
    {
     "cell_type": "code",
     "collapsed": false,
     "input": [
      "plt.plot(x, y, \"bo\", label=\"donnees\") # les points (x, y) representes par des points\n",
      "plt.plot( # droite de regression\n",
      "    [x[0], x[-1]],                  # valeurs de x\n",
      "    [a * x[0] + b, a * x[-1] + b],  # valeurs de y\n",
      "    \"r-\",                           # couleur rouge avec un trait continu\n",
      "    label=\"regression\")             # legende\n",
      "plt.xlabel(\"x\") # nom de l'axe x\n",
      "plt.ylabel(\"y\") # nom de l'axe y\n",
      "plt.legend() # la legende\n",
      "plt.title(\"Regression Lineaire\") # titre de graphique"
     ],
     "language": "python",
     "metadata": {},
     "outputs": [
      {
       "metadata": {},
       "output_type": "pyout",
       "prompt_number": 34,
       "text": [
        "<matplotlib.text.Text at 0x7fe5f78b0358>"
       ]
      },
      {
       "metadata": {},
       "output_type": "display_data",
       "png": "[encoded data removed]",
       "text": [
        "<matplotlib.figure.Figure at 0x7fe5f78e9908>"
       ]
      }
     ],
     "prompt_number": 34
    },
    {
     "cell_type": "heading",
     "level": 2,
     "metadata": {},
     "source": [
      "Pour aller plus loin : les r\u00e9sidus"
     ]
    },
    {
     "cell_type": "markdown",
     "metadata": {},
     "source": [
      "Nous allons maintenant utiliser les m\u00e9thodes vues pr\u00e9c\u00e9demment sur un \u00e9chantillon plus large. De plus, nous repr\u00e9senterons les r\u00e9sidus qui correspondent \u00e0 la diff\u00e9rence entre les points issus des donn\u00e9es et la droite obtenue par la r\u00e9gression lin\u00e9aire.\n",
      "\n",
      "Commen\u00e7ons par lire les donn\u00e9es dans le fichier ``regLinData.dat``"
     ]
    },
    {
     "cell_type": "code",
     "collapsed": false,
     "input": [
      "x, y = np.loadtxt(\"data/regLinData.dat\", unpack=True)"
     ],
     "language": "python",
     "metadata": {},
     "outputs": [],
     "prompt_number": 35
    },
    {
     "cell_type": "markdown",
     "metadata": {},
     "source": [
      "Utilisons maintenant la fonction ``linregress`` pour trouver les param\u00e8tres de la r\u00e9gression lin\u00e9aire :"
     ]
    },
    {
     "cell_type": "code",
     "collapsed": false,
     "input": [
      "a, b, r, p_vall, std_err = linregress(x, y)\n",
      "print(\"a = \", a, \" b = \", b, \" r^2 = \", r**2)"
     ],
     "language": "python",
     "metadata": {},
     "outputs": [
      {
       "output_type": "stream",
       "stream": "stdout",
       "text": [
        "a =  2.8778150933  b =  1.06938428687  r^2 =  0.991859700018\n"
       ]
      }
     ],
     "prompt_number": 36
    },
    {
     "cell_type": "markdown",
     "metadata": {},
     "source": [
      "Nous allons maintenant visualiser les points et la droite de r\u00e9gression dans un premier graphique, puis, les r\u00e9sidus dans un second graphique. Pour ce faire, nous utiliserons la m\u00e9thode ``subplot`` de ``matplotlib`` qui place des graphiques sur une grille. Les trois arguments de ``subplot`` sont le nombre de lignes, le nombre de colonnes et le num\u00e9ro du graphique."
     ]
    },
    {
     "cell_type": "code",
     "collapsed": false,
     "input": [
      "# graphique 1: les donn\u00e9es et la droite de r\u00e9gression\n",
      "plt.subplot(2, 1, 1)\n",
      "plt.plot(x, y, \"bo\", label=\"data\")\n",
      "plt.plot(x, a * x + b, \"r-\", label=\"regression\")\n",
      "plt.legend(loc=\"lower right\")\n",
      "# graphique 2: les r\u00e9sidus\n",
      "plt.subplot(2, 1, 2)\n",
      "plt.plot(x, y - (a * x + b), \"g-\", label=\"residus\")\n",
      "plt.legend(loc=\"upper center\")"
     ],
     "language": "python",
     "metadata": {},
     "outputs": [
      {
       "metadata": {},
       "output_type": "pyout",
       "prompt_number": 37,
       "text": [
        "<matplotlib.legend.Legend at 0x7fe5f7806cc0>"
       ]
      },
      {
       "metadata": {},
       "output_type": "display_data",
       "png": "[encoded data removed]",
       "text": [
        "<matplotlib.figure.Figure at 0x7fe5f7632ac8>"
       ]
      }
     ],
     "prompt_number": 37
    },
    {
     "cell_type": "markdown",
     "metadata": {},
     "source": [
      "Les r\u00e9sidus sont un bon indicateur de la qualit\u00e9 du mod\u00e8le. Ici, on dit que les r\u00e9sidus sont 'structur\u00e9s'. Ils ne sont pas al\u00e9atoirement r\u00e9partis autour de z\u00e9ro, ils pr\u00e9sentent une variation parabolique. Cette structure des r\u00e9sidus indique qu'une fonction affine n'est pas adapt\u00e9e pour repr\u00e9senter les donn\u00e9es.\n",
      "\n",
      "Utilisons la m\u00e9thode ``polyfit`` pour ajuster une parabolle :"
     ]
    },
    {
     "cell_type": "code",
     "collapsed": false,
     "input": [
      "p0, p1, p2 = np.polyfit(x, y, 2)\n",
      "print(\"p0 = \", p0, \" p1 = \", p1, \" p2 = \", p2)"
     ],
     "language": "python",
     "metadata": {},
     "outputs": [
      {
       "output_type": "stream",
       "stream": "stdout",
       "text": [
        "p0 =  0.075725341459  p1 =  2.04483633725  p2 =  2.8437926618\n"
       ]
      }
     ],
     "prompt_number": 38
    },
    {
     "cell_type": "markdown",
     "metadata": {},
     "source": [
      "Reprennons les lignes pr\u00e9c\u00e9dentes pour repr\u00e9senter les donn\u00e9es graphiquement."
     ]
    },
    {
     "cell_type": "code",
     "collapsed": false,
     "input": [
      "# graphique 1: les donn\u00e9es et la droite de r\u00e9gression\n",
      "plt.subplot(2, 1, 1)\n",
      "plt.plot(x, y, \"bo\", label=\"data\")\n",
      "plt.plot(x, p0*x**2 + p1*x + p2, \"r-\", label=\"parabolle\")\n",
      "plt.legend(loc=\"lower right\")\n",
      "# graphique 2: les r\u00e9sidus\n",
      "plt.subplot(2, 1, 2)\n",
      "plt.plot(x, y - (p0*x**2 + p1*x + p2), \"g-\", label=\"residus\")\n",
      "plt.legend(loc=\"upper center\")"
     ],
     "language": "python",
     "metadata": {},
     "outputs": [
      {
       "metadata": {},
       "output_type": "pyout",
       "prompt_number": 39,
       "text": [
        "<matplotlib.legend.Legend at 0x7fe5f7748128>"
       ]
      },
      {
       "metadata": {},
       "output_type": "display_data",
       "png": "[encoded data removed]",
       "text": [
        "<matplotlib.figure.Figure at 0x7fe5f77c3048>"
       ]
      }
     ],
     "prompt_number": 39
    },
    {
     "cell_type": "markdown",
     "metadata": {},
     "source": [
      "Cette fois, les r\u00e9sidus sont bien r\u00e9partis al\u00e9atoirement autour de l'origine. Calculons le coefficient de d\u00e9termination selon\n",
      "\\begin{equation}\n",
      "    R^2 = \\frac{\\sum_k (y^{calc}_k - \\overline{y})^2}{\\sum_k (y_k - \\overline{y})^2}\n",
      "\\end{equation}\n",
      "o\u00f9 les $y_k$ sont les donn\u00e9es, les $y^{calc}$ sont ceux calcul\u00e9s avec le polyn\u00f4mes et $\\overline{y}$ est la moyenne des valeurs $y_k$."
     ]
    },
    {
     "cell_type": "code",
     "collapsed": false,
     "input": [
      "R2 = ((p0*x**2 + p1*x + p2 - y.mean())**2).sum() / ((y - y.mean())**2).sum()\n",
      "print(R2)"
     ],
     "language": "python",
     "metadata": {},
     "outputs": [
      {
       "output_type": "stream",
       "stream": "stdout",
       "text": [
        "0.995605211387\n"
       ]
      }
     ],
     "prompt_number": 40
    },
    {
     "cell_type": "markdown",
     "metadata": {},
     "source": [
      "Comme attendu le coefficient de d\u00e9termination est meilleur que celui obtenu pour la droite (0.9916). Pour information, la fonction utilis\u00e9e pour produire les donn\u00e9es du fichier ``regLinData.dat`` est :\n",
      "\\begin{equation}\n",
      "    f(x) = 0.08 x^2 + 2x + 3 + \\hat{g}(X)\n",
      "\\end{equation}\n",
      "o\u00f9 $\\hat{g}(X)$ est un bruit gaussien obtenu par le tirage de nombres al\u00e9atoires dans une distribution gaussienne centr\u00e9e en z\u00e9ro et de largeur 2."
     ]
    },
    {
     "cell_type": "heading",
     "level": 2,
     "metadata": {},
     "source": [
      "Conclusion"
     ]
    },
    {
     "cell_type": "markdown",
     "metadata": {},
     "source": [
      "Ce TP est termin\u00e9. D'un point de vue th\u00e9orique il permet de d\u00e9couvrir ou r\u00e9viser la regression lin\u00e9aire. D'un point de vue pratique, il vous a permis de mettre en pratique la syntaxe du langage python et d'utiliser des modules tels que ``numpy``, ``scipy`` ou ``matplotlib``."
     ]
    }
   ],
   "metadata": {}
  }
 ]
}