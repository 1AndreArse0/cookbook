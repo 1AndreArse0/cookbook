{
 "cells": [
  {
   "cell_type": "markdown",
   "metadata": {},
   "source": [
    "# Fit with Orthogonal distance regression\n",
    "\n",
    "Example from http://stackoverflow.com/questions/26058792/correct-fitting-with-scipy-curve-fit-including-errors-in-x/26085136#26085136"
   ]
  },
  {
   "cell_type": "code",
   "execution_count": 1,
   "metadata": {
    "collapsed": true
   },
   "outputs": [],
   "source": [
    "# manage data and fit\n",
    "import pandas as pd\n",
    "import numpy as np\n",
    "\n",
    "# scipy ODR : orthogonal distance regression\n",
    "from scipy.odr import ODR, Model, Data, RealData\n",
    "\n",
    "# style and notebook integration of the plots\n",
    "import matplotlib.pyplot as plt \n",
    "import seaborn as sns\n",
    "%matplotlib inline \n",
    "sns.set(style=\"whitegrid\")"
   ]
  },
  {
   "cell_type": "code",
   "execution_count": 2,
   "metadata": {
    "collapsed": true
   },
   "outputs": [],
   "source": [
    "def func(beta, x):\n",
    "    y = beta[0]+beta[1]*x+beta[2]*x**3\n",
    "    return y"
   ]
  },
  {
   "cell_type": "markdown",
   "metadata": {},
   "source": [
    "## generate data"
   ]
  },
  {
   "cell_type": "code",
   "execution_count": 3,
   "metadata": {
    "collapsed": false
   },
   "outputs": [],
   "source": [
    "npts = 100\n",
    "np.random.seed(160810)\n",
    "x = np.linspace(-3, 2, npts)\n",
    "y = func([-2.3, 7.0, -4.0], x)\n",
    "\n",
    "sigma_x = .3\n",
    "sigma_y = 2\n",
    "\n",
    "# add some noise\n",
    "x += np.random.normal(scale=sigma_x, size=100)\n",
    "y += np.random.normal(scale=sigma_y, size=100)"
   ]
  },
  {
   "cell_type": "markdown",
   "metadata": {},
   "source": [
    "## Define model"
   ]
  },
  {
   "cell_type": "code",
   "execution_count": 4,
   "metadata": {
    "collapsed": true
   },
   "outputs": [],
   "source": [
    "data = RealData(x, y, 0.3, 0.1)\n",
    "model = Model(func)\n",
    "odr = ODR(data, model, [1,0,0])"
   ]
  },
  {
   "cell_type": "markdown",
   "metadata": {},
   "source": [
    "## Least squarre fit"
   ]
  },
  {
   "cell_type": "code",
   "execution_count": 5,
   "metadata": {
    "collapsed": false
   },
   "outputs": [
    {
     "name": "stdout",
     "output_type": "stream",
     "text": [
      "         stop reason: ['Iteration limit reached']\n",
      "              params: [-2.09368488  6.0257117  -2.54574759]\n",
      "                info: 4\n",
      "Sum of squares error: 5405.197746282522\n",
      "             sd_beta: [ 0.22559351  0.80177874  0.95293199]\n",
      "      sqrt(diag(cov): [ 0.03022085  0.1074075   0.12765622]\n",
      "\n",
      "Restart ODR till convergence is reached\n",
      "restart   1 5405.1977463\n",
      "restart   2 4325.2070339\n",
      "restart   3 1045.5356553\n",
      "restart   4  743.3175690\n",
      "restart   5  710.8233373\n",
      "restart   6  682.0088933\n",
      "restart   7  602.7134451\n",
      "restart   8  578.8585227\n",
      "restart   9  558.9136790\n",
      "restart  10  539.9567887\n",
      "restart  11  522.0568694\n",
      "restart  12  505.0221792\n",
      "restart  13  488.8286431\n",
      "restart  14  473.3871052\n",
      "restart  15  458.6550721\n",
      "restart  16  444.5728008\n",
      "restart  17  431.1303083\n",
      "restart  18  418.2785524\n",
      "restart  19  406.0148268\n",
      "restart  20  394.2378398\n",
      "restart  21  383.0217229\n",
      "restart  22  372.3116187\n",
      "restart  23  362.0182202\n",
      "restart  24  352.2750168\n",
      "restart  25  342.8414632\n",
      "restart  26  333.9524660\n",
      "restart  27  325.3301467\n",
      "restart  28  317.2122579\n",
      "restart  29  309.3065211\n",
      "restart  30  301.8936369\n",
      "restart  31  294.6241475\n",
      "restart  32  287.8565250\n",
      "restart  33  281.1543201\n",
      "restart  34  274.9756621\n",
      "restart  35  250.7690432\n",
      "restart  36  245.9163778\n",
      "restart  37  241.1998286\n",
      "restart  38  236.6336790\n",
      "restart  39  232.2524033\n",
      "restart  40  228.0534695\n",
      "restart  41  224.0110504\n",
      "restart  42  220.1177572\n",
      "restart  43  216.3814990\n",
      "restart  44  212.8300817\n",
      "restart  45  209.4103793\n",
      "restart  46  206.1065870\n",
      "restart  47  202.9507254\n",
      "restart  48  199.9235477\n",
      "restart  49  197.0054147\n",
      "restart  50  194.2163804\n",
      "restart  51  191.5362613\n",
      "restart  52  188.9598303\n",
      "restart  53  186.4947133\n",
      "restart  54  184.1129010\n",
      "restart  55  181.8341270\n",
      "restart  56  179.6356961\n",
      "restart  57  177.5532439\n",
      "restart  58  175.5140346\n",
      "restart  59  173.5668132\n",
      "restart  60  171.6843892\n",
      "restart  61  169.8962720\n",
      "restart  62  168.1662248\n",
      "restart  63  166.5032540\n",
      "restart  64  164.8891762\n",
      "restart  65  163.3493519\n",
      "restart  66  161.8492549\n",
      "restart  67  160.3945986\n",
      "restart  68  157.0580837\n",
      "restart  69  153.3941930\n",
      "restart  70  149.0470063\n",
      "restart  71  148.1832034\n",
      "restart  72  146.9758074\n",
      "restart  73  145.7639864\n",
      "restart  74  145.2494874\n",
      "restart  75  145.1131538\n",
      "restart  76  145.0754139\n",
      "restart  77  145.0461410\n",
      "restart  78  144.9885690\n",
      "restart  79  144.9623475\n",
      "restart  80  144.9537335\n",
      "restart  81  144.9443404\n",
      "restart  82  144.9438557\n",
      "restart  83  144.9434179\n",
      "restart  84  144.9430670\n",
      "restart  85  144.9430219\n",
      "restart  86  144.9429878\n",
      "restart  87  144.9429137\n",
      "         stop reason: ['Sum of squares convergence']\n",
      "              params: [ -2.01039971  12.55629008  -6.06416408]\n",
      "                info: 1\n",
      "Sum of squares error: 144.94291057820132\n",
      "             sd_beta: [ 0.48021907  0.89693549  0.49629295]\n",
      "      sqrt(diag(cov): [ 0.39285002  0.7337508   0.40599949]\n"
     ]
    }
   ],
   "source": [
    "odr.set_job(fit_type=0)\n",
    "lsq_output = odr.run()\n",
    "print(\"         stop reason:\", lsq_output.stopreason)\n",
    "print(\"              params:\", lsq_output.beta)\n",
    "print(\"                info:\", lsq_output.info)\n",
    "print(\"Sum of squares error:\", lsq_output.sum_square)\n",
    "print(\"             sd_beta:\", lsq_output.sd_beta)\n",
    "print(\"      sqrt(diag(cov):\", np.sqrt(np.diag(lsq_output.cov_beta)))\n",
    "\n",
    "# check convergence and run again the algorithm if it is not reached\n",
    "if lsq_output.info != 1:\n",
    "    print(\"\\nRestart ODR till convergence is reached\")\n",
    "    i = 1\n",
    "    while lsq_output.info != 1 and i < 100:\n",
    "        print(\"restart %3d %12.7f\" % (i, lsq_output.sum_square))\n",
    "        lsq_output = odr.restart()\n",
    "        i += 1\n",
    "    print(\"         stop reason:\", lsq_output.stopreason)\n",
    "    print(\"              params:\", lsq_output.beta)\n",
    "    print(\"                info:\", lsq_output.info)\n",
    "    print(\"Sum of squares error:\", lsq_output.sum_square)\n",
    "    print(\"             sd_beta:\", lsq_output.sd_beta)\n",
    "    print(\"      sqrt(diag(cov):\", np.sqrt(np.diag(lsq_output.cov_beta)))"
   ]
  },
  {
   "cell_type": "code",
   "execution_count": 6,
   "metadata": {
    "collapsed": false
   },
   "outputs": [
    {
     "name": "stdout",
     "output_type": "stream",
     "text": [
      "Beta: [ -2.01039971  12.55629008  -6.06416408]\n",
      "Beta Std Error: [ 0.48021907  0.89693549  0.49629295]\n",
      "Beta Covariance: [[ 0.15433114  0.15842579 -0.04105628]\n",
      " [ 0.15842579  0.53839023 -0.21754393]\n",
      " [-0.04105628 -0.21754393  0.16483558]]\n",
      "Residual Variance: 1.4942568100845495\n",
      "Inverse Condition #: 0.037046778050718744\n",
      "Reason(s) for Halting:\n",
      "  Sum of squares convergence\n"
     ]
    }
   ],
   "source": [
    "lsq_output.pprint()"
   ]
  },
  {
   "cell_type": "markdown",
   "metadata": {},
   "source": [
    "## ODR fit"
   ]
  },
  {
   "cell_type": "code",
   "execution_count": 7,
   "metadata": {
    "collapsed": false
   },
   "outputs": [
    {
     "name": "stdout",
     "output_type": "stream",
     "text": [
      "         stop reason: ['Sum of squares convergence']\n",
      "              params: [-1.15111597  4.5357938  -3.34692538]\n",
      "                info: 1\n",
      "Sum of squares error: 821948.608722443\n",
      "             sd_beta: [ 1.00126769  1.25522586  0.23236659]\n",
      "      sqrt(diag(cov): [ 0.01087712  0.01363595  0.00252428]\n"
     ]
    }
   ],
   "source": [
    "odr = ODR(data, model, [1,0,0])\n",
    "odr.set_job(fit_type=2)\n",
    "odr_output = odr.run()\n",
    "print(\"         stop reason:\", odr_output.stopreason)\n",
    "print(\"              params:\", odr_output.beta)\n",
    "print(\"                info:\", odr_output.info)\n",
    "print(\"Sum of squares error:\", odr_output.sum_square)\n",
    "print(\"             sd_beta:\", odr_output.sd_beta)\n",
    "print(\"      sqrt(diag(cov):\", np.sqrt(np.diag(odr_output.cov_beta)))\n",
    "\n",
    "# check convergence and run again the algorithm if it is not reached\n",
    "if odr_output.info != 1:\n",
    "    print(\"\\nRestart ODR till convergence is reached\")\n",
    "    i = 1\n",
    "    while odr_output.info != 1 and i < 100:\n",
    "        print(\"restart\", i)\n",
    "        odr_output = odr.restart()\n",
    "        i += 1\n",
    "    print(\"         stop reason:\", odr_output.stopreason)\n",
    "    print(\"              params:\", odr_output.beta)\n",
    "    print(\"                info:\", odr_output.info)\n",
    "    print(\"Sum of squares error:\", odr_output.sum_square)\n",
    "    print(\"             sd_beta:\", odr_output.sd_beta)\n",
    "    print(\"      sqrt(diag(cov):\", np.sqrt(np.diag(odr_output.cov_beta)))"
   ]
  },
  {
   "cell_type": "markdown",
   "metadata": {},
   "source": [
    "## Plot"
   ]
  },
  {
   "cell_type": "code",
   "execution_count": 8,
   "metadata": {
    "collapsed": false
   },
   "outputs": [
    {
     "data": {
      "text/plain": [
       "<matplotlib.legend.Legend at 0x117930f28>"
      ]
     },
     "execution_count": 8,
     "metadata": {},
     "output_type": "execute_result"
    },
    {
     "data": {
      "image/png": "[encoded data removed]",
      "text/plain": [
       "<matplotlib.figure.Figure at 0x1154c0a20>"
      ]
     },
     "metadata": {},
     "output_type": "display_data"
    }
   ],
   "source": [
    "xn = np.linspace(-3, 2, 50)\n",
    "\n",
    "plt.errorbar(x, y, marker=\"o\", linestyle=\"\", label=\"data\", xerr=sigma_x, yerr=sigma_y, elinewidth=1, capthick=1)\n",
    "plt.plot(xn, func(lsq_output.beta, xn), label='leastsq')\n",
    "plt.plot(xn, func(odr_output.beta, xn), label='odr')\n",
    "plt.legend()"
   ]
  }
 ],
 "metadata": {
  "anaconda-cloud": {},
  "kernelspec": {
   "display_name": "Python [default]",
   "language": "python",
   "name": "python3"
  },
  "language_info": {
   "codemirror_mode": {
    "name": "ipython",
    "version": 3
   },
   "file_extension": ".py",
   "mimetype": "text/x-python",
   "name": "python",
   "nbconvert_exporter": "python",
   "pygments_lexer": "ipython3",
   "version": "3.5.2"
  }
 },
 "nbformat": 4,
 "nbformat_minor": 1
}
