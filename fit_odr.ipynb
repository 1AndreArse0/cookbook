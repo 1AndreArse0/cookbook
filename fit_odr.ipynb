{
 "cells": [
  {
   "cell_type": "markdown",
   "metadata": {},
   "source": [
    "# Fit with Orthogonal distance regression\n",
    "\n",
    "Example from http://stackoverflow.com/questions/26058792/correct-fitting-with-scipy-curve-fit-including-errors-in-x/26085136#26085136"
   ]
  },
  {
   "cell_type": "code",
   "execution_count": 1,
   "metadata": {
    "collapsed": true
   },
   "outputs": [],
   "source": [
    "# manage data and fit\n",
    "import pandas as pd\n",
    "import numpy as np\n",
    "\n",
    "# scipy ODR : orthogonal distance regression\n",
    "from scipy.odr import ODR, Model, Data, RealData\n",
    "\n",
    "# style and notebook integration of the plots\n",
    "import matplotlib.pyplot as plt \n",
    "import seaborn as sns\n",
    "%matplotlib inline \n",
    "sns.set(style=\"whitegrid\")"
   ]
  },
  {
   "cell_type": "code",
   "execution_count": 2,
   "metadata": {
    "collapsed": true
   },
   "outputs": [],
   "source": [
    "def func(beta, x):\n",
    "    y = beta[0]+beta[1]*x+beta[2]*x**3\n",
    "    return y"
   ]
  },
  {
   "cell_type": "markdown",
   "metadata": {},
   "source": [
    "## generate data"
   ]
  },
  {
   "cell_type": "code",
   "execution_count": 38,
   "metadata": {
    "collapsed": false
   },
   "outputs": [],
   "source": [
    "npts = 100\n",
    "x = np.linspace(-3, 2, npts)\n",
    "y = func([-2.3, 7.0, -4.0], x)\n",
    "\n",
    "sigma_x = .3\n",
    "sigma_y = 2\n",
    "\n",
    "# add some noise\n",
    "x += np.random.normal(scale=sigma_x, size=100)\n",
    "y += np.random.normal(scale=sigma_y, size=100)"
   ]
  },
  {
   "cell_type": "markdown",
   "metadata": {},
   "source": [
    "## Define model"
   ]
  },
  {
   "cell_type": "code",
   "execution_count": 39,
   "metadata": {
    "collapsed": true
   },
   "outputs": [],
   "source": [
    "data = RealData(x, y, 0.3, 0.1)\n",
    "model = Model(func)\n",
    "odr = ODR(data, model, [1,0,0])"
   ]
  },
  {
   "cell_type": "markdown",
   "metadata": {},
   "source": [
    "## Least squarre fit"
   ]
  },
  {
   "cell_type": "code",
   "execution_count": 40,
   "metadata": {
    "collapsed": false
   },
   "outputs": [
    {
     "name": "stdout",
     "output_type": "stream",
     "text": [
      "   stop reason: ['Iteration limit reached']\n",
      "        params: [-1.73144982  3.43753604 -2.31954451]\n",
      "          info: 4\n",
      "       sd_beta: [ 0.32819391  1.01215318  1.80529069]\n",
      "sqrt(diag(cov): [ 0.02256626  0.06959458  0.12412987]\n",
      "\n",
      "Restart ODR till convergence is reached\n",
      "restart 1\n",
      "restart 2\n",
      "restart 3\n",
      "restart 4\n",
      "restart 5\n",
      "restart 6\n",
      "restart 7\n",
      "restart 8\n",
      "restart 9\n",
      "restart 10\n",
      "restart 11\n",
      "restart 12\n",
      "restart 13\n",
      "restart 14\n",
      "restart 15\n",
      "restart 16\n",
      "restart 17\n",
      "restart 18\n",
      "restart 19\n",
      "restart 20\n",
      "restart 21\n",
      "restart 22\n",
      "restart 23\n",
      "restart 24\n",
      "restart 25\n",
      "restart 26\n",
      "restart 27\n",
      "restart 28\n",
      "restart 29\n",
      "restart 30\n",
      "restart 31\n",
      "restart 32\n",
      "restart 33\n",
      "restart 34\n",
      "restart 35\n",
      "restart 36\n",
      "restart 37\n",
      "restart 38\n",
      "restart 39\n",
      "restart 40\n",
      "restart 41\n",
      "restart 42\n",
      "restart 43\n",
      "restart 44\n",
      "restart 45\n",
      "restart 46\n",
      "restart 47\n",
      "restart 48\n",
      "restart 49\n",
      "restart 50\n",
      "restart 51\n",
      "restart 52\n",
      "restart 53\n",
      "restart 54\n",
      "restart 55\n",
      "restart 56\n",
      "restart 57\n",
      "restart 58\n",
      "restart 59\n",
      "restart 60\n",
      "restart 61\n",
      "restart 62\n",
      "restart 63\n",
      "restart 64\n",
      "restart 65\n",
      "restart 66\n",
      "restart 67\n",
      "restart 68\n",
      "restart 69\n",
      "restart 70\n",
      "restart 71\n",
      "restart 72\n",
      "restart 73\n",
      "restart 74\n",
      "restart 75\n",
      "restart 76\n",
      "restart 77\n",
      "restart 78\n",
      "restart 79\n",
      "restart 80\n",
      "restart 81\n",
      "restart 82\n",
      "restart 83\n",
      "restart 84\n",
      "restart 85\n",
      "restart 86\n",
      "restart 87\n",
      "restart 88\n",
      "restart 89\n",
      "restart 90\n",
      "restart 91\n",
      "restart 92\n",
      "restart 93\n",
      "restart 94\n",
      "restart 95\n",
      "restart 96\n",
      "restart 97\n",
      "restart 98\n",
      "restart 99\n",
      "   stop reason: ['Iteration limit reached']\n",
      "        params: [-1.79559282  9.35435362 -2.91152783]\n",
      "          info: 4\n",
      "       sd_beta: [ 0.18431723  0.41428826  0.3268186 ]\n",
      "sqrt(diag(cov): [ 0.08001007  0.17983795  0.14186834]\n"
     ]
    }
   ],
   "source": [
    "odr.set_job(fit_type=0)\n",
    "lsq_output = odr.run()\n",
    "print(\"   stop reason:\", lsq_output.stopreason)\n",
    "print(\"        params:\", lsq_output.beta)\n",
    "print(\"          info:\", lsq_output.info)\n",
    "print(\"       sd_beta:\", lsq_output.sd_beta)\n",
    "print(\"sqrt(diag(cov):\", np.sqrt(np.diag(lsq_output.cov_beta)))\n",
    "if lsq_output.info != 1:\n",
    "    print(\"\\nRestart ODR till convergence is reached\")\n",
    "    i = 1\n",
    "    while lsq_output.info != 1 and i < 100:\n",
    "        print(\"restart\", i)\n",
    "        lsq_output = odr.restart()\n",
    "        i += 1\n",
    "    print(\"   stop reason:\", lsq_output.stopreason)\n",
    "    print(\"        params:\", lsq_output.beta)\n",
    "    print(\"          info:\", lsq_output.info)\n",
    "    print(\"       sd_beta:\", lsq_output.sd_beta)\n",
    "    print(\"sqrt(diag(cov):\", np.sqrt(np.diag(lsq_output.cov_beta)))"
   ]
  },
  {
   "cell_type": "code",
   "execution_count": 41,
   "metadata": {
    "collapsed": false
   },
   "outputs": [
    {
     "name": "stdout",
     "output_type": "stream",
     "text": [
      "Beta: [-1.79559282  9.35435362 -2.91152783]\n",
      "Beta Std Error: [ 0.18431723  0.41428826  0.3268186 ]\n",
      "Beta Covariance: [[ 0.00640161 -0.00066291  0.00074793]\n",
      " [-0.00066291  0.03234169 -0.02301626]\n",
      " [ 0.00074793 -0.02301626  0.02012663]]\n",
      "Residual Variance: 5.306920024122882\n",
      "Inverse Condition #: 0.030501851722070105\n",
      "Reason(s) for Halting:\n",
      "  Iteration limit reached\n"
     ]
    }
   ],
   "source": [
    "lsq_output.pprint()"
   ]
  },
  {
   "cell_type": "markdown",
   "metadata": {},
   "source": [
    "## ODR fit"
   ]
  },
  {
   "cell_type": "code",
   "execution_count": 42,
   "metadata": {
    "collapsed": false
   },
   "outputs": [
    {
     "name": "stdout",
     "output_type": "stream",
     "text": [
      "   stop reason: ['Sum of squares convergence']\n",
      "        params: [-0.29342775  2.23199433 -2.71725414]\n",
      "          info: 1\n",
      "       sd_beta: [ 0.89783414  1.04615002  0.17658797]\n",
      "sqrt(diag(cov): [ 0.01069308  0.0124595   0.00210314]\n"
     ]
    }
   ],
   "source": [
    "odr = ODR(data, model, [1,0,0])\n",
    "odr.set_job(fit_type=2)\n",
    "odr_output = odr.run()\n",
    "print(\"   stop reason:\", odr_output.stopreason)\n",
    "print(\"        params:\", odr_output.beta)\n",
    "print(\"          info:\", odr_output.info)\n",
    "print(\"       sd_beta:\", odr_output.sd_beta)\n",
    "print(\"sqrt(diag(cov):\", np.sqrt(np.diag(odr_output.cov_beta)))\n",
    "if odr_output.info != 1:\n",
    "    print(\"\\nRestart ODR till convergence is reached\")\n",
    "    i = 1\n",
    "    while odr_output.info != 1 and i < 100:\n",
    "        print(\"restart\", i)\n",
    "        odr_output = odr.restart()\n",
    "        i += 1\n",
    "    print(\"   stop reason:\", odr_output.stopreason)\n",
    "    print(\"        params:\", odr_output.beta)\n",
    "    print(\"          info:\", odr_output.info)\n",
    "    print(\"       sd_beta:\", odr_output.sd_beta)\n",
    "    print(\"sqrt(diag(cov):\", np.sqrt(np.diag(odr_output.cov_beta)))"
   ]
  },
  {
   "cell_type": "markdown",
   "metadata": {},
   "source": [
    "## Plot"
   ]
  },
  {
   "cell_type": "code",
   "execution_count": 43,
   "metadata": {
    "collapsed": false
   },
   "outputs": [
    {
     "data": {
      "text/plain": [
       "<matplotlib.legend.Legend at 0x1184a8908>"
      ]
     },
     "execution_count": 43,
     "metadata": {},
     "output_type": "execute_result"
    },
    {
     "data": {
      "image/png": "[encoded data removed]",
      "text/plain": [
       "<matplotlib.figure.Figure at 0x11944f160>"
      ]
     },
     "metadata": {},
     "output_type": "display_data"
    }
   ],
   "source": [
    "xn = np.linspace(-3, 2, 50)\n",
    "\n",
    "plt.errorbar(x, y, marker=\"o\", linestyle=\"\", label=\"data\", xerr=sigma_x, yerr=sigma_y, elinewidth=1, capthick=1)\n",
    "plt.plot(xn, func(lsq_output.beta, xn), label='leastsq')\n",
    "plt.plot(xn, func(odr_output.beta, xn), label='odr')\n",
    "plt.legend()"
   ]
  }
 ],
 "metadata": {
  "anaconda-cloud": {},
  "kernelspec": {
   "display_name": "Python [default]",
   "language": "python",
   "name": "python3"
  },
  "language_info": {
   "codemirror_mode": {
    "name": "ipython",
    "version": 3
   },
   "file_extension": ".py",
   "mimetype": "text/x-python",
   "name": "python",
   "nbconvert_exporter": "python",
   "pygments_lexer": "ipython3",
   "version": "3.5.2"
  }
 },
 "nbformat": 4,
 "nbformat_minor": 1
}
