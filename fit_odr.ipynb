{
 "cells": [
  {
   "cell_type": "code",
   "execution_count": 1,
   "metadata": {
    "collapsed": true
   },
   "outputs": [],
   "source": [
    "# manage data and fit\n",
    "import pandas as pd\n",
    "import numpy as np\n",
    "\n",
    "# scipy ODR : orthogonal distance regression\n",
    "from scipy.odr import ODR, Model, Data, RealData\n",
    "\n",
    "# style and notebook integration of the plots\n",
    "import matplotlib.pyplot as plt \n",
    "import seaborn as sns\n",
    "%matplotlib inline \n",
    "sns.set(style=\"whitegrid\")"
   ]
  },
  {
   "cell_type": "code",
   "execution_count": 2,
   "metadata": {
    "collapsed": true
   },
   "outputs": [],
   "source": [
    "def func(beta, x):\n",
    "    y = beta[0]+beta[1]*x+beta[2]*x**3\n",
    "    return y"
   ]
  },
  {
   "cell_type": "markdown",
   "metadata": {},
   "source": [
    "## generate data"
   ]
  },
  {
   "cell_type": "code",
   "execution_count": 16,
   "metadata": {
    "collapsed": false
   },
   "outputs": [],
   "source": [
    "npts = 100\n",
    "x = np.linspace(-3, 2, npts)\n",
    "y = func([-2.3, 7.0, -4.0], x)\n",
    "\n",
    "sigma_x = .3\n",
    "sigma_y = .1\n",
    "\n",
    "# add some noise\n",
    "x += np.random.normal(scale=sigma_x, size=100)\n",
    "y += np.random.normal(scale=sigma_y, size=100)"
   ]
  },
  {
   "cell_type": "markdown",
   "metadata": {},
   "source": [
    "## Define model"
   ]
  },
  {
   "cell_type": "code",
   "execution_count": 4,
   "metadata": {
    "collapsed": true
   },
   "outputs": [],
   "source": [
    "data = RealData(x, y, 0.3, 0.1)\n",
    "model = Model(func)\n",
    "odr = ODR(data, model, [1,0,0])"
   ]
  },
  {
   "cell_type": "markdown",
   "metadata": {},
   "source": [
    "## Least squarre fit"
   ]
  },
  {
   "cell_type": "code",
   "execution_count": 17,
   "metadata": {
    "collapsed": false
   },
   "outputs": [
    {
     "name": "stdout",
     "output_type": "stream",
     "text": [
      "   stop reason: ['Iteration limit reached']\n",
      "        params: [-2.22734832  6.75662616 -3.67176618]\n",
      "          info: 4\n",
      "       sd_beta: [ 0.07831558  0.20026305  0.26145497]\n",
      "sqrt(diag(cov): [ 0.06246561  0.15973262  0.20854016]\n",
      "\n",
      "Restart ODR till converg\n",
      "restart 1\n",
      "restart 2\n",
      "restart 3\n",
      "restart 4\n",
      "restart 5\n",
      "restart 6\n",
      "restart 7\n",
      "restart 8\n",
      "restart 9\n",
      "   stop reason: ['Sum of squares convergence']\n",
      "        params: [-2.44554153  7.66250065 -4.54786908]\n",
      "          info: 1\n",
      "       sd_beta: [ 0.22847093  0.44252551  0.34081546]\n",
      "sqrt(diag(cov): [ 0.20286159  0.39292277  0.30261341]\n"
     ]
    }
   ],
   "source": [
    "odr.set_job(fit_type=0)\n",
    "lsq_output = odr.run()\n",
    "print(\"   stop reason:\", lsq_output.stopreason)\n",
    "print(\"        params:\", lsq_output.beta)\n",
    "print(\"          info:\", lsq_output.info)\n",
    "print(\"       sd_beta:\", lsq_output.sd_beta)\n",
    "print(\"sqrt(diag(cov):\", np.sqrt(np.diag(lsq_output.cov_beta)))\n",
    "if lsq_output.info != 1:\n",
    "    print(\"\\nRestart ODR till convergence is reached\")\n",
    "    i = 1\n",
    "    while lsq_output.info != 1 and i < 100:\n",
    "        print(\"restart\", i)\n",
    "        lsq_output = odr.restart()\n",
    "        i += 1\n",
    "    print(\"   stop reason:\", lsq_output.stopreason)\n",
    "    print(\"        params:\", lsq_output.beta)\n",
    "    print(\"          info:\", lsq_output.info)\n",
    "    print(\"       sd_beta:\", lsq_output.sd_beta)\n",
    "    print(\"sqrt(diag(cov):\", np.sqrt(np.diag(lsq_output.cov_beta)))"
   ]
  },
  {
   "cell_type": "code",
   "execution_count": 6,
   "metadata": {
    "collapsed": false
   },
   "outputs": [
    {
     "name": "stdout",
     "output_type": "stream",
     "text": [
      "Beta: [-2.44554153  7.66250065 -4.54786908]\n",
      "Beta Std Error: [ 0.22847093  0.44252551  0.34081546]\n",
      "Beta Covariance: [[ 0.04115283 -0.05041786  0.02083095]\n",
      " [-0.05041786  0.1543883  -0.09039185]\n",
      " [ 0.02083095 -0.09039185  0.09157488]]\n",
      "Residual Variance: 1.2684175365667625\n",
      "Inverse Condition #: 0.02879855412231426\n",
      "Reason(s) for Halting:\n",
      "  Sum of squares convergence\n"
     ]
    }
   ],
   "source": [
    "lsq_output.pprint()"
   ]
  },
  {
   "cell_type": "markdown",
   "metadata": {},
   "source": [
    "## ODR fit"
   ]
  },
  {
   "cell_type": "code",
   "execution_count": 19,
   "metadata": {
    "collapsed": false
   },
   "outputs": [
    {
     "name": "stdout",
     "output_type": "stream",
     "text": [
      "   stop reason: ['Sum of squares convergence']\n",
      "        params: [-0.34485999  3.35835453 -2.95127547]\n",
      "          info: 1\n",
      "       sd_beta: [ 1.03492689  1.29665668  0.23179696]\n",
      "sqrt(diag(cov): [ 0.01074541  0.01346289  0.0024067 ]\n"
     ]
    }
   ],
   "source": [
    "odr = ODR(data, model, [1,0,0])\n",
    "odr.set_job(fit_type=2)\n",
    "odr_output = odr.run()\n",
    "print(\"   stop reason:\", odr_output.stopreason)\n",
    "print(\"        params:\", odr_output.beta)\n",
    "print(\"          info:\", odr_output.info)\n",
    "print(\"       sd_beta:\", odr_output.sd_beta)\n",
    "print(\"sqrt(diag(cov):\", np.sqrt(np.diag(odr_output.cov_beta)))\n",
    "if odr_output.info != 1:\n",
    "    print(\"\\nRestart ODR till convergence is reached\")\n",
    "    i = 1\n",
    "    while odr_output.info != 1 and i < 100:\n",
    "        print(\"restart\", i)\n",
    "        odr_output = odr.restart()\n",
    "        i += 1\n",
    "    print(\"   stop reason:\", odr_output.stopreason)\n",
    "    print(\"        params:\", odr_output.beta)\n",
    "    print(\"          info:\", odr_output.info)\n",
    "    print(\"       sd_beta:\", odr_output.sd_beta)\n",
    "    print(\"sqrt(diag(cov):\", np.sqrt(np.diag(odr_output.cov_beta)))"
   ]
  },
  {
   "cell_type": "markdown",
   "metadata": {},
   "source": [
    "## Plot"
   ]
  },
  {
   "cell_type": "code",
   "execution_count": 20,
   "metadata": {
    "collapsed": false
   },
   "outputs": [
    {
     "data": {
      "text/plain": [
       "<matplotlib.legend.Legend at 0x1182c5a58>"
      ]
     },
     "execution_count": 20,
     "metadata": {},
     "output_type": "execute_result"
    },
    {
     "data": {
      "image/png": "[encoded data removed]",
      "text/plain": [
       "<matplotlib.figure.Figure at 0x1154c3470>"
      ]
     },
     "metadata": {},
     "output_type": "display_data"
    }
   ],
   "source": [
    "xn = np.linspace(-3, 2, 50)\n",
    "\n",
    "plt.plot(x, y, marker=\"o\", linestyle=\"\", label=\"data\")\n",
    "plt.plot(xn, func(lsq_output.beta, xn), label='leastsq')\n",
    "plt.plot(xn, func(odr_output.beta, xn), label='odr')\n",
    "plt.legend()"
   ]
  }
 ],
 "metadata": {
  "anaconda-cloud": {},
  "kernelspec": {
   "display_name": "Python [default]",
   "language": "python",
   "name": "python3"
  },
  "language_info": {
   "codemirror_mode": {
    "name": "ipython",
    "version": 3
   },
   "file_extension": ".py",
   "mimetype": "text/x-python",
   "name": "python",
   "nbconvert_exporter": "python",
   "pygments_lexer": "ipython3",
   "version": "3.5.2"
  }
 },
 "nbformat": 4,
 "nbformat_minor": 1
}
