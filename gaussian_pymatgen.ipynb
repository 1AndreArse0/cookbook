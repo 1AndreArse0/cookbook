{
 "metadata": {
  "name": "",
  "signature": "sha256:9914e724284efec2ca1801f78b7f9e94a868977005339a4e8d1ba60e423703b3"
 },
 "nbformat": 3,
 "nbformat_minor": 0,
 "worksheets": [
  {
   "cells": [
    {
     "cell_type": "heading",
     "level": 1,
     "metadata": {},
     "source": [
      "Gaussian input/output treatments"
     ]
    },
    {
     "cell_type": "heading",
     "level": 2,
     "metadata": {},
     "source": [
      "using pymatgen library"
     ]
    },
    {
     "cell_type": "heading",
     "level": 3,
     "metadata": {},
     "source": [
      "import used modules and objects"
     ]
    },
    {
     "cell_type": "markdown",
     "metadata": {},
     "source": [
      "Load some pymatgen specific classes and module"
     ]
    },
    {
     "cell_type": "code",
     "collapsed": false,
     "input": [
      "import pymatgen as mg\n",
      "from pymatgen.io.gaussianio import GaussianInput, GaussianOutput"
     ],
     "language": "python",
     "metadata": {},
     "outputs": [],
     "prompt_number": 1
    },
    {
     "cell_type": "markdown",
     "metadata": {},
     "source": [
      "Image class of IPython for rendering pictures."
     ]
    },
    {
     "cell_type": "code",
     "collapsed": false,
     "input": [
      "from IPython.display import Image"
     ],
     "language": "python",
     "metadata": {},
     "outputs": [],
     "prompt_number": 2
    },
    {
     "cell_type": "heading",
     "level": 3,
     "metadata": {},
     "source": [
      "Generate gaussian inputs"
     ]
    },
    {
     "cell_type": "markdown",
     "metadata": {},
     "source": [
      "Hereafter is the docstring of the ```GaussianInput``` class."
     ]
    },
    {
     "cell_type": "code",
     "collapsed": false,
     "input": [
      "help(GaussianInput)"
     ],
     "language": "python",
     "metadata": {},
     "outputs": [
      {
       "output_type": "stream",
       "stream": "stdout",
       "text": [
        "Help on class GaussianInput in module pymatgen.io.gaussianio:\n",
        "\n",
        "class GaussianInput(builtins.object)\n",
        " |  An object representing a Gaussian input file.\n",
        " |  \n",
        " |  Args:\n",
        " |      mol: Input molecule. If molecule is a single string, it is used as a\n",
        " |          direct input to the geometry section of the Gaussian input\n",
        " |          file.\n",
        " |      charge: Charge of the molecule. If None, charge on molecule is used.\n",
        " |          Defaults to None. This allows the input file to be set a\n",
        " |          charge independently from the molecule itself.\n",
        " |      spin_multiplicity: Spin multiplicity of molecule. Defaults to None,\n",
        " |          which means that the spin multiplicity is set to 1 if the\n",
        " |          molecule has no unpaired electrons and to 2 if there are\n",
        " |          unpaired electrons.\n",
        " |      title: Title for run. Defaults to formula of molecule if None.\n",
        " |      functional: Functional for run.\n",
        " |      basis_set: Basis set for run.\n",
        " |      route_parameters: Additional route parameters as a dict. For example,\n",
        " |          {'SP':\"\", \"SCF\":\"Tight\"}\n",
        " |      input_parameters: Additional input parameters for run as a dict. Used\n",
        " |          for example, in PCM calculations.  E.g., {\"EPS\":12}\n",
        " |      link0_parameters: Link0 parameters as a dict. E.g., {\"%mem\": \"1000MW\"}\n",
        " |  \n",
        " |  Methods defined here:\n",
        " |  \n",
        " |  __init__(self, mol, charge=None, spin_multiplicity=None, title=None, functional='HF', basis_set='6-31G(d)', route_parameters=None, input_parameters=None, link0_parameters=None)\n",
        " |  \n",
        " |  __str__(self)\n",
        " |  \n",
        " |  as_dict(self)\n",
        " |  \n",
        " |  get_cart_coords(self)\n",
        " |      Return the cartesian coordinates of the molecule\n",
        " |  \n",
        " |  get_zmatrix(self)\n",
        " |      Returns a z-matrix representation of the molecule.\n",
        " |  \n",
        " |  to_string(self, cart_coords=False)\n",
        " |      Return GaussianInput string\n",
        " |      \n",
        " |      Option: whe cart_coords sets to True return the cartesian coordinates instead of the z-matrix\n",
        " |  \n",
        " |  write_file(self, filename, cart_coords=False)\n",
        " |      Write the input string into a file\n",
        " |      \n",
        " |      Option: see __str__ method\n",
        " |  \n",
        " |  ----------------------------------------------------------------------\n",
        " |  Class methods defined here:\n",
        " |  \n",
        " |  from_dict(d) from builtins.type\n",
        " |  \n",
        " |  ----------------------------------------------------------------------\n",
        " |  Static methods defined here:\n",
        " |  \n",
        " |  from_file(filename)\n",
        " |      Creates GaussianInput from a file.\n",
        " |      \n",
        " |      Args:\n",
        " |          filename: Gaussian input filename\n",
        " |      \n",
        " |      Returns:\n",
        " |          GaussianInput object\n",
        " |  \n",
        " |  from_string(contents)\n",
        " |      Creates GaussianInput from a string.\n",
        " |      \n",
        " |      Args:\n",
        " |          contents: String representing an Gaussian input file.\n",
        " |      \n",
        " |      Returns:\n",
        " |          GaussianInput object\n",
        " |  \n",
        " |  parse_coords(coord_lines)\n",
        " |      Helper method to parse coordinates.\n",
        " |  \n",
        " |  ----------------------------------------------------------------------\n",
        " |  Data descriptors defined here:\n",
        " |  \n",
        " |  __dict__\n",
        " |      dictionary for instance variables (if defined)\n",
        " |  \n",
        " |  __weakref__\n",
        " |      list of weak references to the object (if defined)\n",
        " |  \n",
        " |  molecule\n",
        " |      Returns molecule associated with this GaussianInput.\n",
        " |  \n",
        " |  ----------------------------------------------------------------------\n",
        " |  Data and other attributes defined here:\n",
        " |  \n",
        " |  xyz_patt = re.compile('^(\\\\w+)[\\\\s,]+([\\\\d\\\\.eE\\\\-]+)[\\\\s,]...\\\\-]+)[\\...\n",
        " |  \n",
        " |  zmat_patt = re.compile('^(\\\\w+)*([\\\\s,]+(\\\\w+)[\\\\s,]+(\\\\w+))*[\\\\-\\\\.\\\\...\n",
        "\n"
       ]
      }
     ],
     "prompt_number": 3
    },
    {
     "cell_type": "heading",
     "level": 4,
     "metadata": {},
     "source": [
      "Examples"
     ]
    },
    {
     "cell_type": "markdown",
     "metadata": {},
     "source": [
      "In this example, we get a $PO_2N^{2-}$ molecule and look for the best place for two Li atoms in the plane of the molecule. This example shows how to set up a Gaussian input file for all possible combinations. Coordinates of this molecule are available in xyz format :"
     ]
    },
    {
     "cell_type": "code",
     "collapsed": false,
     "input": [
      "mol = mg.Molecule.from_file(\"PO2N.xyz\")\n",
      "print(mol.to(\"xyz\"))\n",
      "Image(\"PO2N.png\")"
     ],
     "language": "python",
     "metadata": {},
     "outputs": [
      {
       "output_type": "stream",
       "stream": "stdout",
       "text": [
        "4\n",
        "P1 N1 O2\n",
        "P -2.714301 0.000003 0.056765\n",
        "O -1.926896 -1.284476 0.128633\n",
        "O -1.925428 1.283516 0.129485\n",
        "N -4.181288 0.000879 -0.079861\n"
       ]
      },
      {
       "metadata": {},
       "output_type": "pyout",
       "png": "[encoded data removed]",
       "prompt_number": 4,
       "text": [
        "<IPython.core.display.Image at 0x7f97eda22c88>"
       ]
      }
     ],
     "prompt_number": 4
    },
    {
     "cell_type": "markdown",
     "metadata": {},
     "source": [
      "First we set up the three guessed positions for Li atoms in the plane of the molecule. Each position is along the bissector of two PO or PN bonds. We build a list of ```pymatgen.Site``` object which represent an atom with its symbol, coordinates ...."
     ]
    },
    {
     "cell_type": "code",
     "collapsed": false,
     "input": [
      "posLi = [mg.Site(\"Li\", [-0.424, -0.001,  0.267]),\n",
      "         mg.Site(\"Li\", [-3.789, -2.031, -0.046]),\n",
      "         mg.Site(\"Li\", [-3.787,  2.032, -0.044])]\n",
      "print(posLi)"
     ],
     "language": "python",
     "metadata": {},
     "outputs": [
      {
       "output_type": "stream",
       "stream": "stdout",
       "text": [
        "[Site: Li (-0.4240, -0.0010, 0.2670), Site: Li (-3.7890, -2.0310, -0.0460), Site: Li (-3.7870, 2.0320, -0.0440)]\n"
       ]
      }
     ],
     "prompt_number": 5
    },
    {
     "cell_type": "markdown",
     "metadata": {},
     "source": [
      "Now for each combinaison of two Li atoms among three possibilities we will write a gaussian input file. Look at the ```combinations``` method of ```itertools``` module."
     ]
    },
    {
     "cell_type": "code",
     "collapsed": false,
     "input": [
      "from itertools import combinations\n",
      "for sites in combinations(posLi, 2):\n",
      "    print(sites, \"\\t indices : \", [posLi.index(site) for site in sites])"
     ],
     "language": "python",
     "metadata": {},
     "outputs": [
      {
       "output_type": "stream",
       "stream": "stdout",
       "text": [
        "(Site: Li (-0.4240, -0.0010, 0.2670), Site: Li (-3.7890, -2.0310, -0.0460)) \t indices :  [0, 1]\n",
        "(Site: Li (-0.4240, -0.0010, 0.2670), Site: Li (-3.7870, 2.0320, -0.0440)) \t indices :  [0, 2]\n",
        "(Site: Li (-3.7890, -2.0310, -0.0460), Site: Li (-3.7870, 2.0320, -0.0440)) \t indices :  [1, 2]\n"
       ]
      }
     ],
     "prompt_number": 6
    },
    {
     "cell_type": "markdown",
     "metadata": {},
     "source": [
      "Hereafter is the loop over combinations which will write all input files."
     ]
    },
    {
     "cell_type": "code",
     "collapsed": false,
     "input": [
      "# Gaussian keywords\n",
      "route_parms = {\"opt\": \"tight\", \"Freq\": \"\"}\n",
      "link0 = {\"%Nproc\":\"5\"}\n",
      "DFT = \"B3LYP\"\n",
      "\n",
      "# the loop\n",
      "for sites in combinations(posLi, 2):\n",
      "    # load the molecule\n",
      "    mol = mg.Molecule.from_file(\"PO2N.xyz\")\n",
      "    \n",
      "    # set up a label according to the combination\n",
      "    title = \"combination_\" + \"\".join([str(posLi.index(site)) for site in sites])\n",
      "    print(title)\n",
      "    \n",
      "    # add the two Li atoms to the molecule\n",
      "    for site in sites:\n",
      "        mol.append(site.specie, site.coords)\n",
      "        \n",
      "    # set up the calculation\n",
      "    gau = GaussianInput(mol, charge=0, spin_multiplicity=1, title=title, \n",
      "                        functional=DFT, route_parameters=route_parms, link0_parameters=link0)\n",
      "    gau.write_file(title + \".com\", cart_coords=True)"
     ],
     "language": "python",
     "metadata": {},
     "outputs": [
      {
       "output_type": "stream",
       "stream": "stdout",
       "text": [
        "combination_01\n",
        "combination_02\n",
        "combination_12\n"
       ]
      }
     ],
     "prompt_number": 7
    },
    {
     "cell_type": "markdown",
     "metadata": {},
     "source": [
      "We can also load an input file and get some information."
     ]
    },
    {
     "cell_type": "code",
     "collapsed": false,
     "input": [
      "gau = GaussianInput.from_file(\"combination_01.com\")\n",
      "print(gau.basis_set, gau.functional)"
     ],
     "language": "python",
     "metadata": {},
     "outputs": [
      {
       "output_type": "stream",
       "stream": "stdout",
       "text": [
        "6-31G(d) B3LYP\n"
       ]
      }
     ],
     "prompt_number": 8
    },
    {
     "cell_type": "code",
     "collapsed": false,
     "input": [
      "print(gau.to_string(cart_coords=True))"
     ],
     "language": "python",
     "metadata": {},
     "outputs": [
      {
       "output_type": "stream",
       "stream": "stdout",
       "text": [
        "%Nproc=5\n",
        "#P B3LYP/6-31G(d) Freq Test opt=tight Test\n",
        "\n",
        "combination_01\n",
        "\n",
        "0 1\n",
        "P -2.714301 0.000003 0.056765\n",
        "O -1.926896 -1.284476 0.128633\n",
        "O -1.925428 1.283516 0.129485\n",
        "N -4.181288 0.000879 -0.079861\n",
        "Li -0.424000 -0.001000 0.267000\n",
        "Li -3.789000 -2.031000 -0.046000\n",
        "\n",
        "\n",
        "\n",
        "\n"
       ]
      }
     ],
     "prompt_number": 9
    },
    {
     "cell_type": "heading",
     "level": 3,
     "metadata": {},
     "source": [
      "Post-treatments of Gaussian outputs"
     ]
    },
    {
     "cell_type": "heading",
     "level": 4,
     "metadata": {},
     "source": [
      "Docstring of the ```GaussianOutput``` class"
     ]
    },
    {
     "cell_type": "code",
     "collapsed": false,
     "input": [
      "help(GaussianOutput)"
     ],
     "language": "python",
     "metadata": {},
     "outputs": [
      {
       "output_type": "stream",
       "stream": "stdout",
       "text": [
        "Help on class GaussianOutput in module pymatgen.io.gaussianio:\n",
        "\n",
        "class GaussianOutput(builtins.object)\n",
        " |  Parser for Gaussian output files.\n",
        " |  \n",
        " |  Args:\n",
        " |      filename: Filename of Gaussian output file.\n",
        " |  \n",
        " |  .. note::\n",
        " |  \n",
        " |      Still in early beta.\n",
        " |  \n",
        " |  Attributes:\n",
        " |  \n",
        " |  .. attribute:: structures\n",
        " |  \n",
        " |      All structures from the calculation.\n",
        " |  \n",
        " |  .. attribute:: energies\n",
        " |  \n",
        " |      All energies from the calculation.\n",
        " |  \n",
        " |  .. attribute:: properly_terminated\n",
        " |  \n",
        " |      True if run has properly terminated\n",
        " |  \n",
        " |  .. attribute:: is_pcm\n",
        " |  \n",
        " |      True if run is a PCM run.\n",
        " |  \n",
        " |  .. attribute:: stationary_type\n",
        " |  \n",
        " |      If it is a relaxation run, indicates whether it is a minimum (Minimum)\n",
        " |      or a saddle point (\"Saddle\").\n",
        " |  \n",
        " |  .. attribute:: corrections\n",
        " |  \n",
        " |      Thermochemical corrections if this run is a Freq run as a dict. Keys\n",
        " |      are \"Zero-point\", \"Thermal\", \"Enthalpy\" and \"Gibbs Free Energy\"\n",
        " |  \n",
        " |  .. attribute:: functional\n",
        " |  \n",
        " |      Functional used in the run.\n",
        " |  \n",
        " |  .. attribute:: basis_set\n",
        " |  \n",
        " |      Basis set used in the run\n",
        " |  \n",
        " |  .. attribute:: charge\n",
        " |  \n",
        " |      Charge for structure\n",
        " |  \n",
        " |  .. attribute:: spin_mult\n",
        " |  \n",
        " |      Spin multiplicity for structure\n",
        " |  \n",
        " |  .. attribute:: num_basis_func\n",
        " |  \n",
        " |      Number of basis functions in the run.\n",
        " |  \n",
        " |  .. attribute:: pcm\n",
        " |  \n",
        " |      PCM parameters and output if available.\n",
        " |  \n",
        " |  .. attribute:: errors\n",
        " |  \n",
        " |      error if not properly terminated (list to be completed in error_defs)\n",
        " |  \n",
        " |  .. attribute:: Mulliken_charges\n",
        " |  \n",
        " |      Mulliken atomic charges\n",
        " |  \n",
        " |  Methods defined here:\n",
        " |  \n",
        " |  __init__(self, filename)\n",
        " |  \n",
        " |  as_dict(self)\n",
        " |      Json-serializable dict representation.\n",
        " |  \n",
        " |  ----------------------------------------------------------------------\n",
        " |  Data descriptors defined here:\n",
        " |  \n",
        " |  __dict__\n",
        " |      dictionary for instance variables (if defined)\n",
        " |  \n",
        " |  __weakref__\n",
        " |      list of weak references to the object (if defined)\n",
        " |  \n",
        " |  final_energy\n",
        " |  \n",
        " |  final_structure\n",
        "\n"
       ]
      }
     ],
     "prompt_number": 10
    },
    {
     "cell_type": "heading",
     "level": 4,
     "metadata": {},
     "source": [
      "Examples :"
     ]
    },
    {
     "cell_type": "markdown",
     "metadata": {},
     "source": [
      "Used the ```GaussianOutput``` class to read a Gaussian output file."
     ]
    },
    {
     "cell_type": "code",
     "collapsed": false,
     "input": [
      "logfile = GaussianOutput(\"O3P-O-PO3/config_0123.log\")"
     ],
     "language": "python",
     "metadata": {},
     "outputs": [],
     "prompt_number": 11
    },
    {
     "cell_type": "markdown",
     "metadata": {},
     "source": [
      "Is termination ```Normal``` ?"
     ]
    },
    {
     "cell_type": "code",
     "collapsed": false,
     "input": [
      "logfile.properly_terminated"
     ],
     "language": "python",
     "metadata": {},
     "outputs": [
      {
       "metadata": {},
       "output_type": "pyout",
       "prompt_number": 12,
       "text": [
        "True"
       ]
      }
     ],
     "prompt_number": 12
    },
    {
     "cell_type": "markdown",
     "metadata": {},
     "source": [
      "Display final energy or mulliken charges :"
     ]
    },
    {
     "cell_type": "code",
     "collapsed": false,
     "input": [
      "logfile.final_energy"
     ],
     "language": "python",
     "metadata": {},
     "outputs": [
      {
       "metadata": {},
       "output_type": "pyout",
       "prompt_number": 13,
       "text": [
        "-1239.01264675"
       ]
      }
     ],
     "prompt_number": 13
    },
    {
     "cell_type": "code",
     "collapsed": false,
     "input": [
      "logfile.Mulliken_charges"
     ],
     "language": "python",
     "metadata": {},
     "outputs": [
      {
       "metadata": {},
       "output_type": "pyout",
       "prompt_number": 14,
       "text": [
        "{1: ['P', 1.751758],\n",
        " 2: ['P', 1.203271],\n",
        " 3: ['O', -0.722993],\n",
        " 4: ['O', -0.771242],\n",
        " 5: ['O', -0.804145],\n",
        " 6: ['O', -0.771148],\n",
        " 7: ['O', -0.633752],\n",
        " 8: ['O', -0.633729],\n",
        " 9: ['O', -0.519418],\n",
        " 10: ['Li', 0.528585],\n",
        " 11: ['Li', 0.528596],\n",
        " 12: ['Li', 0.421974],\n",
        " 13: ['Li', 0.422242]}"
       ]
      }
     ],
     "prompt_number": 14
    },
    {
     "cell_type": "markdown",
     "metadata": {},
     "source": [
      "You can extract the coordinates of the final structure. All structures are ```pymatgen.Molecule``` objects, see [here](http://pymatgen.org/_static/Molecule.html) or [the reference guide](http://pymatgen.org/pymatgen.core.html#pymatgen.core.structure.Molecule). You can do lot of stuff with this object such as : neighbors list, compute distances or the distance matrix, symmetry operation, atomic substitution ..."
     ]
    },
    {
     "cell_type": "code",
     "collapsed": false,
     "input": [
      "print(logfile.final_structure.to(fmt=\"xyz\"))"
     ],
     "language": "python",
     "metadata": {},
     "outputs": [
      {
       "output_type": "stream",
       "stream": "stdout",
       "text": [
        "13\n",
        "Li4 P2 O7\n",
        "P 1.803152 -0.000062 -0.074603\n",
        "P -2.714301 0.000003 0.056765\n",
        "O 0.711492 0.000020 -1.166577\n",
        "O 1.626159 1.347642 0.712312\n",
        "O 3.338973 -0.000234 -0.476901\n",
        "O 1.625851 -1.347548 0.712612\n",
        "O -1.926896 -1.284476 0.128633\n",
        "O -1.925428 1.283516 0.129485\n",
        "O -4.181288 0.000879 -0.079861\n",
        "Li 3.387513 1.698635 0.310029\n",
        "Li 3.387174 -1.698958 0.310641\n",
        "Li -0.135176 -1.487921 -0.211882\n",
        "Li -0.134065 1.489076 -0.212137\n"
       ]
      }
     ],
     "prompt_number": 15
    },
    {
     "cell_type": "markdown",
     "metadata": {},
     "source": [
      "You would prefer a gaussian input format with a z-matrix of the 42th geometrical optimization step."
     ]
    },
    {
     "cell_type": "code",
     "collapsed": false,
     "input": [
      "print(logfile.structures[41].to(fmt=\"gjf\"))"
     ],
     "language": "python",
     "metadata": {},
     "outputs": [
      {
       "output_type": "stream",
       "stream": "stdout",
       "text": [
        "#P HF/6-31G(d)  Test\n",
        "\n",
        "Li4 P2 O7\n",
        "\n",
        "0 1\n",
        "P\n",
        "P 1 B1\n",
        "O 1 B2 2 A2\n",
        "O 1 B3 3 A3 2 D3\n",
        "O 1 B4 4 A4 3 D4\n",
        "O 1 B5 5 A5 3 D5\n",
        "O 2 B6 3 A6 6 D6\n",
        "O 2 B7 7 A7 3 D7\n",
        "O 2 B8 7 A8 8 D8\n",
        "Li 4 B9 5 A9 1 D9\n",
        "Li 6 B10 5 A10 1 D10\n",
        "Li 7 B11 3 A11 6 D11\n",
        "Li 8 B12 4 A12 3 D12\n",
        "\n",
        "B1=4.376288\n",
        "B2=1.543372\n",
        "A2=36.067295\n",
        "B3=1.572484\n",
        "A3=105.757762\n",
        "D3=-63.587256\n",
        "B4=1.587877\n",
        "A4=103.530048\n",
        "D4=127.302261\n",
        "B5=1.570339\n",
        "A5=103.613837\n",
        "D5=118.342854\n",
        "B6=1.509599\n",
        "A6=70.094274\n",
        "D6=-30.800762\n",
        "B7=1.509898\n",
        "A7=116.635764\n",
        "D7=-54.758827\n",
        "B8=1.474749\n",
        "A8=121.618553\n",
        "D8=-179.642556\n",
        "B9=1.844669\n",
        "A9=48.464768\n",
        "D9=-173.301681\n",
        "B10=1.844418\n",
        "A10=48.529403\n",
        "D10=176.422774\n",
        "B11=1.836204\n",
        "A11=36.882001\n",
        "D11=-26.625480\n",
        "B12=1.836768\n",
        "A12=14.624477\n",
        "D12=-64.000507\n",
        "\n",
        "\n",
        "\n",
        "\n"
       ]
      }
     ],
     "prompt_number": 16
    },
    {
     "cell_type": "markdown",
     "metadata": {},
     "source": [
      "You can plot the geometrical convergence (here using plotly)."
     ]
    },
    {
     "cell_type": "code",
     "collapsed": false,
     "input": [
      "import plotly.plotly as py\n",
      "import plotly.graph_objs as go"
     ],
     "language": "python",
     "metadata": {},
     "outputs": [],
     "prompt_number": 17
    },
    {
     "cell_type": "code",
     "collapsed": false,
     "input": [
      "fig = go.Figure(\n",
      "    data=go.Data([\n",
      "        go.Scatter(x=[i for i in range(len(logfile.energies))], y=logfile.energies)\n",
      "    ]),\n",
      "    layout=go.Layout(xaxis=go.XAxis(title=\"step\"), yaxis=go.YAxis(title=\"Energy (ua)\"))\n",
      ")\n",
      "py.image.ishow(fig)"
     ],
     "language": "python",
     "metadata": {},
     "outputs": [
      {
       "metadata": {},
       "output_type": "display_data",
       "png": "[encoded data removed]",
       "text": [
        "<IPython.core.display.Image at 0x7f97e54b2780>"
       ]
      }
     ],
     "prompt_number": 21
    }
   ],
   "metadata": {}
  }
 ]
}