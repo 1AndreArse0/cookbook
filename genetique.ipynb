{
 "cells": [
  {
   "cell_type": "markdown",
   "metadata": {},
   "source": [
    "# À la découverte de notre ADN\n",
    "\n",
    "L'objectif de ce TP est de dmettre en pratique le langage python pour construire\n",
    "et analyser un brin d'[ADN](https://fr.wikipedia.org/wiki/Acide_d%C3%A9soxyribonucl%C3%A9ique).\n",
    "L'idée est, dans un premier temps, de reprendre les\n",
    "éléments de base du langage (condition, boucles ...) pour créer des fonctions qui\n",
    "construise un brin d'ADN, le lisent, réalise une transcription une traduction ...\n",
    "puis d'écrire une classe qui réalise ces actions.\n",
    "\n",
    "## Introduction\n",
    "\n",
    "Ce n'est pas l'objet de faire ici un cours complet sur l'ADN. Vous trouverez\n",
    "de nombreuses choses sur le sujet. On va juste rappeler quelques éléments de base\n",
    "pour qu'un *non biologiste* puisse faire le TP.\n",
    "\n",
    "### ADN ?\n",
    "\n",
    "L'ADN, pour Acide DésoxyriboNucléique, est une macromolécule constituée de deux\n",
    "brins qui forme une double hélice maintenue par des liaisons hydrogène. Ces brins\n",
    "sont formés par un enchainement de maillons appelés, nucléotides qui contiennent\n",
    "les *bases* de l'ADN :\n",
    "\n",
    "* A pour Adénine\n",
    "* T pour Thymine\n",
    "* G pour Guanine\n",
    "* C pour Cytosine\n",
    "\n",
    "Les bases de l'ADN fonctionnent par paire, une sur chaque brin : adénine avec\n",
    "thymine et guanine avec cytosine.\n",
    "\n",
    "[![DNA](./DNA.png)](https://commons.wikimedia.org/wiki/File:DNA_chemical_structure-1-.fr.svg)\n",
    "\n",
    "### Traduction et transcription\n",
    "\n",
    "**La transcription** est un mécanisme qui permet de \"recopier\" l'ADN dans le noyau\n",
    "de la cellule pour former un ARN (acide ribonucléique) qui sera utilisé dans la\n",
    "cellule notamment lors de la traduction. L'ARN présente la même structure que\n",
    "l'ADN mais lors de la transicription, la thymine (T) est remplacé par l'uracile\n",
    "(U).\n",
    "\n",
    "**La traduction de l'ADN** consiste à lire l'ARN issue de la transcription pour\n",
    "synthétiser une protéine avec l'aide de la machinerie cellulaire. L'ARN est\n",
    "découpé en codons qui sont constitués de 3 bases et correspondent à un \n",
    "[acide aminé](https://fr.wikipedia.org/wiki/Acide_amin%C3%A9_prot%C3%A9inog%C3%A8ne), \n",
    "c'est le code génétique. Les codons sont lus les uns à la suite des\n",
    "autres et la protéines est assemblée comme une chaîne (peptidique)\n",
    "[d'acides aminés](https://fr.wikipedia.org/wiki/Acide_amin%C3%A9_prot%C3%A9inog%C3%A8ne).\n",
    "\n",
    "![traduction de l'ADN](./traduction.png)\n",
    "\n",
    "### Correspondance codons - acides aminés\n",
    "\n",
    "Le schéma ci-dessous vous donne la correspondance entre un codon, composé de\n",
    "trois bases de l'ARN et un\n",
    "[acide aminé](https://fr.wikipedia.org/wiki/Acide_amin%C3%A9_prot%C3%A9inog%C3%A8ne).\n",
    "\n",
    "[![code génétique](./codegenetique.png)](http://www.cours-pharmacie.com/biologie-moleculaire)\n",
    "\n",
    "Par exemple, GUA est un codon qui code pour l'acide aminé Val, c'est à dire\n",
    "la Valine. On remarquera que plusieurs codons peuvent coder pour le même acide\n",
    "aminé ce qui limite la portée des erreurs de copies ou des mutations. On note\n",
    "également la présence de codons STOP indiquant la fin de la partie \"codante\" et\n",
    "qui stoppe la synthèse de la protéine.\n",
    "\n",
    "## Les dictionnaires python\n",
    "\n",
    "Pour entrer le code génétique dans python on pourra utiliser les dictionnaires.\n",
    "Ces objets python sont un peu comme des listes ils contiennent plusieurs autres\n",
    "objets. À la différence des listes, les éléments d'un dictionnaire sont repérés\n",
    "par une clef et non par un indice. On peut utiliser tout type de clef : des\n",
    "nombres, des chaînes de caractères ou même des tuples.\n",
    "\n",
    "### Petit aperçu"
   ]
  },
  {
   "cell_type": "code",
   "execution_count": 1,
   "metadata": {
    "collapsed": false
   },
   "outputs": [
    {
     "name": "stdout",
     "output_type": "stream",
     "text": [
      "{}\n"
     ]
    }
   ],
   "source": [
    "aa = dict()\n",
    "print(aa)"
   ]
  },
  {
   "cell_type": "markdown",
   "metadata": {},
   "source": [
    "Une liste est délimitée par des crochets, un dictionnaire par des accolades. Par contre, comme pour les listes, La clef est donnée entre crochets :"
   ]
  },
  {
   "cell_type": "code",
   "execution_count": 15,
   "metadata": {
    "collapsed": false
   },
   "outputs": [
    {
     "name": "stdout",
     "output_type": "stream",
     "text": [
      "dictionnaire :  {'A': 'Ala', 'L': 'Leu', 'M': 'Met'}\n",
      "un élément   :  Leu\n"
     ]
    }
   ],
   "source": [
    "aa[\"M\"] = \"Met\"\n",
    "aa[\"L\"] = \"Leu\"\n",
    "aa[\"A\"] = \"Ala\"\n",
    "print(\"dictionnaire : \", aa)\n",
    "print(\"un élément   : \", aa[\"L\"])"
   ]
  },
  {
   "cell_type": "markdown",
   "metadata": {},
   "source": [
    "*Remarque :* Les dictionnaires ne sont pas ordonnés. On voit sur l'exemple\n",
    "ci-dessus que bien que la clef \"A\" ait été ajoutée en dernier, elle apparait\n",
    "en premier dans le dictionnaire.\n",
    "\n",
    "On peut lister les `clefs` et les `valeurs` d'un dictionnaire ou les deux et \n",
    "les parcourir avec une boucle `for`.\n",
    "\n",
    "Liste des clefs :"
   ]
  },
  {
   "cell_type": "code",
   "execution_count": 16,
   "metadata": {
    "collapsed": false
   },
   "outputs": [
    {
     "name": "stdout",
     "output_type": "stream",
     "text": [
      "dict_keys(['A', 'L', 'M'])\n",
      "A\n",
      "L\n",
      "M\n"
     ]
    }
   ],
   "source": [
    "print(aa.keys())\n",
    "for key in aa:\n",
    "    print(key)"
   ]
  },
  {
   "cell_type": "markdown",
   "metadata": {},
   "source": [
    "Pour les valeurs :"
   ]
  },
  {
   "cell_type": "code",
   "execution_count": 9,
   "metadata": {
    "collapsed": false
   },
   "outputs": [
    {
     "name": "stdout",
     "output_type": "stream",
     "text": [
      "dict_values(['Ala', 'Leu', 'Met'])\n",
      "Ala\n",
      "Leu\n",
      "Met\n"
     ]
    }
   ],
   "source": [
    "print(aa.values())\n",
    "for val in aa.values():\n",
    "    print(val)"
   ]
  },
  {
   "cell_type": "markdown",
   "metadata": {},
   "source": [
    "On peut aussi parcourir les deux simultanément :"
   ]
  },
  {
   "cell_type": "code",
   "execution_count": 10,
   "metadata": {
    "collapsed": false
   },
   "outputs": [
    {
     "name": "stdout",
     "output_type": "stream",
     "text": [
      "dict_items([('A', 'Ala'), ('L', 'Leu'), ('M', 'Met')])\n",
      "A  =  Ala\n",
      "L  =  Leu\n",
      "M  =  Met\n"
     ]
    }
   ],
   "source": [
    "print(aa.items())\n",
    "for key, val in aa.items():\n",
    "    print(key, \" = \", val)"
   ]
  },
  {
   "cell_type": "markdown",
   "metadata": {},
   "source": [
    "`aa.items()` retourne une liste de tuple de la forme `(clef, valeur)`.\n",
    "\n",
    "### Petit exercice \n",
    "\n",
    "1. Construire un dictionnaire qui met en relation le code à une lettre et le \n",
    "   code à trois lettre des acides aminés. \n",
    "   [Voir ce tableau](https://fr.wikipedia.org/wiki/Acide_amin%C3%A9_prot%C3%A9inog%C3%A8ne#Propri.C3.A9t.C3.A9s_chimiques).\n",
    "2. Construire un dictionnaire qui pour un acide aminé donné donne plusieurs\n",
    "   informations :\n",
    "   * Code à 1 lettre,\n",
    "   * Code à 3 lettres,\n",
    "   * Polarité\n",
    "   * Masse \n",
    "   * pI\n",
    "   * ...\n",
    "3. Afficher le nombre d'acides aminés contenus dans le dictionnaire\n",
    "4. Afficher la liste des acides aminés polaires\n",
    "\n",
    "**Conseil :** Les dictionnaires sont des objets permettant de structurer des\n",
    "données. C'est un modèle simpliste de base de données. Il est tout à fait possible\n",
    "de les imbriquer.\n",
    "\n",
    "### Pour le code génétique\n",
    "\n",
    "Pour le code génétique on peut envisager plusieurs solutions :\n",
    "\n",
    "* la clef est un tuple correspondant au codon :"
   ]
  },
  {
   "cell_type": "code",
   "execution_count": 11,
   "metadata": {
    "collapsed": false
   },
   "outputs": [
    {
     "name": "stdout",
     "output_type": "stream",
     "text": [
      "{('A', 'U', 'A'): 'Ile', ('U', 'G', 'A'): 'STOP'}\n"
     ]
    }
   ],
   "source": [
    "gencode = {(\"A\", \"U\", \"A\"): \"Ile\", (\"U\", \"G\", \"A\"): \"STOP\"}\n",
    "print(gencode)"
   ]
  },
  {
   "cell_type": "markdown",
   "metadata": {},
   "source": [
    "* la clef est un acide aminé, la valeur est la liste des codons associés"
   ]
  },
  {
   "cell_type": "code",
   "execution_count": 12,
   "metadata": {
    "collapsed": false
   },
   "outputs": [
    {
     "name": "stdout",
     "output_type": "stream",
     "text": [
      "{'Phe': ['UUU', 'UUC'], 'Met': ['AUG']}\n"
     ]
    }
   ],
   "source": [
    "gencode = {\"Phe\": [\"UUU\", \"UUC\"], \"Met\": [\"AUG\"]}\n",
    "print(gencode)"
   ]
  },
  {
   "cell_type": "markdown",
   "metadata": {},
   "source": [
    "## Questions\n",
    "\n",
    "L'idée est d'écrire dans un premier temps des fonctions qui réalisent les\n",
    "opérations suivantes puis d'écrire une classe qui contient les même\n",
    "fonctionnalités.\n",
    "\n",
    "1. Écrire une fonction qui génère aléatoirement un brin d'ADN. On pourra choisir\n",
    "   aléatoirement un codon STOP pour terminer le brin ou la partie codante.\n",
    "2. Écrire une fonction qui écrit le brin d'ADN dans un fichier\n",
    "3. Écrire une fonction qui lit un brin d'ADN dans un fichier\n",
    "4. Identifier s'il s'agit d'un brin d'ADN ou d'ARN et si ce brin est valide\n",
    "5. Statistique : extraire les informations suivantes d'un brin d'ADN\n",
    "    * Nombre total de bases\n",
    "    * Nombre de codons\n",
    "    * pourcentage de chaque base dans le brin\n",
    "6. Écrire une fonction qui réalise la transcription de l'ADN en ARN\n",
    "7. Écrire une fonction qui traduit l'ARN et renvoie la chaîne d'acides aminés\n",
    "   correspondante. Attention, elle doit s'arrêter au codon STOP.\n",
    "8. Statistique. Extraire des statistiques sur les acides aminés : nombre, polarité, ...\n"
   ]
  },
  {
   "cell_type": "markdown",
   "metadata": {},
   "source": [
    "## Programmation\n",
    "\n",
    "Commençons par charger les modules dont nous aurons besoin."
   ]
  },
  {
   "cell_type": "code",
   "execution_count": 33,
   "metadata": {
    "collapsed": false
   },
   "outputs": [
    {
     "name": "stdout",
     "output_type": "stream",
     "text": [
      "Populating the interactive namespace from numpy and matplotlib\n"
     ]
    }
   ],
   "source": [
    "%pylab --no-import-all inline"
   ]
  },
  {
   "cell_type": "markdown",
   "metadata": {},
   "source": [
    "### Exercice sur les dictionnaires\n",
    "\n",
    "En prennant les données de \n",
    "[ce tableau](https://fr.wikipedia.org/wiki/Acide_amin%C3%A9_prot%C3%A9inog%C3%A8ne#Propri.C3.A9t.C3.A9s_chimiques)\n",
    "on va construire une base de données sur les acides aminés.\n",
    "\n",
    "#### Correspondance des noms\n",
    "\n",
    "On peut reprendre l'exemple décrit plus haut pour introduire les dictionnaire et le compléter :"
   ]
  },
  {
   "cell_type": "code",
   "execution_count": 20,
   "metadata": {
    "collapsed": false
   },
   "outputs": [
    {
     "name": "stdout",
     "output_type": "stream",
     "text": [
      "dictionnaire :  {'A': 'Ala', 'L': 'Leu', 'M': 'Met'}\n"
     ]
    }
   ],
   "source": [
    "aa = dict()\n",
    "aa[\"M\"] = \"Met\"\n",
    "aa[\"L\"] = \"Leu\"\n",
    "aa[\"A\"] = \"Ala\"\n",
    "print(\"dictionnaire : \", aa)"
   ]
  },
  {
   "cell_type": "markdown",
   "metadata": {},
   "source": [
    "Avec tous les acides aminés :"
   ]
  },
  {
   "cell_type": "code",
   "execution_count": 18,
   "metadata": {
    "collapsed": false
   },
   "outputs": [
    {
     "name": "stdout",
     "output_type": "stream",
     "text": [
      "{'I': 'Ile', 'R': 'Arg', 'F': 'Phe', 'M': 'Met', 'H': 'His', 'K': 'Lys', 'P': 'Pro', 'D': 'Asp', 'V': 'Val', 'Q': 'Gln', 'G': 'Gly', 'T': 'Thr', 'L': 'Leu', 'C': 'Cys', 'N': 'Asn', 'E': 'Glu', 'A': 'Ala', 'Y': 'Tyr', 'S': 'Ser', 'W': 'Trp'}\n"
     ]
    }
   ],
   "source": [
    "aa = {\n",
    "    \"V\": \"Val\",\n",
    "    \"I\": \"Ile\",\n",
    "    \"L\": \"Leu\",\n",
    "    \"M\": \"Met\",\n",
    "    \"F\": \"Phe\",\n",
    "    \"A\": \"Ala\",\n",
    "    \"P\": \"Pro\",\n",
    "    \"W\": \"Trp\",\n",
    "    \"G\": \"Gly\",\n",
    "    \"Y\": \"Tyr\",\n",
    "    \"S\": \"Ser\",\n",
    "    \"T\": \"Thr\",\n",
    "    \"C\": \"Cys\",\n",
    "    \"N\": \"Asn\",\n",
    "    \"Q\": \"Gln\",\n",
    "    \"R\": \"Arg\",\n",
    "    \"K\": \"Lys\",\n",
    "    \"H\": \"His\",\n",
    "    \"D\": \"Asp\",\n",
    "    \"E\": \"Glu\"    \n",
    "}\n",
    "print(aa)"
   ]
  },
  {
   "cell_type": "markdown",
   "metadata": {},
   "source": [
    "#### Base de données plus complète \n",
    "\n",
    "Pour cela on va *imbriquer* des dictionnaires. Voici un exemple pour un acide aminé :"
   ]
  },
  {
   "cell_type": "code",
   "execution_count": 21,
   "metadata": {
    "collapsed": true
   },
   "outputs": [],
   "source": [
    "aa = {\n",
    "    \"Valine\": {\n",
    "        \"A\": \"V\",\n",
    "        \"Abr\": \"Val\",\n",
    "        \"masse\": 117.14784,\n",
    "        \"pI\": 5.96,\n",
    "        \"polaire\": False\n",
    "    }\n",
    "}"
   ]
  },
  {
   "cell_type": "markdown",
   "metadata": {},
   "source": [
    "On peut ensuite utiliser nos données de la façon suivante :"
   ]
  },
  {
   "cell_type": "code",
   "execution_count": 23,
   "metadata": {
    "collapsed": false
   },
   "outputs": [
    {
     "name": "stdout",
     "output_type": "stream",
     "text": [
      "masse =  117.14784\n",
      "Abreviation :  Val\n"
     ]
    }
   ],
   "source": [
    "print(\"masse = \", aa[\"Valine\"][\"masse\"])\n",
    "print(\"Abreviation : \", aa[\"Valine\"][\"Abr\"])"
   ]
  },
  {
   "cell_type": "markdown",
   "metadata": {},
   "source": [
    "Voici le dictionnaire complet :"
   ]
  },
  {
   "cell_type": "code",
   "execution_count": 27,
   "metadata": {
    "collapsed": false
   },
   "outputs": [],
   "source": [
    "acideAmine = {\n",
    "    \"Alanine\": {\n",
    "        \"A\": \"A\",\n",
    "        \"Abr\": \"Ala\",\n",
    "        \"masse\": 89.09404,\n",
    "        \"pI\": 6.00,\n",
    "        \"polaire\": False\n",
    "    },\n",
    "    \"Arginine\": {\n",
    "        \"A\": \"R\",\n",
    "        \"Abr\": \"Arg\",\n",
    "        \"masse\": 174.20274,\n",
    "        \"pI\": 10.76,\n",
    "        \"polaire\": True\n",
    "    },\n",
    "    \"Asparagine\": {\n",
    "        \"A\": \"N\",\n",
    "        \"Abr\": \"Asn\",\n",
    "        \"masse\": 132.11904,\n",
    "        \"pI\": 5.41,\n",
    "        \"polaire\": True\n",
    "    },\n",
    "    \"Aspartate\": {\n",
    "        \"A\": \"D\",\n",
    "        \"Abr\": \"Asp\",\n",
    "        \"masse\": 133.10384,\n",
    "        \"pI\": 2.77,\n",
    "        \"polaire\": True\n",
    "    },\n",
    "    \"Cystéine\": {\n",
    "        \"A\": \"C\",\n",
    "        \"Abr\": \"Cys\",\n",
    "        \"masse\": 121.15404,\n",
    "        \"pI\": 5.07,\n",
    "        \"polaire\": False\n",
    "    },\n",
    "    \"Glutamate\": {\n",
    "        \"A\": \"E\",\n",
    "        \"Abr\": \"Glu\",\n",
    "        \"masse\": 147.13074,\n",
    "        \"pI\": 3.22,\n",
    "        \"polaire\": True\n",
    "    },\n",
    "    \"Glutamine\": {\n",
    "        \"A\": \"Q\",\n",
    "        \"Abr\": \"Gln\",\n",
    "        \"masse\": 146.14594,\n",
    "        \"pI\": 5.65,\n",
    "        \"polaire\": True\n",
    "    },\n",
    "    \"Glycine\": {\n",
    "        \"A\": \"G\",\n",
    "        \"Abr\": \"Gly\",\n",
    "        \"masse\": 75.06714,\n",
    "        \"pI\": 5.97,\n",
    "        \"polaire\": False\n",
    "    },\n",
    "    \"Histidine\": {\n",
    "        \"A\": \"H\",\n",
    "        \"Abr\": \"His\",\n",
    "        \"masse\": 155.15634,\n",
    "        \"pI\": 7.59,\n",
    "        \"polaire\": True\n",
    "    },\n",
    "    \"Isoleucine\": {\n",
    "        \"A\": \"I\",\n",
    "        \"Abr\": \"Ile\",\n",
    "        \"masse\": 131.17464,\n",
    "        \"pI\": 6.02,\n",
    "        \"polaire\": False\n",
    "    },\n",
    "    \"Leucine\": {\n",
    "        \"A\": \"L\",\n",
    "        \"Abr\": \"Leu\",\n",
    "        \"masse\": 131.17464,\n",
    "        \"pI\": 5.98,\n",
    "        \"polaire\": False\n",
    "    },\n",
    "    \"Lysine\": {\n",
    "        \"A\": \"K\",\n",
    "        \"Abr\": \"Lys\",\n",
    "        \"masse\": 146.18934,\n",
    "        \"pI\": 9.74,\n",
    "        \"polaire\": True\n",
    "    },\n",
    "    \"Methionine\": {\n",
    "        \"A\": \"M\",\n",
    "        \"Abr\": \"Met\",\n",
    "        \"masse\": 149.20784,\n",
    "        \"pI\": 5.74,\n",
    "        \"polaire\": False\n",
    "    },\n",
    "    \"Phénylalanine\": {\n",
    "        \"A\": \"F\",\n",
    "        \"Abr\": \"Phe\",\n",
    "        \"masse\": 165.19184,\n",
    "        \"pI\": 5.48,\n",
    "        \"polaire\": False\n",
    "    },\n",
    "    \"Proline\": {\n",
    "        \"A\": \"P\",\n",
    "        \"Abr\": \"Pro\",\n",
    "        \"masse\": 115.13194,\n",
    "        \"pI\": 6.30,\n",
    "        \"polaire\": False\n",
    "    },\n",
    "    \"Sérine\": {\n",
    "        \"A\": \"S\",\n",
    "        \"Abr\": \"Ser\",\n",
    "        \"masse\": 105.09344,\n",
    "        \"pI\": 5.68,\n",
    "        \"polaire\": True\n",
    "    },\n",
    "    \"Thréonine\": {\n",
    "        \"A\": \"T\",\n",
    "        \"Abr\": \"Thr\",\n",
    "        \"masse\": 119.12034,\n",
    "        \"pI\": 5.60,\n",
    "        \"polaire\": True\n",
    "    },\n",
    "    \"Tryptophane\": {\n",
    "        \"A\": \"W\",\n",
    "        \"Abr\": \"Trp\",\n",
    "        \"masse\": 204.22844,\n",
    "        \"pI\": 5.89,\n",
    "        \"polaire\": False\n",
    "    },\n",
    "    \"Tyrosine\": {\n",
    "        \"A\": \"Y\",\n",
    "        \"Abr\": \"Tyr\",\n",
    "        \"masse\": 181.19124,\n",
    "        \"pI\": 5.66,\n",
    "        \"polaire\": True\n",
    "    },\n",
    "    \"Valine\": {\n",
    "        \"A\": \"V\",\n",
    "        \"Abr\": \"Val\",\n",
    "        \"masse\": 117.14784,\n",
    "        \"pI\": 5.96,\n",
    "        \"polaire\": False\n",
    "    }\n",
    "}"
   ]
  },
  {
   "cell_type": "markdown",
   "metadata": {},
   "source": [
    "#### Lecture des données\n",
    "\n",
    "Essayons maintenant de lire des données. Par exemple le nombre d'acides aminés :"
   ]
  },
  {
   "cell_type": "code",
   "execution_count": 28,
   "metadata": {
    "collapsed": false
   },
   "outputs": [
    {
     "name": "stdout",
     "output_type": "stream",
     "text": [
      "20\n"
     ]
    }
   ],
   "source": [
    "print(len(acideAmine.keys()))"
   ]
  },
  {
   "cell_type": "markdown",
   "metadata": {},
   "source": [
    "La liste des acides aminés polaires :"
   ]
  },
  {
   "cell_type": "code",
   "execution_count": 31,
   "metadata": {
    "collapsed": false
   },
   "outputs": [
    {
     "name": "stdout",
     "output_type": "stream",
     "text": [
      "Liste des acides aminés polaires :\n",
      "  *  Arginine\n",
      "  *  Histidine\n",
      "  *  Glutamate\n",
      "  *  Lysine\n",
      "  *  Asparagine\n",
      "  *  Aspartate\n",
      "  *  Sérine\n",
      "  *  Thréonine\n",
      "  *  Tyrosine\n",
      "  *  Glutamine\n"
     ]
    }
   ],
   "source": [
    "print(\"Liste des acides aminés polaires :\")\n",
    "for nom, data in acideAmine.items():\n",
    "    if data[\"polaire\"]:\n",
    "        print(\"  * \", nom)"
   ]
  },
  {
   "cell_type": "markdown",
   "metadata": {},
   "source": [
    "Ou en une seule ligne avec une compréhension de liste :"
   ]
  },
  {
   "cell_type": "code",
   "execution_count": 30,
   "metadata": {
    "collapsed": false
   },
   "outputs": [
    {
     "name": "stdout",
     "output_type": "stream",
     "text": [
      "['Arginine', 'Histidine', 'Glutamate', 'Lysine', 'Asparagine', 'Aspartate', 'Sérine', 'Thréonine', 'Tyrosine', 'Glutamine']\n"
     ]
    }
   ],
   "source": [
    "print([nom for nom, data in acideAmine.items() if data[\"polaire\"]])"
   ]
  },
  {
   "cell_type": "markdown",
   "metadata": {},
   "source": [
    "### Construire aléatoirement un brin d'ADN\n",
    "\n",
    "Définissons tout d'abord quelques constantes"
   ]
  },
  {
   "cell_type": "code",
   "execution_count": 32,
   "metadata": {
    "collapsed": true
   },
   "outputs": [],
   "source": [
    "BASE_ADN = [\"A\", \"T\", \"C\", \"G\"]\n",
    "BASE_ARN = [\"A\", \"U\", \"C\", \"G\"]\n",
    "STOP = [\"TAA\", \"TAG\", \"TGA\"]"
   ]
  },
  {
   "cell_type": "markdown",
   "metadata": {},
   "source": [
    "On va utiliser la fonction `randint()` de numpy pour choisir aléatoirement une base."
   ]
  },
  {
   "cell_type": "code",
   "execution_count": 52,
   "metadata": {
    "collapsed": false
   },
   "outputs": [],
   "source": [
    "def gen_brins(nbases=10, typ=\"ADN\"):\n",
    "    \"\"\" \n",
    "    génère un fragment d'ADN ou ARN contenant nbases plus un codon stop\n",
    "\n",
    "    Args:\n",
    "        nbases (int): nombre de bases\n",
    "        typ (str): \"ADN\" ou \"ARN\"\n",
    "\n",
    "    Return:\n",
    "        fragment (str): le fragment d'ADN\n",
    "    \"\"\"\n",
    "    # type ADN ou ARN\n",
    "    if typ == \"ADN\":\n",
    "        bases = BASE_ADN\n",
    "    elif typ == \"ARN\":\n",
    "        bases = BASE_ARN\n",
    "    else:\n",
    "        raise ValueError(\"typ doit être 'ARN' ou 'ADN', typ = %s\" % typ)\n",
    "    \n",
    "    # construction fragment ADN\n",
    "    fragment = \"\".join([bases[np.random.randint(0, 3)] for i in range(nbases - nbases % 3)])\n",
    "\n",
    "    codon_stop = STOP[np.random.randint(0, 2)]\n",
    "    if typ == \"ARN\":\n",
    "        codon_stop.replace(\"T\", \"U\")\n",
    "    fragment += codon_stop\n",
    "\n",
    "    return fragment"
   ]
  },
  {
   "cell_type": "markdown",
   "metadata": {},
   "source": [
    "Utilisons notre fonction :"
   ]
  },
  {
   "cell_type": "code",
   "execution_count": 53,
   "metadata": {
    "collapsed": false
   },
   "outputs": [
    {
     "name": "stdout",
     "output_type": "stream",
     "text": [
      "TACAATCTTTAA\n",
      "12\n"
     ]
    }
   ],
   "source": [
    "brin = gen_brins(10)\n",
    "print(brin)\n",
    "print(len(brin))"
   ]
  },
  {
   "cell_type": "markdown",
   "metadata": {},
   "source": [
    "On a un brin de 12 bases avec les trois dernières qui correspondent à un codon STOP."
   ]
  },
  {
   "cell_type": "markdown",
   "metadata": {},
   "source": [
    "### Écrire le brin dans un fichier\n",
    "\n",
    "On va simplement écrire la chaîne de caractère dans un fichier :"
   ]
  },
  {
   "cell_type": "code",
   "execution_count": 54,
   "metadata": {
    "collapsed": true
   },
   "outputs": [],
   "source": [
    "def write_file(fragment, fichier=\"brin.dat\"):\n",
    "    \"\"\" Écrit le fragment dans un fichier \"\"\"\n",
    "    with open(fichier, \"w\") as f:\n",
    "        f.write(fragment)"
   ]
  },
  {
   "cell_type": "markdown",
   "metadata": {},
   "source": [
    "Pour avoir un fichier plus lisible, on pourrait choisir d'afficher un certain nombre de codons par ligne avec un séparateur donné entre chaque codon :"
   ]
  },
  {
   "cell_type": "code",
   "execution_count": 55,
   "metadata": {
    "collapsed": true
   },
   "outputs": [],
   "source": [
    "def write_file(fragment, fichier=\"brin.dat\", codonParLigne=15, separateur=\" \"):\n",
    "    \"\"\" \n",
    "    Ecrit le fragment dans un fichier \n",
    "   \n",
    "    Args:\n",
    "       fichier (str): nom du fichier.\n",
    "       fragment (str): fragment d'ADN\n",
    "       codonParLigne (int): nombre de codons par ligne.\n",
    "       separateur (str): séparateur des codons\n",
    "    \"\"\"\n",
    "\n",
    "    # calcul nombre de codons dans le fragment\n",
    "    ncodon = len(fragment) // 3\n",
    "\n",
    "    with open(fichier, \"w\") as out:\n",
    "        n = 0\n",
    "        while n < ncodon:\n",
    "            out.write(fragment[3*n : 3*n + 3] + separateur)\n",
    "            n += 1\n",
    "            if n % codonParLigne == 0:\n",
    "                out.write(\"\\n\")"
   ]
  }
 ],
 "metadata": {
  "kernelspec": {
   "display_name": "Python 3",
   "language": "python",
   "name": "python3"
  },
  "language_info": {
   "codemirror_mode": {
    "name": "ipython",
    "version": 3
   },
   "file_extension": ".py",
   "mimetype": "text/x-python",
   "name": "python",
   "nbconvert_exporter": "python",
   "pygments_lexer": "ipython3",
   "version": "3.5.0"
  }
 },
 "nbformat": 4,
 "nbformat_minor": 0
}
