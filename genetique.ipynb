{
 "cells": [
  {
   "cell_type": "markdown",
   "metadata": {},
   "source": [
    "# À la découverte de notre ADN\n",
    "\n",
    "L'objectif de ce TP est de dmettre en pratique le langage python pour construire\n",
    "et analyser un brin d'[ADN](https://fr.wikipedia.org/wiki/Acide_d%C3%A9soxyribonucl%C3%A9ique).\n",
    "L'idée est, dans un premier temps, de reprendre les\n",
    "éléments de base du langage (condition, boucles ...) pour créer des fonctions qui\n",
    "construise un brin d'ADN, le lisent, réalise une transcription une traduction ...\n",
    "puis d'écrire une classe qui réalise ces actions.\n",
    "\n",
    "## Introduction\n",
    "\n",
    "Ce n'est pas l'objet de faire ici un cours complet sur l'ADN. Vous trouverez\n",
    "de nombreuses choses sur le sujet. On va juste rappeler quelques éléments de base\n",
    "pour qu'un *non biologiste* puisse faire le TP.\n",
    "\n",
    "### ADN ?\n",
    "\n",
    "L'ADN, pour Acide DésoxyriboNucléique, est une macromolécule constituée de deux\n",
    "brins qui forme une double hélice maintenue par des liaisons hydrogène. Ces brins\n",
    "sont formés par un enchainement de maillons appelés, nucléotides qui contiennent\n",
    "les *bases* de l'ADN :\n",
    "\n",
    "* A pour Adénine\n",
    "* T pour Thymine\n",
    "* G pour Guanine\n",
    "* C pour Cytosine\n",
    "\n",
    "Les bases de l'ADN fonctionnent par paire, une sur chaque brin : adénine avec\n",
    "thymine et guanine avec cytosine.\n",
    "\n",
    "[![DNA](./DNA.png)](https://commons.wikimedia.org/wiki/File:DNA_chemical_structure-1-.fr.svg)\n",
    "\n",
    "### Traduction et transcription\n",
    "\n",
    "**La transcription** est un mécanisme qui permet de \"recopier\" l'ADN dans le noyau\n",
    "de la cellule pour former un ARN (acide ribonucléique) qui sera utilisé dans la\n",
    "cellule notamment lors de la traduction. L'ARN présente la même structure que\n",
    "l'ADN mais lors de la transicription, la thymine (T) est remplacé par l'uracile\n",
    "(U).\n",
    "\n",
    "**La traduction de l'ADN** consiste à lire l'ARN issue de la transcription pour\n",
    "synthétiser une protéine avec l'aide de la machinerie cellulaire. L'ARN est\n",
    "découpé en codons qui sont constitués de 3 bases et correspondent à un \n",
    "[acide aminé](https://fr.wikipedia.org/wiki/Acide_amin%C3%A9_prot%C3%A9inog%C3%A8ne), \n",
    "c'est le code génétique. Les codons sont lus les uns à la suite des\n",
    "autres et la protéines est assemblée comme une chaîne (peptidique)\n",
    "[d'acides aminés](https://fr.wikipedia.org/wiki/Acide_amin%C3%A9_prot%C3%A9inog%C3%A8ne).\n",
    "\n",
    "![traduction de l'ADN](./traduction.png)\n",
    "\n",
    "### Correspondance codons - acides aminés\n",
    "\n",
    "Le schéma ci-dessous vous donne la correspondance entre un codon, composé de\n",
    "trois bases de l'ARN et un\n",
    "[acide aminé](https://fr.wikipedia.org/wiki/Acide_amin%C3%A9_prot%C3%A9inog%C3%A8ne).\n",
    "\n",
    "[![code génétique](./codegenetique.png)](http://www.cours-pharmacie.com/biologie-moleculaire)\n",
    "\n",
    "Par exemple, GUA est un codon qui code pour l'acide aminé Val, c'est à dire\n",
    "la Valine. On remarquera que plusieurs codons peuvent coder pour le même acide\n",
    "aminé ce qui limite la portée des erreurs de copies ou des mutations. On note\n",
    "également la présence de codons STOP indiquant la fin de la partie \"codante\" et\n",
    "qui stoppe la synthèse de la protéine.\n",
    "\n",
    "## Les dictionnaires python\n",
    "\n",
    "Pour entrer le code génétique dans python on pourra utiliser les dictionnaires.\n",
    "Ces objets python sont un peu comme des listes ils contiennent plusieurs autres\n",
    "objets. À la différence des listes, les éléments d'un dictionnaire sont repérés\n",
    "par une clef et non par un indice. On peut utiliser tout type de clef : des\n",
    "nombres, des chaînes de caractères ou même des tuples.\n",
    "\n",
    "### Petit aperçu"
   ]
  },
  {
   "cell_type": "code",
   "execution_count": 122,
   "metadata": {
    "collapsed": false
   },
   "outputs": [
    {
     "name": "stdout",
     "output_type": "stream",
     "text": [
      "{}\n"
     ]
    }
   ],
   "source": [
    "aa = dict()\n",
    "print(aa)"
   ]
  },
  {
   "cell_type": "markdown",
   "metadata": {},
   "source": [
    "Une liste est délimitée par des crochets, un dictionnaire par des accolades. Par contre, comme pour les listes, La clef est donnée entre crochets :"
   ]
  },
  {
   "cell_type": "code",
   "execution_count": 123,
   "metadata": {
    "collapsed": false
   },
   "outputs": [
    {
     "name": "stdout",
     "output_type": "stream",
     "text": [
      "dictionnaire :  {'A': 'Ala', 'L': 'Leu', 'M': 'Met'}\n",
      "un élément   :  Leu\n"
     ]
    }
   ],
   "source": [
    "aa[\"M\"] = \"Met\"\n",
    "aa[\"L\"] = \"Leu\"\n",
    "aa[\"A\"] = \"Ala\"\n",
    "print(\"dictionnaire : \", aa)\n",
    "print(\"un élément   : \", aa[\"L\"])"
   ]
  },
  {
   "cell_type": "markdown",
   "metadata": {},
   "source": [
    "*Remarque :* Les dictionnaires ne sont pas ordonnés. On voit sur l'exemple\n",
    "ci-dessus que bien que la clef \"A\" ait été ajoutée en dernier, elle apparait\n",
    "en premier dans le dictionnaire.\n",
    "\n",
    "On peut lister les `clefs` et les `valeurs` d'un dictionnaire ou les deux et \n",
    "les parcourir avec une boucle `for`.\n",
    "\n",
    "Liste des clefs :"
   ]
  },
  {
   "cell_type": "code",
   "execution_count": 124,
   "metadata": {
    "collapsed": false
   },
   "outputs": [
    {
     "name": "stdout",
     "output_type": "stream",
     "text": [
      "dict_keys(['A', 'L', 'M'])\n",
      "A\n",
      "L\n",
      "M\n"
     ]
    }
   ],
   "source": [
    "print(aa.keys())\n",
    "for key in aa:\n",
    "    print(key)"
   ]
  },
  {
   "cell_type": "markdown",
   "metadata": {},
   "source": [
    "Pour les valeurs :"
   ]
  },
  {
   "cell_type": "code",
   "execution_count": 125,
   "metadata": {
    "collapsed": false
   },
   "outputs": [
    {
     "name": "stdout",
     "output_type": "stream",
     "text": [
      "dict_values(['Ala', 'Leu', 'Met'])\n",
      "Ala\n",
      "Leu\n",
      "Met\n"
     ]
    }
   ],
   "source": [
    "print(aa.values())\n",
    "for val in aa.values():\n",
    "    print(val)"
   ]
  },
  {
   "cell_type": "markdown",
   "metadata": {},
   "source": [
    "On peut aussi parcourir les deux simultanément :"
   ]
  },
  {
   "cell_type": "code",
   "execution_count": 126,
   "metadata": {
    "collapsed": false
   },
   "outputs": [
    {
     "name": "stdout",
     "output_type": "stream",
     "text": [
      "dict_items([('A', 'Ala'), ('L', 'Leu'), ('M', 'Met')])\n",
      "A  =  Ala\n",
      "L  =  Leu\n",
      "M  =  Met\n"
     ]
    }
   ],
   "source": [
    "print(aa.items())\n",
    "for key, val in aa.items():\n",
    "    print(key, \" = \", val)"
   ]
  },
  {
   "cell_type": "markdown",
   "metadata": {},
   "source": [
    "`aa.items()` retourne une liste de tuple de la forme `(clef, valeur)`.\n",
    "\n",
    "### Petit exercice \n",
    "\n",
    "1. Construire un dictionnaire qui met en relation le code à une lettre et le \n",
    "   code à trois lettre des acides aminés. \n",
    "   [Voir ce tableau](https://fr.wikipedia.org/wiki/Acide_amin%C3%A9_prot%C3%A9inog%C3%A8ne#Propri.C3.A9t.C3.A9s_chimiques).\n",
    "2. Construire un dictionnaire qui pour un acide aminé donné donne plusieurs\n",
    "   informations :\n",
    "   * Code à 1 lettre,\n",
    "   * Code à 3 lettres,\n",
    "   * Polarité\n",
    "   * Masse \n",
    "   * pI\n",
    "   * ...\n",
    "3. Afficher le nombre d'acides aminés contenus dans le dictionnaire\n",
    "4. Afficher la liste des acides aminés polaires\n",
    "\n",
    "**Conseil :** Les dictionnaires sont des objets permettant de structurer des\n",
    "données. C'est un modèle simpliste de base de données. Il est tout à fait possible\n",
    "de les imbriquer.\n",
    "\n",
    "### Pour le code génétique\n",
    "\n",
    "Pour le code génétique on peut envisager plusieurs solutions :\n",
    "\n",
    "* la clef est un tuple correspondant au codon :"
   ]
  },
  {
   "cell_type": "code",
   "execution_count": 127,
   "metadata": {
    "collapsed": false
   },
   "outputs": [
    {
     "name": "stdout",
     "output_type": "stream",
     "text": [
      "{('A', 'U', 'A'): 'Ile', ('U', 'G', 'A'): 'STOP'}\n"
     ]
    }
   ],
   "source": [
    "gencode = {(\"A\", \"U\", \"A\"): \"Ile\", (\"U\", \"G\", \"A\"): \"STOP\"}\n",
    "print(gencode)"
   ]
  },
  {
   "cell_type": "markdown",
   "metadata": {},
   "source": [
    "* la clef est un acide aminé, la valeur est la liste des codons associés"
   ]
  },
  {
   "cell_type": "code",
   "execution_count": 128,
   "metadata": {
    "collapsed": false
   },
   "outputs": [
    {
     "name": "stdout",
     "output_type": "stream",
     "text": [
      "{'Phe': ['UUU', 'UUC'], 'Met': ['AUG']}\n"
     ]
    }
   ],
   "source": [
    "gencode = {\"Phe\": [\"UUU\", \"UUC\"], \"Met\": [\"AUG\"]}\n",
    "print(gencode)"
   ]
  },
  {
   "cell_type": "markdown",
   "metadata": {},
   "source": [
    "## Questions\n",
    "\n",
    "L'idée est d'écrire dans un premier temps des fonctions qui réalisent les\n",
    "opérations suivantes puis d'écrire une classe qui contient les même\n",
    "fonctionnalités.\n",
    "\n",
    "1. Écrire une fonction qui génère aléatoirement un brin d'ADN. On pourra choisir\n",
    "   aléatoirement un codon STOP pour terminer le brin ou la partie codante.\n",
    "2. Écrire une fonction qui écrit le brin d'ADN dans un fichier\n",
    "3. Écrire une fonction qui lit un brin d'ADN dans un fichier\n",
    "4. Identifier s'il s'agit d'un brin d'ADN ou d'ARN et si ce brin est valide\n",
    "5. Statistique : extraire les informations suivantes d'un brin d'ADN\n",
    "    * Nombre total de bases\n",
    "    * Nombre de codons\n",
    "    * pourcentage de chaque base dans le brin\n",
    "6. Écrire une fonction qui réalise la transcription de l'ADN en ARN\n",
    "7. Écrire une fonction qui traduit l'ARN et renvoie la chaîne d'acides aminés\n",
    "   correspondante. Attention, elle doit s'arrêter au codon STOP.\n",
    "8. Statistique. Extraire des statistiques sur les acides aminés : nombre, polarité, ...\n"
   ]
  },
  {
   "cell_type": "markdown",
   "metadata": {},
   "source": [
    "## Programmation\n",
    "\n",
    "Commençons par charger les modules dont nous aurons besoin."
   ]
  },
  {
   "cell_type": "code",
   "execution_count": 129,
   "metadata": {
    "collapsed": false
   },
   "outputs": [
    {
     "name": "stdout",
     "output_type": "stream",
     "text": [
      "Populating the interactive namespace from numpy and matplotlib\n"
     ]
    }
   ],
   "source": [
    "%pylab --no-import-all inline"
   ]
  },
  {
   "cell_type": "markdown",
   "metadata": {},
   "source": [
    "### Exercice sur les dictionnaires\n",
    "\n",
    "En prennant les données de \n",
    "[ce tableau](https://fr.wikipedia.org/wiki/Acide_amin%C3%A9_prot%C3%A9inog%C3%A8ne#Propri.C3.A9t.C3.A9s_chimiques)\n",
    "on va construire une base de données sur les acides aminés.\n",
    "\n",
    "#### Correspondance des noms\n",
    "\n",
    "On peut reprendre l'exemple décrit plus haut pour introduire les dictionnaire et le compléter :"
   ]
  },
  {
   "cell_type": "code",
   "execution_count": 130,
   "metadata": {
    "collapsed": false
   },
   "outputs": [
    {
     "name": "stdout",
     "output_type": "stream",
     "text": [
      "dictionnaire :  {'A': 'Ala', 'L': 'Leu', 'M': 'Met'}\n"
     ]
    }
   ],
   "source": [
    "aa = dict()\n",
    "aa[\"M\"] = \"Met\"\n",
    "aa[\"L\"] = \"Leu\"\n",
    "aa[\"A\"] = \"Ala\"\n",
    "print(\"dictionnaire : \", aa)"
   ]
  },
  {
   "cell_type": "markdown",
   "metadata": {},
   "source": [
    "Avec tous les acides aminés :"
   ]
  },
  {
   "cell_type": "code",
   "execution_count": 131,
   "metadata": {
    "collapsed": false
   },
   "outputs": [
    {
     "name": "stdout",
     "output_type": "stream",
     "text": [
      "{'I': 'Ile', 'R': 'Arg', 'F': 'Phe', 'M': 'Met', 'H': 'His', 'K': 'Lys', 'P': 'Pro', 'D': 'Asp', 'V': 'Val', 'Q': 'Gln', 'G': 'Gly', 'T': 'Thr', 'L': 'Leu', 'C': 'Cys', 'N': 'Asn', 'E': 'Glu', 'A': 'Ala', 'Y': 'Tyr', 'S': 'Ser', 'W': 'Trp'}\n"
     ]
    }
   ],
   "source": [
    "aa = {\n",
    "    \"V\": \"Val\",\n",
    "    \"I\": \"Ile\",\n",
    "    \"L\": \"Leu\",\n",
    "    \"M\": \"Met\",\n",
    "    \"F\": \"Phe\",\n",
    "    \"A\": \"Ala\",\n",
    "    \"P\": \"Pro\",\n",
    "    \"W\": \"Trp\",\n",
    "    \"G\": \"Gly\",\n",
    "    \"Y\": \"Tyr\",\n",
    "    \"S\": \"Ser\",\n",
    "    \"T\": \"Thr\",\n",
    "    \"C\": \"Cys\",\n",
    "    \"N\": \"Asn\",\n",
    "    \"Q\": \"Gln\",\n",
    "    \"R\": \"Arg\",\n",
    "    \"K\": \"Lys\",\n",
    "    \"H\": \"His\",\n",
    "    \"D\": \"Asp\",\n",
    "    \"E\": \"Glu\"    \n",
    "}\n",
    "print(aa)"
   ]
  },
  {
   "cell_type": "markdown",
   "metadata": {},
   "source": [
    "#### Base de données plus complète \n",
    "\n",
    "Pour cela on va *imbriquer* des dictionnaires. Voici un exemple pour un acide aminé :"
   ]
  },
  {
   "cell_type": "code",
   "execution_count": 132,
   "metadata": {
    "collapsed": true
   },
   "outputs": [],
   "source": [
    "aa = {\n",
    "    \"Valine\": {\n",
    "        \"A\": \"V\",\n",
    "        \"Abr\": \"Val\",\n",
    "        \"masse\": 117.14784,\n",
    "        \"pI\": 5.96,\n",
    "        \"polaire\": False\n",
    "    }\n",
    "}"
   ]
  },
  {
   "cell_type": "markdown",
   "metadata": {},
   "source": [
    "On peut ensuite utiliser nos données de la façon suivante :"
   ]
  },
  {
   "cell_type": "code",
   "execution_count": 133,
   "metadata": {
    "collapsed": false
   },
   "outputs": [
    {
     "name": "stdout",
     "output_type": "stream",
     "text": [
      "masse =  117.14784\n",
      "Abreviation :  Val\n"
     ]
    }
   ],
   "source": [
    "print(\"masse = \", aa[\"Valine\"][\"masse\"])\n",
    "print(\"Abreviation : \", aa[\"Valine\"][\"Abr\"])"
   ]
  },
  {
   "cell_type": "markdown",
   "metadata": {},
   "source": [
    "Voici le dictionnaire complet :"
   ]
  },
  {
   "cell_type": "code",
   "execution_count": 134,
   "metadata": {
    "collapsed": false
   },
   "outputs": [],
   "source": [
    "acideAmine = {\n",
    "    \"Alanine\": {\n",
    "        \"A\": \"A\",\n",
    "        \"Abr\": \"Ala\",\n",
    "        \"masse\": 89.09404,\n",
    "        \"pI\": 6.00,\n",
    "        \"polaire\": False\n",
    "    },\n",
    "    \"Arginine\": {\n",
    "        \"A\": \"R\",\n",
    "        \"Abr\": \"Arg\",\n",
    "        \"masse\": 174.20274,\n",
    "        \"pI\": 10.76,\n",
    "        \"polaire\": True\n",
    "    },\n",
    "    \"Asparagine\": {\n",
    "        \"A\": \"N\",\n",
    "        \"Abr\": \"Asn\",\n",
    "        \"masse\": 132.11904,\n",
    "        \"pI\": 5.41,\n",
    "        \"polaire\": True\n",
    "    },\n",
    "    \"Aspartate\": {\n",
    "        \"A\": \"D\",\n",
    "        \"Abr\": \"Asp\",\n",
    "        \"masse\": 133.10384,\n",
    "        \"pI\": 2.77,\n",
    "        \"polaire\": True\n",
    "    },\n",
    "    \"Cystéine\": {\n",
    "        \"A\": \"C\",\n",
    "        \"Abr\": \"Cys\",\n",
    "        \"masse\": 121.15404,\n",
    "        \"pI\": 5.07,\n",
    "        \"polaire\": False\n",
    "    },\n",
    "    \"Glutamate\": {\n",
    "        \"A\": \"E\",\n",
    "        \"Abr\": \"Glu\",\n",
    "        \"masse\": 147.13074,\n",
    "        \"pI\": 3.22,\n",
    "        \"polaire\": True\n",
    "    },\n",
    "    \"Glutamine\": {\n",
    "        \"A\": \"Q\",\n",
    "        \"Abr\": \"Gln\",\n",
    "        \"masse\": 146.14594,\n",
    "        \"pI\": 5.65,\n",
    "        \"polaire\": True\n",
    "    },\n",
    "    \"Glycine\": {\n",
    "        \"A\": \"G\",\n",
    "        \"Abr\": \"Gly\",\n",
    "        \"masse\": 75.06714,\n",
    "        \"pI\": 5.97,\n",
    "        \"polaire\": False\n",
    "    },\n",
    "    \"Histidine\": {\n",
    "        \"A\": \"H\",\n",
    "        \"Abr\": \"His\",\n",
    "        \"masse\": 155.15634,\n",
    "        \"pI\": 7.59,\n",
    "        \"polaire\": True\n",
    "    },\n",
    "    \"Isoleucine\": {\n",
    "        \"A\": \"I\",\n",
    "        \"Abr\": \"Ile\",\n",
    "        \"masse\": 131.17464,\n",
    "        \"pI\": 6.02,\n",
    "        \"polaire\": False\n",
    "    },\n",
    "    \"Leucine\": {\n",
    "        \"A\": \"L\",\n",
    "        \"Abr\": \"Leu\",\n",
    "        \"masse\": 131.17464,\n",
    "        \"pI\": 5.98,\n",
    "        \"polaire\": False\n",
    "    },\n",
    "    \"Lysine\": {\n",
    "        \"A\": \"K\",\n",
    "        \"Abr\": \"Lys\",\n",
    "        \"masse\": 146.18934,\n",
    "        \"pI\": 9.74,\n",
    "        \"polaire\": True\n",
    "    },\n",
    "    \"Methionine\": {\n",
    "        \"A\": \"M\",\n",
    "        \"Abr\": \"Met\",\n",
    "        \"masse\": 149.20784,\n",
    "        \"pI\": 5.74,\n",
    "        \"polaire\": False\n",
    "    },\n",
    "    \"Phénylalanine\": {\n",
    "        \"A\": \"F\",\n",
    "        \"Abr\": \"Phe\",\n",
    "        \"masse\": 165.19184,\n",
    "        \"pI\": 5.48,\n",
    "        \"polaire\": False\n",
    "    },\n",
    "    \"Proline\": {\n",
    "        \"A\": \"P\",\n",
    "        \"Abr\": \"Pro\",\n",
    "        \"masse\": 115.13194,\n",
    "        \"pI\": 6.30,\n",
    "        \"polaire\": False\n",
    "    },\n",
    "    \"Sérine\": {\n",
    "        \"A\": \"S\",\n",
    "        \"Abr\": \"Ser\",\n",
    "        \"masse\": 105.09344,\n",
    "        \"pI\": 5.68,\n",
    "        \"polaire\": True\n",
    "    },\n",
    "    \"Thréonine\": {\n",
    "        \"A\": \"T\",\n",
    "        \"Abr\": \"Thr\",\n",
    "        \"masse\": 119.12034,\n",
    "        \"pI\": 5.60,\n",
    "        \"polaire\": True\n",
    "    },\n",
    "    \"Tryptophane\": {\n",
    "        \"A\": \"W\",\n",
    "        \"Abr\": \"Trp\",\n",
    "        \"masse\": 204.22844,\n",
    "        \"pI\": 5.89,\n",
    "        \"polaire\": False\n",
    "    },\n",
    "    \"Tyrosine\": {\n",
    "        \"A\": \"Y\",\n",
    "        \"Abr\": \"Tyr\",\n",
    "        \"masse\": 181.19124,\n",
    "        \"pI\": 5.66,\n",
    "        \"polaire\": True\n",
    "    },\n",
    "    \"Valine\": {\n",
    "        \"A\": \"V\",\n",
    "        \"Abr\": \"Val\",\n",
    "        \"masse\": 117.14784,\n",
    "        \"pI\": 5.96,\n",
    "        \"polaire\": False\n",
    "    }\n",
    "}"
   ]
  },
  {
   "cell_type": "markdown",
   "metadata": {},
   "source": [
    "#### Lecture des données\n",
    "\n",
    "Essayons maintenant de lire des données. Par exemple le nombre d'acides aminés :"
   ]
  },
  {
   "cell_type": "code",
   "execution_count": 135,
   "metadata": {
    "collapsed": false
   },
   "outputs": [
    {
     "name": "stdout",
     "output_type": "stream",
     "text": [
      "20\n"
     ]
    }
   ],
   "source": [
    "print(len(acideAmine.keys()))"
   ]
  },
  {
   "cell_type": "markdown",
   "metadata": {},
   "source": [
    "La liste des acides aminés polaires :"
   ]
  },
  {
   "cell_type": "code",
   "execution_count": 136,
   "metadata": {
    "collapsed": false
   },
   "outputs": [
    {
     "name": "stdout",
     "output_type": "stream",
     "text": [
      "Liste des acides aminés polaires :\n",
      "  *  Arginine\n",
      "  *  Histidine\n",
      "  *  Glutamate\n",
      "  *  Lysine\n",
      "  *  Asparagine\n",
      "  *  Aspartate\n",
      "  *  Sérine\n",
      "  *  Thréonine\n",
      "  *  Tyrosine\n",
      "  *  Glutamine\n"
     ]
    }
   ],
   "source": [
    "print(\"Liste des acides aminés polaires :\")\n",
    "for nom, data in acideAmine.items():\n",
    "    if data[\"polaire\"]:\n",
    "        print(\"  * \", nom)"
   ]
  },
  {
   "cell_type": "markdown",
   "metadata": {},
   "source": [
    "Ou en une seule ligne avec une compréhension de liste :"
   ]
  },
  {
   "cell_type": "code",
   "execution_count": 137,
   "metadata": {
    "collapsed": false
   },
   "outputs": [
    {
     "name": "stdout",
     "output_type": "stream",
     "text": [
      "['Arginine', 'Histidine', 'Glutamate', 'Lysine', 'Asparagine', 'Aspartate', 'Sérine', 'Thréonine', 'Tyrosine', 'Glutamine']\n"
     ]
    }
   ],
   "source": [
    "print([nom for nom, data in acideAmine.items() if data[\"polaire\"]])"
   ]
  },
  {
   "cell_type": "markdown",
   "metadata": {},
   "source": [
    "### Construire aléatoirement un brin d'ADN\n",
    "\n",
    "Définissons tout d'abord quelques constantes"
   ]
  },
  {
   "cell_type": "code",
   "execution_count": 138,
   "metadata": {
    "collapsed": true
   },
   "outputs": [],
   "source": [
    "BASE_ADN = [\"A\", \"T\", \"C\", \"G\"]\n",
    "BASE_ARN = [\"A\", \"U\", \"C\", \"G\"]\n",
    "STOP = [\"TAA\", \"TAG\", \"TGA\"]"
   ]
  },
  {
   "cell_type": "markdown",
   "metadata": {},
   "source": [
    "On va utiliser la fonction `randint()` de numpy pour choisir aléatoirement une base."
   ]
  },
  {
   "cell_type": "code",
   "execution_count": 139,
   "metadata": {
    "collapsed": false
   },
   "outputs": [],
   "source": [
    "def gen_brins(nbases=10, typ=\"ADN\"):\n",
    "    \"\"\" \n",
    "    génère un fragment d'ADN ou ARN contenant nbases dont un codon stop à la fin\n",
    "\n",
    "    Args:\n",
    "        nbases (int): nombre de bases\n",
    "        typ (str): \"ADN\" ou \"ARN\"\n",
    "\n",
    "    Return:\n",
    "        fragment (str): le fragment d'ADN\n",
    "    \"\"\"\n",
    "    # type ADN ou ARN\n",
    "    if typ == \"ADN\":\n",
    "        bases = BASE_ADN\n",
    "    elif typ == \"ARN\":\n",
    "        bases = BASE_ARN\n",
    "    else:\n",
    "        raise ValueError(\"typ doit être 'ARN' ou 'ADN', typ = %s\" % typ)\n",
    "    \n",
    "    # construction fragment ADN\n",
    "    # nbases % 3 est le reste de la division de nbases par 3\n",
    "    # on prend nbases - nbases % 3 pour avoir un multiple de 3\n",
    "    fragment = \"\".join([bases[np.random.randint(0, 4)] for i in range(nbases - nbases % 3)])\n",
    "\n",
    "    codon_stop = STOP[np.random.randint(0, 2)]\n",
    "    if typ == \"ARN\":\n",
    "        codon_stop.replace(\"T\", \"U\")\n",
    "    # on remplace les 3 dernières bases par le codon STOP\n",
    "    fragment = fragment[:-3] + codon_stop\n",
    "\n",
    "    return fragment"
   ]
  },
  {
   "cell_type": "markdown",
   "metadata": {},
   "source": [
    "Utilisons notre fonction :"
   ]
  },
  {
   "cell_type": "code",
   "execution_count": 140,
   "metadata": {
    "collapsed": false
   },
   "outputs": [
    {
     "name": "stdout",
     "output_type": "stream",
     "text": [
      "CAACGCTAG\n",
      "9\n"
     ]
    }
   ],
   "source": [
    "brin = gen_brins(10)\n",
    "print(brin)\n",
    "print(len(brin))"
   ]
  },
  {
   "cell_type": "markdown",
   "metadata": {},
   "source": [
    "On a un brin de 12 bases avec les trois dernières qui correspondent à un codon STOP."
   ]
  },
  {
   "cell_type": "markdown",
   "metadata": {},
   "source": [
    "### Écrire le brin dans un fichier\n",
    "\n",
    "On va simplement écrire la chaîne de caractère dans un fichier :"
   ]
  },
  {
   "cell_type": "code",
   "execution_count": 141,
   "metadata": {
    "collapsed": true
   },
   "outputs": [],
   "source": [
    "def write_file(fragment, fichier=\"brin.dat\"):\n",
    "    \"\"\" Écrit le fragment dans un fichier \"\"\"\n",
    "    with open(fichier, \"w\") as f:\n",
    "        f.write(fragment)"
   ]
  },
  {
   "cell_type": "markdown",
   "metadata": {},
   "source": [
    "Pour avoir un fichier plus lisible, on pourrait choisir d'afficher un certain nombre de codons par ligne avec un séparateur donné entre chaque codon :"
   ]
  },
  {
   "cell_type": "code",
   "execution_count": 142,
   "metadata": {
    "collapsed": true
   },
   "outputs": [],
   "source": [
    "def write_file(fragment, fichier=\"brin.dat\", codonParLigne=15, separateur=\" \"):\n",
    "    \"\"\" \n",
    "    Ecrit le fragment dans un fichier \n",
    "   \n",
    "    Args:\n",
    "       fichier (str): nom du fichier.\n",
    "       fragment (str): fragment d'ADN\n",
    "       codonParLigne (int): nombre de codons par ligne.\n",
    "       separateur (str): séparateur des codons\n",
    "    \"\"\"\n",
    "\n",
    "    # calcul nombre de codons dans le fragment\n",
    "    ncodon = len(fragment) // 3\n",
    "\n",
    "    with open(fichier, \"w\") as out:\n",
    "        n = 0\n",
    "        while n < ncodon:\n",
    "            out.write(fragment[3*n : 3*n + 3] + separateur)\n",
    "            n += 1\n",
    "            if n % codonParLigne == 0:\n",
    "                out.write(\"\\n\")"
   ]
  },
  {
   "cell_type": "markdown",
   "metadata": {},
   "source": [
    "Le symbole `//` désigne une division entière.\n",
    "\n",
    "### Lire le brin dans un fichier\n",
    "\n",
    "On peut écrire une fonction qui lit de façon directe le fichier et supprime tout les séparateurs ou sauts de ligne."
   ]
  },
  {
   "cell_type": "code",
   "execution_count": 143,
   "metadata": {
    "collapsed": true
   },
   "outputs": [],
   "source": [
    "def read_adn(fichier, separateur=\" \"):\n",
    "    \"\"\" lit un brin d'ADN sur un fichier \"\"\"\n",
    "    with open(fichier, \"r\") as f:\n",
    "        fragment = f.read()\n",
    "    fragment = fragment.replace(separateur, \"\").replace(\"\\n\", \"\")\n",
    "    return fragment"
   ]
  },
  {
   "cell_type": "markdown",
   "metadata": {},
   "source": [
    "Exemple d'utilisation :"
   ]
  },
  {
   "cell_type": "code",
   "execution_count": 144,
   "metadata": {
    "collapsed": false
   },
   "outputs": [
    {
     "name": "stdout",
     "output_type": "stream",
     "text": [
      "GTGGGACAATTGTCGGAGGGGATAGTGTCCGACGAGATTGTAGCCCGTGAAACGTTTGAGGTGTCTTGGTCCTGATGATAGCCGAGATAGAAGAATTAG\n"
     ]
    }
   ],
   "source": [
    "fragment = gen_brins(100)\n",
    "print(fragment)\n",
    "write_file(fragment, codonParLigne=5)"
   ]
  },
  {
   "cell_type": "code",
   "execution_count": 145,
   "metadata": {
    "collapsed": false
   },
   "outputs": [
    {
     "name": "stdout",
     "output_type": "stream",
     "text": [
      "GTG GGA CAA TTG TCG \r\n",
      "GAG GGG ATA GTG TCC \r\n",
      "GAC GAG ATT GTA GCC \r\n",
      "CGT GAA ACG TTT GAG \r\n",
      "GTG TCT TGG TCC TGA \r\n",
      "TGA TAG CCG AGA TAG \r\n",
      "AAG AAT TAG "
     ]
    }
   ],
   "source": [
    "!cat brin.dat"
   ]
  },
  {
   "cell_type": "code",
   "execution_count": 146,
   "metadata": {
    "collapsed": false
   },
   "outputs": [
    {
     "data": {
      "text/plain": [
       "'GTGGGACAATTGTCGGAGGGGATAGTGTCCGACGAGATTGTAGCCCGTGAAACGTTTGAGGTGTCTTGGTCCTGATGATAGCCGAGATAGAAGAATTAG'"
      ]
     },
     "execution_count": 146,
     "metadata": {},
     "output_type": "execute_result"
    }
   ],
   "source": [
    "read_adn(\"brin.dat\")"
   ]
  },
  {
   "cell_type": "markdown",
   "metadata": {},
   "source": [
    "### Identification du brin\n",
    "\n",
    "Écrivons une fonction qui vérifie si le brin est un brin d'ADN ou d'ARN et s'il est valide. Pour l'exercice, on considèrera que le brin est \"valide\" s'il contient les bases adéquates et si le nombre de bases est un multiple de 3."
   ]
  },
  {
   "cell_type": "code",
   "execution_count": 147,
   "metadata": {
    "collapsed": false
   },
   "outputs": [],
   "source": [
    "def is_valid(fragment, typ=\"ADN\"):\n",
    "    \"\"\" \n",
    "    indique si le fragment est valide contenu du type indiqué \n",
    "    \n",
    "    Args:\n",
    "        fragment (str): fragment d'ADN ou ARN\n",
    "        typ (str): \"ADN\" ou \"ARN\"\n",
    "    \n",
    "    Returns\n",
    "        True or False\n",
    "    \"\"\"\n",
    "    # type ADN ou ARN\n",
    "    if typ == \"ADN\":\n",
    "        bases = BASE_ADN\n",
    "    elif typ == \"ARN\":\n",
    "        bases = BASE_ARN\n",
    "    else:\n",
    "        raise ValueError(\"typ doit être 'ARN' ou 'ADN', typ = %s\" % typ)\n",
    "        \n",
    "    # valeur retournée\n",
    "    valid = True\n",
    "    \n",
    "    # test multiple de 3\n",
    "    if len(fragment) % 3 != 0:\n",
    "        valid = False\n",
    "        print(\"Error number of bases\")\n",
    "    # test des bases :\n",
    "    else:\n",
    "        for base in fragment:\n",
    "            if base not in bases:\n",
    "                valid = False\n",
    "                print(\"Error : \", base, \" is not valid.\")\n",
    "                break\n",
    "    \n",
    "    return valid"
   ]
  },
  {
   "cell_type": "markdown",
   "metadata": {},
   "source": [
    "Test de notre fonction :"
   ]
  },
  {
   "cell_type": "code",
   "execution_count": 148,
   "metadata": {
    "collapsed": false
   },
   "outputs": [
    {
     "name": "stdout",
     "output_type": "stream",
     "text": [
      "adn_ok  :  True\n",
      "Error number of bases\n",
      "adn_bad :  False\n",
      "arn_ok  :  True\n",
      "Error :  Y  is not valid.\n",
      "arn_bad :  False\n"
     ]
    }
   ],
   "source": [
    "adn_ok = \"TAATCCTAAAACCCT\"\n",
    "adn_bad = \"TAATCCTAAAACCT\" # nbre de bases\n",
    "arn_ok = \"UAAUCCUAAAACCCU\"\n",
    "arn_bad = \"UAAUYCUAAXACCCU\" # nom des bases\n",
    "print(\"adn_ok  : \", is_valid(adn_ok))\n",
    "print(\"adn_bad : \", is_valid(adn_bad))\n",
    "print(\"arn_ok  : \", is_valid(arn_ok, typ=\"ARN\"))\n",
    "print(\"arn_bad : \", is_valid(arn_bad, typ=\"ARN\"))"
   ]
  },
  {
   "cell_type": "markdown",
   "metadata": {},
   "source": [
    "### Statistiques sur le brin\n",
    "\n",
    "Extraire les informations suivantes d'un brin d'ADN\n",
    "\n",
    "* Nombre total de bases\n",
    "* Nombre de codons\n",
    "* pourcentage de chaque base dans le brin\n",
    "\n",
    "Le nombre total de bases et de codon est donné par la fonction `len()`."
   ]
  },
  {
   "cell_type": "code",
   "execution_count": 149,
   "metadata": {
    "collapsed": false
   },
   "outputs": [
    {
     "name": "stdout",
     "output_type": "stream",
     "text": [
      "GGGGATCAGAGAATATAA\n"
     ]
    }
   ],
   "source": [
    "adn = gen_brins(18)\n",
    "print(adn)"
   ]
  },
  {
   "cell_type": "code",
   "execution_count": 150,
   "metadata": {
    "collapsed": false
   },
   "outputs": [
    {
     "name": "stdout",
     "output_type": "stream",
     "text": [
      "nombre de bases :  18\n"
     ]
    }
   ],
   "source": [
    "print(\"nombre de bases : \", len(adn))"
   ]
  },
  {
   "cell_type": "code",
   "execution_count": 151,
   "metadata": {
    "collapsed": false
   },
   "outputs": [
    {
     "name": "stdout",
     "output_type": "stream",
     "text": [
      "nombre de codons :  6\n"
     ]
    }
   ],
   "source": [
    "print(\"nombre de codons : \", len(adn) // 3)"
   ]
  },
  {
   "cell_type": "markdown",
   "metadata": {},
   "source": [
    "Calculons maintenant le nombre de chaque base. Nous allons utiliser la méthode `count()` de l'objet `str`."
   ]
  },
  {
   "cell_type": "code",
   "execution_count": 152,
   "metadata": {
    "collapsed": false
   },
   "outputs": [
    {
     "data": {
      "text/plain": [
       "3"
      ]
     },
     "execution_count": 152,
     "metadata": {},
     "output_type": "execute_result"
    }
   ],
   "source": [
    "adn.count(\"T\")"
   ]
  },
  {
   "cell_type": "markdown",
   "metadata": {},
   "source": [
    "Écriture de la fonction :"
   ]
  },
  {
   "cell_type": "code",
   "execution_count": 153,
   "metadata": {
    "collapsed": true
   },
   "outputs": [],
   "source": [
    "def get_stat_base(fragment, typ=\"ADN\"):\n",
    "    \"\"\" Compte le nombre de chaque type de base et retourne un dictionnaire \"\"\"\n",
    "    # type ADN ou ARN\n",
    "    if typ == \"ADN\":\n",
    "        bases = BASE_ADN\n",
    "    elif typ == \"ARN\":\n",
    "        bases = BASE_ARN\n",
    "    else:\n",
    "        raise ValueError(\"typ doit être 'ARN' ou 'ADN', typ = %s\" % typ)\n",
    "    # comptage\n",
    "    data = dict()\n",
    "    for base in bases:\n",
    "        data[base] = fragment.count(base)\n",
    "    return data"
   ]
  },
  {
   "cell_type": "markdown",
   "metadata": {},
   "source": [
    "Ce qui donne : "
   ]
  },
  {
   "cell_type": "code",
   "execution_count": 154,
   "metadata": {
    "collapsed": false
   },
   "outputs": [
    {
     "name": "stdout",
     "output_type": "stream",
     "text": [
      "GGGGATCAGAGAATATAA\n"
     ]
    },
    {
     "data": {
      "text/plain": [
       "{'A': 8, 'C': 1, 'G': 6, 'T': 3}"
      ]
     },
     "execution_count": 154,
     "metadata": {},
     "output_type": "execute_result"
    }
   ],
   "source": [
    "print(adn)\n",
    "get_stat_base(adn)"
   ]
  },
  {
   "cell_type": "markdown",
   "metadata": {},
   "source": [
    "#### Combinons avec un graphique matplotlib"
   ]
  },
  {
   "cell_type": "code",
   "execution_count": 157,
   "metadata": {
    "collapsed": false
   },
   "outputs": [
    {
     "name": "stdout",
     "output_type": "stream",
     "text": [
      "brin valide ?  True\n",
      "AAACATTCCTAGGAAGACCGTACTTTCCATTGAGACGGTCACATCTTATGTGACTATCACGAGAAGGGTGCTTACGATACCTTTTGATTTAACTACGGTACAGTATCGCTGCAGTTGTACACTGGTTGCGGGAGTCGGTGAACCATACCAGAATCCTACCCATGTAAGAAGTTTCAACGACTCGCCGGTTGGCGCACCGTGATGGAACAGGGGGACAATACTTTTTTCCGAGTCCGATACCGCGACATACCGCGTCAGTGGGTAACAAGGCCCAGGCCGCTCCTGTTCATAAGCAGTGCTGTTTATGCGCGTAGCTCAATAGCTTTGCATGTATAGCACGCGGATTACTACAGTATTCGCACCAGCTACTCCCCGCGCGTCCTCATAATAGTTCATCCTTTGCTTCAATGGAAAAGTGAACAAGCGTTGCCTGTTCACGAACGACGAGTGTAAATGGTAATGGAACTACTCGCTTCTCGAGACTAACGTGTTAATGAAGCTTTGTTGCCAGTCGTCGTTATCCACCTAATGAACAATGCAATGGCGGATGTGTGTGACTTGGAATTTATCGCCTCCGTACACAGGTCGGTGCAAAAGTTGACCATGCCTTTCCCCGCCCCCATACCTCACGCAGTAGGAAGACCCGTGTGTGCTCATGCCTCTCATTAAGGCTCGATAACCTCTGGCCCTTGCCGAGTTCCGTTATACTGAACCGTCTGGTGCCCCAAAGCGTCGGGAGGCAGCAAGAGCACATACCCGCCAGCACGTTTTCTTGGGGTGCCCTCGATCACATGATCAACAAGCAACACGAAATCTTGGAGCTCCGACGCTTCAGGATTATAACTTGTCCTCCCACTCCCTGTATACAAAAGTGACACACTTATAAGAACATTTGACATCATCCGCTGCACTGATGGGCAGACGCTAAGGAAGGGGGTCAGCATCAACGCCAGAATCGCAGTTGTCGCCGGGTCCGTCGTTCCGGTGACACAGAACTAA\n",
      "\n",
      "Statistique :\n",
      "{'G': 237, 'A': 250, 'T': 245, 'C': 267}\n"
     ]
    },
    {
     "data": {
      "text/plain": [
       "<matplotlib.text.Text at 0x105dbbb00>"
      ]
     },
     "execution_count": 157,
     "metadata": {},
     "output_type": "execute_result"
    },
    {
     "data": {
      "image/png": "[encoded data removed]",
      "text/plain": [
       "<matplotlib.figure.Figure at 0x105d8bda0>"
      ]
     },
     "metadata": {},
     "output_type": "display_data"
    }
   ],
   "source": [
    "adn = gen_brins(1000)\n",
    "print(\"brin valide ? \", is_valid(adn))\n",
    "data = get_stat_base(adn)\n",
    "print(adn)\n",
    "\n",
    "print(\"\\nStatistique :\")\n",
    "print(data)\n",
    "\n",
    "plt.bar([x + .2 for x in range(4)], [(n / len(adn)) * 100. for n in data.values()], width=.6)\n",
    "plt.ylabel(\"% des bases\")\n",
    "plt.xticks([x + .5 for x in range(4)], list(data.keys()))\n",
    "plt.xlim()\n",
    "plt.ylim(0, 50)\n",
    "plt.title(\"Statistique sur le brin ADN\")"
   ]
  },
  {
   "cell_type": "markdown",
   "metadata": {},
   "source": [
    "### Transcription de l'ADN\n",
    "\n",
    "Cette fonction est très simple à écrire. On utilise la fonction `replace()` de l'objet `str`."
   ]
  },
  {
   "cell_type": "code",
   "execution_count": 158,
   "metadata": {
    "collapsed": true
   },
   "outputs": [],
   "source": [
    "def transcription(fragment):\n",
    "    \"\"\"\n",
    "    Transcrit un brin d'ADN (base A T C G) en brin d'ARN (base A U C G).\n",
    "    \n",
    "    Args:\n",
    "        fragment (str): fragment d'ADN\n",
    "        \n",
    "    Return:\n",
    "        arn (str): fragment d'ARN\n",
    "    \"\"\"\n",
    "    return fragment.replace(\"T\", \"U\")"
   ]
  },
  {
   "cell_type": "markdown",
   "metadata": {},
   "source": [
    "Test de la fonction :"
   ]
  },
  {
   "cell_type": "code",
   "execution_count": 159,
   "metadata": {
    "collapsed": false
   },
   "outputs": [
    {
     "name": "stdout",
     "output_type": "stream",
     "text": [
      "GTCAGTAACGAGGCGAGCTAA\n",
      "GUCAGUAACGAGGCGAGCUAA\n"
     ]
    }
   ],
   "source": [
    "adn = gen_brins(21)\n",
    "print(adn)\n",
    "arn = transcription(adn)\n",
    "print(arn)"
   ]
  },
  {
   "cell_type": "markdown",
   "metadata": {},
   "source": [
    "### Traduction de l'ARN\n",
    "\n",
    "Pour l'étape de traduction, il nous faut le code génétique. Commençons par écrire un dictionnaire qui contient le code."
   ]
  },
  {
   "cell_type": "code",
   "execution_count": 160,
   "metadata": {
    "collapsed": true
   },
   "outputs": [],
   "source": [
    "# code genetique\n",
    "geneticCode = {\"Leu\": [\"UUA\", \"UUG\", \"CUU\", \"CUC\", \"CUA\", \"CUG\"],\n",
    "               \"Phe\": [\"UUU\", \"UUC\"],\n",
    "               \"Ile\": [\"AUU\", \"AUC\", \"AUA\"],\n",
    "               \"Met\": [\"AUG\"],\n",
    "               \"Val\": [\"GUU\", \"GUC\", \"GUA\", \"GUG\"],\n",
    "               \"Ser\": [\"UCU\", \"UCC\", \"UCA\", \"UCG\", \"AGU\", \"AGC\"],\n",
    "               \"Pro\": [\"CCU\", \"CCC\", \"CCA\", \"CCG\"],\n",
    "               \"Thr\": [\"ACU\", \"ACC\", \"ACA\", \"ACG\"],\n",
    "               \"Ala\": [\"GCU\", \"GCC\", \"GCA\", \"GCG\"],\n",
    "               \"Tyr\": [\"UAU\", \"UAC\"],\n",
    "               \"STOP\": [\"UAA\", \"UAG\", \"UGA\"],\n",
    "               \"His\": [\"CAU\", \"CAC\"],\n",
    "               \"Gln\": [\"CAA\", \"CAG\"],\n",
    "               \"Asn\": [\"AAU\", \"AAC\"],\n",
    "               \"Lys\": [\"AAA\", \"AAG\"],\n",
    "               \"Asp\": [\"GAU\", \"GAC\"],\n",
    "               \"Glu\": [\"GAA\", \"GAG\"],\n",
    "               \"Cys\": [\"UGU\", \"UGC\"],\n",
    "               \"Trp\": [\"UGG\"],\n",
    "               \"Arg\": [\"CGU\", \"CGC\", \"CGA\", \"CGG\", \"AGA\", \"AGG\"],\n",
    "               \"Gly\": [\"GGU\", \"GGC\", \"GGA\", \"GGG\"]}"
   ]
  },
  {
   "cell_type": "markdown",
   "metadata": {},
   "source": [
    "Ensuite on écrit une fonction qui pour un codon donné, retourne le nom de l'acide aminé :"
   ]
  },
  {
   "cell_type": "code",
   "execution_count": 164,
   "metadata": {
    "collapsed": true
   },
   "outputs": [],
   "source": [
    "def codon_to_aa(uncodon):\n",
    "    \"\"\"\n",
    "    Renvoie le code à trois lettres d'un acide aminé correspondant au codon\n",
    "    donné en argument.\n",
    "    \n",
    "    Args:\n",
    "        uncodon (str): codon de l'ARN.\n",
    "        \n",
    "    Return:\n",
    "        acideAmine (str): code à trois lettres de l'acide aminé correspondant.\n",
    "    \"\"\"        \n",
    "    acideAmine = None\n",
    "    identify = False\n",
    "    for aa, codons in geneticCode.items():\n",
    "        if uncodon in codons:\n",
    "            acideAmine = aa\n",
    "            identify = True\n",
    "            break\n",
    "            \n",
    "    if not identify:\n",
    "        raise ValueError(\"ERREUR : codon '%s' non identifié\" % uncodon)\n",
    "\n",
    "    return acideAmine"
   ]
  },
  {
   "cell_type": "markdown",
   "metadata": {},
   "source": [
    "Exemple :"
   ]
  },
  {
   "cell_type": "code",
   "execution_count": 165,
   "metadata": {
    "collapsed": false
   },
   "outputs": [
    {
     "name": "stdout",
     "output_type": "stream",
     "text": [
      "Gln\n"
     ]
    }
   ],
   "source": [
    "print(codon_to_aa(\"CAA\"))"
   ]
  },
  {
   "cell_type": "code",
   "execution_count": 166,
   "metadata": {
    "collapsed": false
   },
   "outputs": [
    {
     "ename": "ValueError",
     "evalue": "ERREUR : codon 'AZF' non identifié",
     "output_type": "error",
     "traceback": [
      "\u001b[0;31m---------------------------------------------------------------------------\u001b[0m",
      "\u001b[0;31mValueError\u001b[0m                                Traceback (most recent call last)",
      "\u001b[0;32m<ipython-input-166-241be5245c8c>\u001b[0m in \u001b[0;36m<module>\u001b[0;34m()\u001b[0m\n\u001b[0;32m----> 1\u001b[0;31m \u001b[0mprint\u001b[0m\u001b[0;34m(\u001b[0m\u001b[0mcodon_to_aa\u001b[0m\u001b[0;34m(\u001b[0m\u001b[0;34m\"AZF\"\u001b[0m\u001b[0;34m)\u001b[0m\u001b[0;34m)\u001b[0m\u001b[0;34m\u001b[0m\u001b[0m\n\u001b[0m",
      "\u001b[0;32m<ipython-input-164-820149466cab>\u001b[0m in \u001b[0;36mcodon_to_aa\u001b[0;34m(uncodon)\u001b[0m\n\u001b[1;32m     19\u001b[0m \u001b[0;34m\u001b[0m\u001b[0m\n\u001b[1;32m     20\u001b[0m     \u001b[0;32mif\u001b[0m \u001b[0;32mnot\u001b[0m \u001b[0midentify\u001b[0m\u001b[0;34m:\u001b[0m\u001b[0;34m\u001b[0m\u001b[0m\n\u001b[0;32m---> 21\u001b[0;31m         \u001b[0;32mraise\u001b[0m \u001b[0mValueError\u001b[0m\u001b[0;34m(\u001b[0m\u001b[0;34m\"ERREUR : codon '%s' non identifié\"\u001b[0m \u001b[0;34m%\u001b[0m \u001b[0muncodon\u001b[0m\u001b[0;34m)\u001b[0m\u001b[0;34m\u001b[0m\u001b[0m\n\u001b[0m\u001b[1;32m     22\u001b[0m \u001b[0;34m\u001b[0m\u001b[0m\n\u001b[1;32m     23\u001b[0m     \u001b[0;32mreturn\u001b[0m \u001b[0macideAmine\u001b[0m\u001b[0;34m\u001b[0m\u001b[0m\n",
      "\u001b[0;31mValueError\u001b[0m: ERREUR : codon 'AZF' non identifié"
     ]
    }
   ],
   "source": [
    "print(codon_to_aa(\"AZF\"))"
   ]
  },
  {
   "cell_type": "markdown",
   "metadata": {},
   "source": [
    "Maintenant écrivons la fonction qui traduit tout le brin d'ARN :"
   ]
  },
  {
   "cell_type": "code",
   "execution_count": 174,
   "metadata": {
    "collapsed": true
   },
   "outputs": [],
   "source": [
    "def traduction(fragment):\n",
    "    \"\"\"\n",
    "    Traduit le brin d'ARN en séquence peptidique.\n",
    "    \n",
    "    Args:\n",
    "        fragment (str): fragment d'ARN à traduire\n",
    "        \n",
    "    Returns:\n",
    "        sequence (str): séquence peptidique.\n",
    "    \"\"\"\n",
    "    #nombre de codons dans le fragment\n",
    "    ncodon = len(fragment) // 3\n",
    "    \n",
    "    # traduction    \n",
    "    sequence = \"\"\n",
    "    n = 0\n",
    "    while n < ncodon:\n",
    "        aa = codon_to_aa(fragment[3*n : 3*n+3])\n",
    "        if aa != \"STOP\":\n",
    "            sequence += aa + \"-\"\n",
    "            n += 1\n",
    "        else:\n",
    "            sequence += aa\n",
    "            break\n",
    "    return sequence"
   ]
  },
  {
   "cell_type": "markdown",
   "metadata": {},
   "source": [
    "Exemple :"
   ]
  },
  {
   "cell_type": "code",
   "execution_count": 196,
   "metadata": {
    "collapsed": false
   },
   "outputs": [
    {
     "name": "stdout",
     "output_type": "stream",
     "text": [
      "TTGAGCTCTCGAAACCGCTAG\n",
      "UUGAGCUCUCGAAACCGCUAG\n",
      "la sequence contient  7 acides aminés\n",
      "Leu-Ser-Ser-Arg-Asn-Arg-STOP\n"
     ]
    }
   ],
   "source": [
    "adn = gen_brins(21)\n",
    "print(adn)\n",
    "arn = transcription(adn)\n",
    "print(arn)\n",
    "sequence = traduction(arn)\n",
    "print(\"la sequence contient \", len(sequence.split(\"-\")), \"acides aminés\")\n",
    "print(sequence)"
   ]
  }
 ],
 "metadata": {
  "kernelspec": {
   "display_name": "Python 3",
   "language": "python",
   "name": "python3"
  },
  "language_info": {
   "codemirror_mode": {
    "name": "ipython",
    "version": 3
   },
   "file_extension": ".py",
   "mimetype": "text/x-python",
   "name": "python",
   "nbconvert_exporter": "python",
   "pygments_lexer": "ipython3",
   "version": "3.5.0"
  }
 },
 "nbformat": 4,
 "nbformat_minor": 0
}
