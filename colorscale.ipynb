{
 "cells": [
  {
   "cell_type": "markdown",
   "metadata": {
    "slideshow": {
     "slide_type": "skip"
    }
   },
   "source": [
    "# Color palette with python\n",
    "\n",
    "##### Germain Salvato Vallverdu [germain.vallverdu@univ-pau.fr](germain.vallverdu@univ-pau.fr)\n",
    "\n",
    "This notebook aims to present several ways to manage color palette with python, mainly for plot purpose.\n",
    "\n",
    "## Import some packages"
   ]
  },
  {
   "cell_type": "code",
   "execution_count": 1,
   "metadata": {
    "collapsed": true,
    "slideshow": {
     "slide_type": "skip"
    }
   },
   "outputs": [],
   "source": [
    "import numpy as np\n",
    "import matplotlib as mpl\n",
    "import matplotlib.pyplot as plt\n",
    "from IPython.display import HTML # intégration notebook\n",
    "%matplotlib inline"
   ]
  },
  {
   "cell_type": "markdown",
   "metadata": {
    "slideshow": {
     "slide_type": "skip"
    }
   },
   "source": [
    "## Functions\n",
    "\n",
    "Define convenient functions to plot a matplotlib colormap or a list of colors with matplotlib.\n",
    "\n",
    "[See this gist](https://gist.github.com/gVallverdu/ac3efecfc640cc9e107f1f7cbfb11bb4)"
   ]
  },
  {
   "cell_type": "code",
   "execution_count": 2,
   "metadata": {
    "collapsed": false,
    "slideshow": {
     "slide_type": "skip"
    }
   },
   "outputs": [],
   "source": [
    "def plot_cmap(cmap, ncolor=6):\n",
    "    \"\"\" \n",
    "    A convenient function to plot colors of a matplotlib cmap\n",
    "    \n",
    "    Args:\n",
    "        ncolor (int): number of color to show\n",
    "        cmap: a cmap object or a matplotlib color name\n",
    "    \"\"\"\n",
    "    \n",
    "    if isinstance(cmap, str):\n",
    "        try:\n",
    "            cm = plt.get_cmap(cmap)\n",
    "        except ValueError:\n",
    "            print(\"WARNINGS :\", cmap, \" is not a known colormap\")\n",
    "            cm = plt.cm.gray\n",
    "    else:\n",
    "        cm = cmap\n",
    "            \n",
    "    with plt.rc_context(plt.rcParamsDefault):\n",
    "        fig = plt.figure(figsize=(6, 1), frameon=False)\n",
    "        ax = fig.add_subplot(111)\n",
    "        ax.pcolor(np.linspace(1, ncolor, ncolor).reshape(1, ncolor), cmap=cm)\n",
    "        ax.set_title(cm.name)\n",
    "        xt = ax.set_xticks([])\n",
    "        yt = ax.set_yticks([])\n",
    "    return fig"
   ]
  },
  {
   "cell_type": "code",
   "execution_count": 3,
   "metadata": {
    "collapsed": true,
    "slideshow": {
     "slide_type": "skip"
    }
   },
   "outputs": [],
   "source": [
    "def show_colors(colors):\n",
    "    \"\"\"\n",
    "    Draw a square for each color contained in the colors list\n",
    "    given in argument.\n",
    "    \"\"\"\n",
    "    with plt.rc_context(plt.rcParamsDefault):\n",
    "        fig = plt.figure(figsize=(6, 1), frameon=False)\n",
    "        ax = fig.add_subplot(111)\n",
    "        for x, color in enumerate(colors):\n",
    "            ax.add_patch(\n",
    "                mpl.patches.Rectangle(\n",
    "                    (x, 0), 1, 1, facecolor=color\n",
    "                )\n",
    "            )\n",
    "        ax.set_xlim((0, len(colors)))\n",
    "        ax.set_ylim((0, 1))\n",
    "        ax.set_xticks([])\n",
    "        ax.set_yticks([])\n",
    "        ax.set_aspect(\"equal\")\n",
    "    \n",
    "    return fig"
   ]
  },
  {
   "cell_type": "markdown",
   "metadata": {
    "slideshow": {
     "slide_type": "subslide"
    }
   },
   "source": [
    "## Color models\n",
    "\n",
    "### How to define a color ?\n",
    "\n",
    "* RGB : Red Green Blue, additive color model\n",
    "* HSL : Hue Saturation Light\n",
    "* CMYK- : Cyan Magenta Yellow Black, soustractive color model\n",
    "\n",
    "## RGB\n",
    "\n",
    "### Red Green Blue\n",
    "\n",
    "* an additive color model\n",
    "* set \"the amount\" of a each based color\n",
    "* each color is defined by un nombre between 0 and 255 (8 bits = 1 octet)\n",
    "\n",
    "![additive](img/additive.png)\n",
    "\n",
    "* red (255, 0, 0)\n",
    "* green (0, 255, 0)\n",
    "* blue (0, 0, 255)\n",
    "\n",
    "### HTML color codes\n",
    "\n",
    "HTML color codes are another way to define a RGB color using an hexadecimal numeral system.\n",
    "\n",
    "* HTML color starts with a # character\n",
    "* the folowing 6 characters defines the intensity of red, green and blue colors\n",
    "* each pair correspond to a number in hexadecimal numeral system from 0 to FF (255)\n",
    "\n",
    "example : `#2D85C9` <-> (48, 133, 201)\n",
    "\n",
    "* 2D -> 48\n",
    "* 85 -> 133\n",
    "* C9 -> 201\n",
    "\n",
    "### RGB and RGBA\n",
    "\n",
    "* extension of RGB model\n",
    "* a for `alpha` (canal alpha)\n",
    "* RGBA = RGB + opacity\n",
    "* opicty is defined between 0 (transparent) and 1 (opaque)\n",
    "\n",
    "![rgba](img/rgba.png)\n",
    "\n",
    "## HSL\n",
    "\n",
    "### Hue, staturation, light\n",
    "\n",
    "* Closer to the human perception of the color than RGB model\n",
    "* Hue is define on a wheel from an angle between 0 and 360°\n",
    "* Saturation and light are defined between 0 et 100%\n",
    "\n",
    "![](img/tsl.png)\n",
    "\n",
    "## CYMK\n",
    "\n",
    "### Cyan Yellow Magenta Black\n",
    "\n",
    "* Based on a substractive color model\n",
    "* Used by printers\n",
    "\n",
    "![synthèse soustractive](img/soustractive.png)\n",
    "\n",
    "## Several kinds of palette\n",
    "\n",
    "* qualitative palettes\n",
    "* sequential palettes\n",
    "* divergentes palettes\n",
    "\n",
    "## Qualitatives palettes\n",
    "\n",
    "* Used to distinguish several groups of data without order or relationship\n",
    "\n",
    "### Example"
   ]
  },
  {
   "cell_type": "code",
   "execution_count": 4,
   "metadata": {
    "collapsed": false,
    "slideshow": {
     "slide_type": "fragment"
    }
   },
   "outputs": [
    {
     "data": {
      "image/png": "[encoded data removed]",
      "text/plain": [
       "<matplotlib.figure.Figure at 0x10acc3f28>"
      ]
     },
     "execution_count": 4,
     "metadata": {},
     "output_type": "execute_result"
    }
   ],
   "source": [
    "plot_cmap(\"Dark2\", 4)"
   ]
  },
  {
   "cell_type": "code",
   "execution_count": 5,
   "metadata": {
    "collapsed": true,
    "slideshow": {
     "slide_type": "skip"
    }
   },
   "outputs": [],
   "source": [
    "plot_cmap(\"Dark2\", 4).savefig(\"img/qualitative.png\", bbox_inches=\"tight\")"
   ]
  },
  {
   "cell_type": "markdown",
   "metadata": {
    "slideshow": {
     "slide_type": "subslide"
    }
   },
   "source": [
    "## Sequential palettes\n",
    "\n",
    "* Color scale \n",
    "* Use it if there is an order between the data\n",
    "\n",
    "### Example"
   ]
  },
  {
   "cell_type": "code",
   "execution_count": 6,
   "metadata": {
    "collapsed": false,
    "slideshow": {
     "slide_type": "fragment"
    }
   },
   "outputs": [
    {
     "data": {
      "image/png": "[encoded data removed]",
      "text/plain": [
       "<matplotlib.figure.Figure at 0x10d802d30>"
      ]
     },
     "execution_count": 6,
     "metadata": {},
     "output_type": "execute_result"
    }
   ],
   "source": [
    "plot_cmap(\"Blues\", 8)"
   ]
  },
  {
   "cell_type": "code",
   "execution_count": 7,
   "metadata": {
    "collapsed": true,
    "slideshow": {
     "slide_type": "skip"
    }
   },
   "outputs": [],
   "source": [
    "plot_cmap(\"Blues\", 8).savefig(\"img/sequentielle.png\", bbox_inches=\"tight\")"
   ]
  },
  {
   "cell_type": "markdown",
   "metadata": {
    "slideshow": {
     "slide_type": "subslide"
    }
   },
   "source": [
    "### Reverse order\n",
    "\n",
    "In matplotlib all palettes suffixed by `_r` are reversed."
   ]
  },
  {
   "cell_type": "code",
   "execution_count": 8,
   "metadata": {
    "collapsed": false,
    "slideshow": {
     "slide_type": "fragment"
    }
   },
   "outputs": [
    {
     "data": {
      "image/png": "[encoded data removed]",
      "text/plain": [
       "<matplotlib.figure.Figure at 0x10d85db38>"
      ]
     },
     "execution_count": 8,
     "metadata": {},
     "output_type": "execute_result"
    }
   ],
   "source": [
    "plot_cmap(\"Blues_r\", 8)"
   ]
  },
  {
   "cell_type": "code",
   "execution_count": 9,
   "metadata": {
    "collapsed": true,
    "slideshow": {
     "slide_type": "skip"
    }
   },
   "outputs": [],
   "source": [
    "plot_cmap(\"Blues_r\", 8).savefig(\"img/sequentielle_r.png\", bbox_inches=\"tight\")"
   ]
  },
  {
   "cell_type": "markdown",
   "metadata": {
    "slideshow": {
     "slide_type": "subslide"
    }
   },
   "source": [
    "## Divergent palettes\n",
    "\n",
    "* Usefull if there is a central value which play a specific role\n",
    "* values disposed around zero\n",
    "\n",
    "### Example"
   ]
  },
  {
   "cell_type": "code",
   "execution_count": 10,
   "metadata": {
    "collapsed": false,
    "slideshow": {
     "slide_type": "fragment"
    }
   },
   "outputs": [
    {
     "data": {
      "image/png": "[encoded data removed]",
      "text/plain": [
       "<matplotlib.figure.Figure at 0x10d8f9fd0>"
      ]
     },
     "execution_count": 10,
     "metadata": {},
     "output_type": "execute_result"
    }
   ],
   "source": [
    "plot_cmap(\"coolwarm\", 9)"
   ]
  },
  {
   "cell_type": "code",
   "execution_count": 11,
   "metadata": {
    "collapsed": true,
    "slideshow": {
     "slide_type": "skip"
    }
   },
   "outputs": [],
   "source": [
    "plot_cmap(\"coolwarm\", 9).savefig(\"img/divergente.png\", bbox_inches=\"tight\")"
   ]
  },
  {
   "cell_type": "markdown",
   "metadata": {
    "slideshow": {
     "slide_type": "slide"
    }
   },
   "source": [
    "## Build a custum color palette\n",
    "\n",
    "### some tools\n",
    "\n",
    "* [matplotlib colormaps](http://matplotlib.org/users/colormaps.html)\n",
    "* [seaborn palettes](http://seaborn.pydata.org/tutorial/color_palettes.html)\n",
    "* [colorlover palettes](https://github.com/jackparmer/colorlover)"
   ]
  },
  {
   "cell_type": "markdown",
   "metadata": {
    "slideshow": {
     "slide_type": "subslide"
    }
   },
   "source": [
    "## With matplotlib\n",
    "\n",
    "[matplotlib colormaps](http://matplotlib.org/users/colormaps.html)\n",
    "\n",
    "* matplotlib *colormaps* are in `matplotlib.cm` module\n",
    "* `colormap` allows to map values on a color scale\n",
    "\n",
    "### Example colormap `summer`"
   ]
  },
  {
   "cell_type": "code",
   "execution_count": 12,
   "metadata": {
    "collapsed": false,
    "slideshow": {
     "slide_type": "fragment"
    }
   },
   "outputs": [
    {
     "data": {
      "image/png": "[encoded data removed]",
      "text/plain": [
       "<matplotlib.figure.Figure at 0x10daf5358>"
      ]
     },
     "execution_count": 12,
     "metadata": {},
     "output_type": "execute_result"
    }
   ],
   "source": [
    "plot_cmap(plt.cm.summer, 6)"
   ]
  },
  {
   "cell_type": "code",
   "execution_count": 13,
   "metadata": {
    "collapsed": true,
    "slideshow": {
     "slide_type": "skip"
    }
   },
   "outputs": [],
   "source": [
    "plot_cmap(plt.cm.summer, 6).savefig(\"img/summer.png\", bbox_inches=\"tight\")"
   ]
  },
  {
   "cell_type": "markdown",
   "metadata": {
    "slideshow": {
     "slide_type": "subslide"
    }
   },
   "source": [
    "`colormap` returns a `rgba` color."
   ]
  },
  {
   "cell_type": "code",
   "execution_count": 14,
   "metadata": {
    "collapsed": false,
    "slideshow": {
     "slide_type": "fragment"
    }
   },
   "outputs": [
    {
     "data": {
      "text/plain": [
       "(0.16470588235294117, 0.58235294117647063, 0.40000000000000002, 1.0)"
      ]
     },
     "execution_count": 14,
     "metadata": {},
     "output_type": "execute_result"
    }
   ],
   "source": [
    "plt.cm.summer(X=42)"
   ]
  },
  {
   "cell_type": "markdown",
   "metadata": {
    "slideshow": {
     "slide_type": "fragment"
    }
   },
   "source": [
    "* X is a float number or a list or an array \n",
    "* X must be between 0 and `plt.cm.colormap.N`\n",
    "* You can define opacity"
   ]
  },
  {
   "cell_type": "code",
   "execution_count": 15,
   "metadata": {
    "collapsed": false,
    "slideshow": {
     "slide_type": "fragment"
    }
   },
   "outputs": [
    {
     "name": "stdout",
     "output_type": "stream",
     "text": [
      "Max val =  256\n",
      "[[ 0.00392157  0.50196078  0.4         0.6       ]\n",
      " [ 0.19607843  0.59803922  0.4         0.6       ]\n",
      " [ 0.39215686  0.69607843  0.4         0.6       ]\n",
      " [ 0.78431373  0.89215686  0.4         0.6       ]]\n"
     ]
    },
    {
     "data": {
      "image/png": "[encoded data removed]",
      "text/plain": [
       "<matplotlib.figure.Figure at 0x10dc1c0f0>"
      ]
     },
     "execution_count": 15,
     "metadata": {},
     "output_type": "execute_result"
    }
   ],
   "source": [
    "print(\"Max val = \", plt.cm.summer.N)\n",
    "palette = plt.cm.summer(X=[1, 50, 100, 200], alpha=.6)\n",
    "print(palette)\n",
    "show_colors(palette)"
   ]
  },
  {
   "cell_type": "code",
   "execution_count": 16,
   "metadata": {
    "collapsed": true,
    "slideshow": {
     "slide_type": "skip"
    }
   },
   "outputs": [],
   "source": [
    "show_colors(palette).savefig(\"img/mpl_palette1.png\")"
   ]
  },
  {
   "cell_type": "markdown",
   "metadata": {
    "slideshow": {
     "slide_type": "subslide"
    }
   },
   "source": [
    "* You can change interval values using `Normalize`"
   ]
  },
  {
   "cell_type": "code",
   "execution_count": 17,
   "metadata": {
    "collapsed": false,
    "slideshow": {
     "slide_type": "fragment"
    }
   },
   "outputs": [
    {
     "name": "stdout",
     "output_type": "stream",
     "text": [
      "[[ 0.09803922  0.54901961  0.4         1.        ]\n",
      " [ 0.29803922  0.64901961  0.4         1.        ]\n",
      " [ 0.50196078  0.75098039  0.4         1.        ]\n",
      " [ 0.70196078  0.85098039  0.4         1.        ]\n",
      " [ 0.90196078  0.95098039  0.4         1.        ]]\n"
     ]
    },
    {
     "data": {
      "image/png": "[encoded data removed]",
      "text/plain": [
       "<matplotlib.figure.Figure at 0x10dd38e48>"
      ]
     },
     "execution_count": 17,
     "metadata": {},
     "output_type": "execute_result"
    }
   ],
   "source": [
    "normalize = mpl.colors.Normalize(vmin=-5, vmax=5)\n",
    "palette = plt.cm.summer(X=normalize([-4, -2, 0, 2, 4]), alpha=1)\n",
    "print(palette)\n",
    "show_colors(palette)"
   ]
  },
  {
   "cell_type": "code",
   "execution_count": 18,
   "metadata": {
    "collapsed": true,
    "slideshow": {
     "slide_type": "skip"
    }
   },
   "outputs": [],
   "source": [
    "show_colors(palette).savefig(\"img/mpl_palette2.png\")"
   ]
  },
  {
   "cell_type": "markdown",
   "metadata": {
    "slideshow": {
     "slide_type": "slide"
    }
   },
   "source": [
    "## With colorlover"
   ]
  },
  {
   "cell_type": "code",
   "execution_count": 19,
   "metadata": {
    "collapsed": true,
    "slideshow": {
     "slide_type": "skip"
    }
   },
   "outputs": [],
   "source": [
    "import colorlover as cl"
   ]
  },
  {
   "cell_type": "markdown",
   "metadata": {
    "slideshow": {
     "slide_type": "subslide"
    }
   },
   "source": [
    "[Colorlover](https://github.com/jackparmer/colorlover) provides function to set up a color palette\n",
    "\n",
    "```py\n",
    "import colorlover as cl\n",
    "```\n",
    "\n",
    "* `cl.colorsys` : conversion between color models\n",
    "* `cl.scales` : color palette\n",
    "* `cl.to_HTML` : help function to show the palette\n",
    "\n",
    "`cl.scales` has to be used following :\n",
    "\n",
    "```py\n",
    "cl.scales[\"number\"][\"type\"][\"name\"]\n",
    "```\n",
    "\n",
    "where\n",
    "\n",
    "* `number` is a number between 3 and 12 included\n",
    "* `type` is : `div`, `seq` or `qual`\n",
    "* `name` is the palette name\n",
    "\n",
    "All palettes are not available for all combinations.\n",
    "\n",
    "For example, this is divergent palettes with 4 colors. You have to use `cl.to_html` to get an html version and `HTML()` to ask the notebook to display the html code and show the palette."
   ]
  },
  {
   "cell_type": "code",
   "execution_count": 20,
   "metadata": {
    "collapsed": false,
    "slideshow": {
     "slide_type": "fragment"
    }
   },
   "outputs": [
    {
     "data": {
      "text/html": [
       "<div style=\"display:inline-block;padding:10px;\"><div>BrBG</div><div style=\"background-color:rgb(166,97,26);height:20px;width:20px;display:inline-block;\"></div><div style=\"background-color:rgb(223,194,125);height:20px;width:20px;display:inline-block;\"></div><div style=\"background-color:rgb(128,205,193);height:20px;width:20px;display:inline-block;\"></div><div style=\"background-color:rgb(1,133,113);height:20px;width:20px;display:inline-block;\"></div></div><div style=\"display:inline-block;padding:10px;\"><div>PiYG</div><div style=\"background-color:rgb(208,28,139);height:20px;width:20px;display:inline-block;\"></div><div style=\"background-color:rgb(241,182,218);height:20px;width:20px;display:inline-block;\"></div><div style=\"background-color:rgb(184,225,134);height:20px;width:20px;display:inline-block;\"></div><div style=\"background-color:rgb(77,172,38);height:20px;width:20px;display:inline-block;\"></div></div><div style=\"display:inline-block;padding:10px;\"><div>RdYlBu</div><div style=\"background-color:rgb(215,25,28);height:20px;width:20px;display:inline-block;\"></div><div style=\"background-color:rgb(253,174,97);height:20px;width:20px;display:inline-block;\"></div><div style=\"background-color:rgb(171,217,233);height:20px;width:20px;display:inline-block;\"></div><div style=\"background-color:rgb(44,123,182);height:20px;width:20px;display:inline-block;\"></div></div><div style=\"display:inline-block;padding:10px;\"><div>RdGy</div><div style=\"background-color:rgb(202,0,32);height:20px;width:20px;display:inline-block;\"></div><div style=\"background-color:rgb(244,165,130);height:20px;width:20px;display:inline-block;\"></div><div style=\"background-color:rgb(186,186,186);height:20px;width:20px;display:inline-block;\"></div><div style=\"background-color:rgb(64,64,64);height:20px;width:20px;display:inline-block;\"></div></div><div style=\"display:inline-block;padding:10px;\"><div>RdBu</div><div style=\"background-color:rgb(202,0,32);height:20px;width:20px;display:inline-block;\"></div><div style=\"background-color:rgb(244,165,130);height:20px;width:20px;display:inline-block;\"></div><div style=\"background-color:rgb(146,197,222);height:20px;width:20px;display:inline-block;\"></div><div style=\"background-color:rgb(5,113,176);height:20px;width:20px;display:inline-block;\"></div></div><div style=\"display:inline-block;padding:10px;\"><div>PuOr</div><div style=\"background-color:rgb(230,97,1);height:20px;width:20px;display:inline-block;\"></div><div style=\"background-color:rgb(253,184,99);height:20px;width:20px;display:inline-block;\"></div><div style=\"background-color:rgb(178,171,210);height:20px;width:20px;display:inline-block;\"></div><div style=\"background-color:rgb(94,60,153);height:20px;width:20px;display:inline-block;\"></div></div><div style=\"display:inline-block;padding:10px;\"><div>PRGn</div><div style=\"background-color:rgb(123,50,148);height:20px;width:20px;display:inline-block;\"></div><div style=\"background-color:rgb(194,165,207);height:20px;width:20px;display:inline-block;\"></div><div style=\"background-color:rgb(166,219,160);height:20px;width:20px;display:inline-block;\"></div><div style=\"background-color:rgb(0,136,55);height:20px;width:20px;display:inline-block;\"></div></div><div style=\"display:inline-block;padding:10px;\"><div>RdYlGn</div><div style=\"background-color:rgb(215,25,28);height:20px;width:20px;display:inline-block;\"></div><div style=\"background-color:rgb(253,174,97);height:20px;width:20px;display:inline-block;\"></div><div style=\"background-color:rgb(166,217,106);height:20px;width:20px;display:inline-block;\"></div><div style=\"background-color:rgb(26,150,65);height:20px;width:20px;display:inline-block;\"></div></div><div style=\"display:inline-block;padding:10px;\"><div>Spectral</div><div style=\"background-color:rgb(215,25,28);height:20px;width:20px;display:inline-block;\"></div><div style=\"background-color:rgb(253,174,97);height:20px;width:20px;display:inline-block;\"></div><div style=\"background-color:rgb(171,221,164);height:20px;width:20px;display:inline-block;\"></div><div style=\"background-color:rgb(43,131,186);height:20px;width:20px;display:inline-block;\"></div></div>"
      ],
      "text/plain": [
       "<IPython.core.display.HTML object>"
      ]
     },
     "execution_count": 20,
     "metadata": {},
     "output_type": "execute_result"
    }
   ],
   "source": [
    "HTML(cl.to_html(cl.scales[\"4\"][\"div\"]))"
   ]
  },
  {
   "cell_type": "markdown",
   "metadata": {
    "slideshow": {
     "slide_type": "fragment"
    }
   },
   "source": [
    "Divergent color palette `PuOr` with 4 colors :"
   ]
  },
  {
   "cell_type": "code",
   "execution_count": 21,
   "metadata": {
    "collapsed": false,
    "slideshow": {
     "slide_type": "fragment"
    }
   },
   "outputs": [
    {
     "data": {
      "text/plain": [
       "['rgb(230,97,1)', 'rgb(253,184,99)', 'rgb(178,171,210)', 'rgb(94,60,153)']"
      ]
     },
     "execution_count": 21,
     "metadata": {},
     "output_type": "execute_result"
    }
   ],
   "source": [
    "cl.scales[\"4\"][\"div\"][\"PuOr\"]"
   ]
  },
  {
   "cell_type": "markdown",
   "metadata": {
    "slideshow": {
     "slide_type": "subslide"
    }
   },
   "source": [
    "#### conversion in RGB triplets\n",
    "\n",
    "In order to use this palette with matplotlib you have to convert it in true RGB triplets."
   ]
  },
  {
   "cell_type": "code",
   "execution_count": 22,
   "metadata": {
    "collapsed": false,
    "slideshow": {
     "slide_type": "fragment"
    }
   },
   "outputs": [
    {
     "data": {
      "text/plain": [
       "[(230.0, 97.0, 1.0),\n",
       " (253.0, 184.0, 99.0),\n",
       " (178.0, 171.0, 210.0),\n",
       " (94.0, 60.0, 153.0)]"
      ]
     },
     "execution_count": 22,
     "metadata": {},
     "output_type": "execute_result"
    }
   ],
   "source": [
    "cl.to_numeric(cl.scales[\"4\"][\"div\"][\"PuOr\"])"
   ]
  },
  {
   "cell_type": "markdown",
   "metadata": {
    "slideshow": {
     "slide_type": "slide"
    }
   },
   "source": [
    "## With seaborn"
   ]
  },
  {
   "cell_type": "code",
   "execution_count": 24,
   "metadata": {
    "collapsed": true,
    "slideshow": {
     "slide_type": "skip"
    }
   },
   "outputs": [],
   "source": [
    "import seaborn as sns"
   ]
  },
  {
   "cell_type": "markdown",
   "metadata": {
    "slideshow": {
     "slide_type": "subslide"
    }
   },
   "source": [
    "The documentation is really clear and provides a nice tutorial [seaborn color palettes](http://seaborn.pydata.org/tutorial/color_palettes.html). The following juste provides simple exampl cases.\n",
    "\n",
    "```py\n",
    "import seaborn as sns\n",
    "```\n",
    "\n",
    "seaborn provides several functions in order to build and show color palettes. For example, in order to show the current palette :"
   ]
  },
  {
   "cell_type": "code",
   "execution_count": 29,
   "metadata": {
    "collapsed": false,
    "slideshow": {
     "slide_type": "fragment"
    }
   },
   "outputs": [
    {
     "data": {
      "image/png": "[encoded data removed]",
      "text/plain": [
       "<matplotlib.figure.Figure at 0x118807da0>"
      ]
     },
     "metadata": {},
     "output_type": "display_data"
    }
   ],
   "source": [
    "current_palette = sns.color_palette()\n",
    "sns.palplot(current_palette)"
   ]
  },
  {
   "cell_type": "markdown",
   "metadata": {
    "slideshow": {
     "slide_type": "subslide"
    }
   },
   "source": [
    "#### A qualitative palette"
   ]
  },
  {
   "cell_type": "code",
   "execution_count": 26,
   "metadata": {
    "collapsed": false,
    "slideshow": {
     "slide_type": "fragment"
    }
   },
   "outputs": [
    {
     "data": {
      "image/png": "[encoded data removed]",
      "text/plain": [
       "<matplotlib.figure.Figure at 0x11846bef0>"
      ]
     },
     "metadata": {},
     "output_type": "display_data"
    }
   ],
   "source": [
    "sns.palplot(sns.color_palette(\"husl\", 8))"
   ]
  },
  {
   "cell_type": "markdown",
   "metadata": {
    "slideshow": {
     "slide_type": "subslide"
    }
   },
   "source": [
    "#### A sequential palette"
   ]
  },
  {
   "cell_type": "code",
   "execution_count": 27,
   "metadata": {
    "collapsed": false,
    "slideshow": {
     "slide_type": "fragment"
    }
   },
   "outputs": [
    {
     "data": {
      "image/png": "[encoded data removed]",
      "text/plain": [
       "<matplotlib.figure.Figure at 0x11872bb38>"
      ]
     },
     "metadata": {},
     "output_type": "display_data"
    }
   ],
   "source": [
    "sns.palplot(sns.light_palette(\"violet\", 4))"
   ]
  },
  {
   "cell_type": "markdown",
   "metadata": {
    "slideshow": {
     "slide_type": "subslide"
    }
   },
   "source": [
    "#### A divergente palette"
   ]
  },
  {
   "cell_type": "code",
   "execution_count": 28,
   "metadata": {
    "collapsed": false,
    "slideshow": {
     "slide_type": "fragment"
    }
   },
   "outputs": [
    {
     "data": {
      "image/png": "[encoded data removed]",
      "text/plain": [
       "<matplotlib.figure.Figure at 0x11875d048>"
      ]
     },
     "metadata": {},
     "output_type": "display_data"
    }
   ],
   "source": [
    "sns.palplot(sns.diverging_palette(220, 20, n=5))"
   ]
  },
  {
   "cell_type": "markdown",
   "metadata": {},
   "source": [
    "## Enjoy !\n",
    "\n",
    "Germain"
   ]
  }
 ],
 "metadata": {
  "anaconda-cloud": {},
  "kernelspec": {
   "display_name": "Python [default]",
   "language": "python",
   "name": "python3"
  },
  "language_info": {
   "codemirror_mode": {
    "name": "ipython",
    "version": 3
   },
   "file_extension": ".py",
   "mimetype": "text/x-python",
   "name": "python",
   "nbconvert_exporter": "python",
   "pygments_lexer": "ipython3",
   "version": "3.5.2"
  }
 },
 "nbformat": 4,
 "nbformat_minor": 0
}
