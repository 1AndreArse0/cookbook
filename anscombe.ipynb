{
 "cells": [
  {
   "cell_type": "markdown",
   "metadata": {},
   "source": [
    "# Quartet d'Anscombe\n",
    "\n",
    "[Page wikipedia](https://fr.wikipedia.org/wiki/Quartet_d%27Anscombe)\n",
    "\n",
    "Construits en 1973 par le statisticien Francis Anscombe dans le but de démontrer l'importance de tracer des graphiques avant d'analyser un ensemble de données."
   ]
  },
  {
   "cell_type": "code",
   "execution_count": 1,
   "metadata": {
    "collapsed": false
   },
   "outputs": [
    {
     "name": "stdout",
     "output_type": "stream",
     "text": [
      "Populating the interactive namespace from numpy and matplotlib\n"
     ]
    }
   ],
   "source": [
    "%pylab --no-import-all inline\n",
    "from scipy.stats import linregress, pearsonr"
   ]
  },
  {
   "cell_type": "markdown",
   "metadata": {},
   "source": [
    "## Lecture des données"
   ]
  },
  {
   "cell_type": "code",
   "execution_count": 2,
   "metadata": {
    "collapsed": false
   },
   "outputs": [],
   "source": [
    "all_sets = list()\n",
    "for cols in [(i, i+1) for i in range(0, 8, 2)]:\n",
    "    x, y = np.loadtxt(\"anscombe.dat\", usecols=(0, 1), skiprows=1, unpack=True)\n",
    "    all_sets.append((x, y))"
   ]
  },
  {
   "cell_type": "code",
   "execution_count": 3,
   "metadata": {
    "collapsed": false
   },
   "outputs": [
    {
     "name": "stdout",
     "output_type": "stream",
     "text": [
      "[ 10.   8.  13.   9.  11.  14.   6.   4.  12.   7.   5.]\n",
      "[  8.04   6.95   7.58   8.81   8.33   9.96   7.24   4.26  10.84   4.82\n",
      "   5.68]\n"
     ]
    }
   ],
   "source": [
    "print(all_sets[0][0])\n",
    "print(all_sets[0][1])"
   ]
  },
  {
   "cell_type": "markdown",
   "metadata": {},
   "source": [
    "## Calcul des propriétés statistique\n",
    "\n",
    "Ici on montre que les quatre jeux de données ont les même propriétés statistiques."
   ]
  },
  {
   "cell_type": "code",
   "execution_count": 6,
   "metadata": {
    "collapsed": false
   },
   "outputs": [],
   "source": [
    "def show_stat(data):\n",
    "    x, y = data\n",
    "    print(\"moyenne  x  : %4.2f\" % x.mean())\n",
    "    print(\"variance x  : %4.2f\" % np.var(x))\n",
    "    print(\"moyenne  y  : %4.2f\" % y.mean())\n",
    "    print(\"variance y  : %4.2f\" % np.var(y))\n",
    "    cor, p = pearsonr(x, y)\n",
    "    print(\"corrélation : %5.3f\" % cor)\n",
    "    \n",
    "    a, b, r, p_value, std_err = linregress(x, y)\n",
    "    print(\"regression linéaire : %3.1f x + %3.1f (r^2 = %4.2f)\" % (a, b, r**2))"
   ]
  },
  {
   "cell_type": "code",
   "execution_count": 7,
   "metadata": {
    "collapsed": false
   },
   "outputs": [
    {
     "name": "stdout",
     "output_type": "stream",
     "text": [
      "\n",
      "set 0\n",
      "------\n",
      "moyenne  x  : 9.00\n",
      "variance x  : 10.00\n",
      "moyenne  y  : 7.50\n",
      "variance y  : 3.75\n",
      "corrélation : 0.816\n",
      "regression linéaire : 0.5 x + 3.0 (r^2 = 0.67)\n",
      "\n",
      "set 1\n",
      "------\n",
      "moyenne  x  : 9.00\n",
      "variance x  : 10.00\n",
      "moyenne  y  : 7.50\n",
      "variance y  : 3.75\n",
      "corrélation : 0.816\n",
      "regression linéaire : 0.5 x + 3.0 (r^2 = 0.67)\n",
      "\n",
      "set 2\n",
      "------\n",
      "moyenne  x  : 9.00\n",
      "variance x  : 10.00\n",
      "moyenne  y  : 7.50\n",
      "variance y  : 3.75\n",
      "corrélation : 0.816\n",
      "regression linéaire : 0.5 x + 3.0 (r^2 = 0.67)\n",
      "\n",
      "set 3\n",
      "------\n",
      "moyenne  x  : 9.00\n",
      "variance x  : 10.00\n",
      "moyenne  y  : 7.50\n",
      "variance y  : 3.75\n",
      "corrélation : 0.816\n",
      "regression linéaire : 0.5 x + 3.0 (r^2 = 0.67)\n"
     ]
    }
   ],
   "source": [
    "for i, data in enumerate(all_sets):\n",
    "    print(\"\\nset %d\" % i)\n",
    "    print(\"------\")\n",
    "    show_stat(data)"
   ]
  },
  {
   "cell_type": "markdown",
   "metadata": {},
   "source": [
    "## Représentation graphique des données\n",
    "\n",
    "La représentation graphique de ces jeux de données a deux objectifs. Elle montre\n",
    "\n",
    "* qu'il est important de visualiser les données pour faire une interprétation\n",
    "* que des données abérantes peuvent avoir un impact majeur sur certaines propriétés statistique telle que la moyenne."
   ]
  },
  {
   "cell_type": "code",
   "execution_count": 8,
   "metadata": {
    "collapsed": false
   },
   "outputs": [
    {
     "data": {
      "image/png": "[encoded data removed]",
      "text/plain": [
       "<matplotlib.figure.Figure at 0x106c88128>"
      ]
     },
     "metadata": {},
     "output_type": "display_data"
    }
   ],
   "source": [
    "fig = plt.figure(figsize=(10, 8))\n",
    "fig.suptitle(\"Quartet d'Anscombe\", size=20)\n",
    "for i, data in enumerate(all_sets):\n",
    "    ax = plt.subplot(2, 2, i + 1)\n",
    "    x, y = data\n",
    "    ax.plot(x, y, marker=\"o\", color=\"FireBrick\", linestyle=\"\", label=\"set %d\" % (i+1))\n",
    "    ax.set_ylabel(\"y%d\" % (i+1))\n",
    "    ax.set_xlabel(\"x%d\" % (i+1))\n",
    "    \n",
    "    a, b, r, p_value, std_err = linregress(x, y)\n",
    "    ax.plot([0, 20], [b, a*20 + b], color=\"SteelBlue\")\n",
    "    \n",
    "    ax.set_xlim(0, 20)\n",
    "    ax.set_ylim(0, 15)\n",
    "    ax.legend(loc=\"lower right\")"
   ]
  }
 ],
 "metadata": {
  "kernelspec": {
   "display_name": "Python 3",
   "language": "python",
   "name": "python3"
  },
  "language_info": {
   "codemirror_mode": {
    "name": "ipython",
    "version": 3
   },
   "file_extension": ".py",
   "mimetype": "text/x-python",
   "name": "python",
   "nbconvert_exporter": "python",
   "pygments_lexer": "ipython3",
   "version": "3.5.1"
  }
 },
 "nbformat": 4,
 "nbformat_minor": 0
}
