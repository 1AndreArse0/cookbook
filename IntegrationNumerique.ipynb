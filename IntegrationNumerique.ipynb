{
 "metadata": {
  "name": "",
  "signature": "sha256:30a0255391c787963194a2a7a51a5542130762bedc1e6c259aaafad70176f6c2"
 },
 "nbformat": 3,
 "nbformat_minor": 0,
 "worksheets": [
  {
   "cells": [
    {
     "cell_type": "code",
     "collapsed": false,
     "input": [
      "from __future__ import print_function, division"
     ],
     "language": "python",
     "metadata": {},
     "outputs": [],
     "prompt_number": 79
    },
    {
     "cell_type": "heading",
     "level": 1,
     "metadata": {},
     "source": [
      "Int\u00e9gration num\u00e9rique en Python"
     ]
    },
    {
     "cell_type": "markdown",
     "metadata": {},
     "source": [
      "Chargement des modules n\u00e9cessaires : matplotlib pour les repr\u00e9sentations graphiques et numpy."
     ]
    },
    {
     "cell_type": "code",
     "collapsed": false,
     "input": [
      "import numpy as np\n",
      "import matplotlib.pyplot as plt\n",
      "%matplotlib inline"
     ],
     "language": "python",
     "metadata": {},
     "outputs": [],
     "prompt_number": 80
    },
    {
     "cell_type": "heading",
     "level": 2,
     "metadata": {},
     "source": [
      "\u00c9tude d'une fonction"
     ]
    },
    {
     "cell_type": "markdown",
     "metadata": {},
     "source": [
      "Dans cet exemple, nous \u00e9tudierons la fonction suivante :\n",
      "\\begin{equation}\n",
      "    f(x) = (x^2 - 3x - 6) \\exp\\left(-x\\right)\n",
      "\\end{equation}\n",
      "Cette fonction est int\u00e9grable analytiquement. Il est alors n\u00e9cessaires de faire deux int\u00e9grations par partie successives."
     ]
    },
    {
     "cell_type": "markdown",
     "metadata": {},
     "source": [
      "Commen\u00e7ons par d\u00e9finir une fonction qui renvoie l'image de la fonction $f$ pour une valeur de $x$. La fonction exponnentielle n'est pas disponnible dans python par d\u00e9faut, il faut la prendre dans le module numpy :"
     ]
    },
    {
     "cell_type": "code",
     "collapsed": false,
     "input": [
      "def fonction(x):\n",
      "    \"\"\" Retourne la valeur de la fonction en x \"\"\"\n",
      "    return (x**2 - 3*x - 6) * np.exp(-x)"
     ],
     "language": "python",
     "metadata": {},
     "outputs": [],
     "prompt_number": 112
    },
    {
     "cell_type": "markdown",
     "metadata": {},
     "source": [
      "Utilisons maintenant matplotlib pour repr\u00e9senter la fonction entre dans l'intervalle $[0;5]$."
     ]
    },
    {
     "cell_type": "code",
     "collapsed": false,
     "input": [
      "x = np.linspace(1, 3, 100)\n",
      "plt.plot(x, fonction(x))\n",
      "plt.grid()\n",
      "plt.xlabel(\"x\")\n",
      "plt.ylabel(\"f(x)\")"
     ],
     "language": "python",
     "metadata": {},
     "outputs": [
      {
       "metadata": {},
       "output_type": "pyout",
       "prompt_number": 113,
       "text": [
        "<matplotlib.text.Text at 0x7f7c5590c750>"
       ]
      },
      {
       "metadata": {},
       "output_type": "display_data",
       "png": "[encoded data removed]",
       "text": [
        "<matplotlib.figure.Figure at 0x7f7c57347150>"
       ]
      }
     ],
     "prompt_number": 113
    },
    {
     "cell_type": "heading",
     "level": 2,
     "metadata": {},
     "source": [
      "Int\u00e9gration analytique de la fonction"
     ]
    },
    {
     "cell_type": "markdown",
     "metadata": {},
     "source": [
      "L'int\u00e9gration analytique donne :\n",
      "\n",
      "\\begin{equation}\n",
      "    \\int_1^3 (x^2 - 3x - 6) \\exp\\left(-x\\right) dx = -2.525369\n",
      "\\end{equation}"
     ]
    },
    {
     "cell_type": "code",
     "collapsed": false,
     "input": [
      "analytique = -2.525369"
     ],
     "language": "python",
     "metadata": {},
     "outputs": [],
     "prompt_number": 83
    },
    {
     "cell_type": "heading",
     "level": 2,
     "metadata": {},
     "source": [
      "Int\u00e9gration num\u00e9rique \u00e0 la main"
     ]
    },
    {
     "cell_type": "heading",
     "level": 3,
     "metadata": {},
     "source": [
      "Par la m\u00e9thode des trap\u00e8zes"
     ]
    },
    {
     "cell_type": "markdown",
     "metadata": {},
     "source": [
      "Dans la m\u00e9thode des trap\u00e8zes, l'intervalle d'int\u00e9gration est d\u00e9coup\u00e9 en petits intervalles. On dit que la fonction est discr\u00e9tis\u00e9e. Sur chaque petit intervalle, la fonction est approxim\u00e9e par une droite. L'int\u00e9grale est \u00e9valu\u00e9e en calculant l'aire sous la courbe comme la somme des petites aires $S_i$, sur chaque petit intervalle, entre la droite qui approxime la courbe et l'axe des abscisses.\n",
      "\n",
      "<img src=\"trapeze.png\" />\n",
      "\n",
      "Chaque point de la courbe est rep\u00e9r\u00e9 par son indice $i$.\n",
      "\n",
      "L'aire d'un trap\u00e8ze sur le petit intervalle compris entre $x_{i+1}$ et $x_i$ est donn\u00e9e par :\n",
      "\\begin{equation}\n",
      "    S_i = (x_{i+1} - x_i)\\frac{f(x_{i+1}) + f(x_i)}{2}\n",
      "\\end{equation}\n",
      "L'int\u00e9grale est alors la somme des petites aires $S_i$.\n",
      "\\begin{equation}\n",
      "    I = \\sum_{i=1}^{N-1} S_i = \\sum_{i=1}^{N-1} (x_{i+1} - x_i)\\frac{f(x_{i+1}) + f(x_i)}{2}\n",
      "\\end{equation}\n",
      "Ce qui peut se simplifier de la fa\u00e7on suivante :\n",
      "\\begin{equation}\n",
      "    I = h\\left(\\frac{f(a)+f(b)}{2} + \\sum_{i=2}^{N-1}f(x_i)\\right)\n",
      "\\end{equation}\n",
      "Avec $h$ la largeur des petits intervalles : le pas d'int\u00e9gration."
     ]
    },
    {
     "cell_type": "heading",
     "level": 3,
     "metadata": {},
     "source": [
      "Mise en \u0153uvre de la m\u00e9thode des trap\u00e8ze."
     ]
    },
    {
     "cell_type": "markdown",
     "metadata": {},
     "source": [
      "On d\u00e9finit les bornes d'int\u00e9gration :"
     ]
    },
    {
     "cell_type": "code",
     "collapsed": false,
     "input": [
      "a, b = 1, 3"
     ],
     "language": "python",
     "metadata": {},
     "outputs": [],
     "prompt_number": 84
    },
    {
     "cell_type": "markdown",
     "metadata": {},
     "source": [
      "On choisit le nombre de valeurs de x :"
     ]
    },
    {
     "cell_type": "code",
     "collapsed": false,
     "input": [
      "n = 201"
     ],
     "language": "python",
     "metadata": {},
     "outputs": [],
     "prompt_number": 141
    },
    {
     "cell_type": "markdown",
     "metadata": {},
     "source": [
      "Calcul de $h$, le pas. Avec $n$ valeurs de $x$, on a $n-1$ intervalles."
     ]
    },
    {
     "cell_type": "code",
     "collapsed": false,
     "input": [
      "h = (b - a) / (n - 1)\n",
      "print(h)"
     ],
     "language": "python",
     "metadata": {},
     "outputs": [
      {
       "output_type": "stream",
       "stream": "stdout",
       "text": [
        "0.01\n"
       ]
      }
     ],
     "prompt_number": 142
    },
    {
     "cell_type": "markdown",
     "metadata": {},
     "source": [
      "On calcule les valeurs des abscisses $x_i$ :"
     ]
    },
    {
     "cell_type": "code",
     "collapsed": false,
     "input": [
      "x = np.linspace(a, b, n)\n",
      "print(len(x), x[0], x[1], x[-1])"
     ],
     "language": "python",
     "metadata": {},
     "outputs": [
      {
       "output_type": "stream",
       "stream": "stdout",
       "text": [
        "201 1.0 1.01 3.0\n"
       ]
      }
     ],
     "prompt_number": 154
    },
    {
     "cell_type": "heading",
     "level": 4,
     "metadata": {},
     "source": [
      "Premi\u00e8re possibilit\u00e9 :"
     ]
    },
    {
     "cell_type": "markdown",
     "metadata": {},
     "source": [
      "Voici une premi\u00e8re fa\u00e7on de faire. Il faut bien penser \u00e0 initialiser la variable contenant le r\u00e9sultat de l'int\u00e9gration."
     ]
    },
    {
     "cell_type": "code",
     "collapsed": false,
     "input": [
      "integrale = 0\n",
      "for i in range(n-1):\n",
      "    integrale += (x[i+1] - x[i])*(fonction(x[i+1]) + fonction(x[i])) / 2\n",
      "print(integrale)"
     ],
     "language": "python",
     "metadata": {},
     "outputs": [
      {
       "output_type": "stream",
       "stream": "stdout",
       "text": [
        "-2.52538674545\n"
       ]
      }
     ],
     "prompt_number": 150
    },
    {
     "cell_type": "heading",
     "level": 4,
     "metadata": {},
     "source": [
      "Seconde possibilit\u00e9 :"
     ]
    },
    {
     "cell_type": "markdown",
     "metadata": {},
     "source": [
      "Seconde fa\u00e7on de faire avec la formule simplifi\u00e9e."
     ]
    },
    {
     "cell_type": "code",
     "collapsed": false,
     "input": [
      "integrale = (fonction(a) + fonction(b)) / 2\n",
      "for xi in x[1:n-1]:\n",
      "    integrale += fonction(xi)\n",
      "integrale *= h\n",
      "print(integrale)"
     ],
     "language": "python",
     "metadata": {},
     "outputs": [
      {
       "output_type": "stream",
       "stream": "stdout",
       "text": [
        "-2.52538674545\n"
       ]
      }
     ],
     "prompt_number": 155
    }
   ],
   "metadata": {}
  }
 ]
}