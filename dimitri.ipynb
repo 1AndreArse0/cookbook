{
 "cells": [
  {
   "cell_type": "markdown",
   "metadata": {},
   "source": [
    "# Complexation\n",
    "\n",
    "##### Germain Vallverdu [germain.vallverdu@univ-pau.fr](germain.vallverdu@univ-pau.fr)\n",
    "\n",
    "## Python set up"
   ]
  },
  {
   "cell_type": "code",
   "execution_count": 23,
   "metadata": {
    "collapsed": false
   },
   "outputs": [
    {
     "name": "stdout",
     "output_type": "stream",
     "text": [
      "Populating the interactive namespace from numpy and matplotlib\n"
     ]
    }
   ],
   "source": [
    "%pylab --no-import-all inline\n",
    "from scipy.optimize import fsolve\n",
    "import pandas as pd\n",
    "import seaborn as sns\n",
    "sns.set(style=\"whitegrid\")"
   ]
  },
  {
   "cell_type": "markdown",
   "metadata": {},
   "source": [
    "## Equations\n",
    "\n",
    "This is the system of equations we want to solve :\n",
    "\n",
    "\\begin{align*}\n",
    "    K_{d_{app}, 2} & = \\frac{[B]^2[L^-]^7}{[C]} &\n",
    "    K_{d_{app}, 3} & = \\frac{[B]^2[L^-]^5}{[D]} &\n",
    "    K_{d_{app}, 4} & = \\frac{[B]^2[L^-]^3}{[E]}\n",
    "\\end{align*}\n",
    "\n",
    "\\begin{align*}\n",
    "    [Cr_{tot}] & = [B] + 2[C] + 2[D] + 2[E] \\\\\n",
    "    [L_{tot}] & = [L] + 3[E] + 5[D] + 7[C] + [HL]\n",
    "\\end{align*}\n",
    "\n",
    "with $Ka = [L^-][H^+] \\,/\\,[LH]$ you get\n",
    "\n",
    "\\begin{align}\n",
    "    [Cr]_{tot} & = [B] + 2[C] + 2[D] + 2[E] \\\\\n",
    "    [L^-]_{tot} & = \\left(1 + \\frac{[H^+]}{Ka}\\right)[L^-] + 3[E] + 5[D] + 7[C]\n",
    "\\end{align}\n",
    "\n",
    "One can reduce the system to 2 equations with 2 unknowns using :\n",
    "\n",
    "\\begin{align*}\n",
    "    [C] & = \\frac{[B]^2[L^-]^7}{K_{d_{app}, 2}} &\n",
    "    [D] & = \\frac{[B]^2[L^-]^5}{K_{d_{app}, 3}} &\n",
    "    [E] & = \\frac{[B]^2[L^-]^3}{K_{d_{app}, 4}}\n",
    "\\end{align*}\n",
    "\n",
    "Now equations of $[Cr]_{tot}$ and $[L^-]_{tot}$ reads \n",
    "\n",
    "\\begin{align}\n",
    "    [Cr]_{tot} & = [B] + 2\\frac{[B]^2[L^-]^7}{K_{d_{app}, 2}}  \n",
    "                       + 2\\frac{[B]^2[L^-]^5}{K_{d_{app}, 3}} \n",
    "                       + 2\\frac{[B]^2[L^-]^3}{K_{d_{app}, 4}} \\\\\n",
    "    [L^-]_{tot} & = \\left(1 + \\frac{[H^+]}{Ka}\\right)[L^-] + 3\\frac{[B]^2[L^-]^3}{K_{d_{app}, 4}} \n",
    "                                                           + 5\\frac{[B]^2[L^-]^5}{K_{d_{app}, 3}} \n",
    "                                                           + 7\\frac{[B]^2[L^-]^7}{K_{d_{app}, 2}}\n",
    "\\end{align}\n",
    "\n",
    "we have only 2 unknowns, $[B]$ and $[L^-]$, and we will solve the following system :\n",
    "\n",
    "\\begin{equation}\n",
    "    \\begin{cases}\n",
    "    [B] + 2\\dfrac{[B]^2[L^-]^7}{K_{d_{app}, 2}}  \n",
    "        + 2\\dfrac{[B]^2[L^-]^5}{K_{d_{app}, 3}} \n",
    "        + 2\\dfrac{[B]^2[L^-]^3}{K_{d_{app}, 4}} - [Cr]_{tot} & = 0 \\\\\n",
    "    \\left(1 + \\dfrac{[H^+]}{Ka}\\right)[L^-] + 3\\dfrac{[B]^2[L^-]^3}{K_{d_{app}, 4}} \n",
    "                                           + 5\\dfrac{[B]^2[L^-]^5}{K_{d_{app}, 3}} \n",
    "                                           + 7\\dfrac{[B]^2[L^-]^7}{K_{d_{app}, 2}} - [L^-]_{tot} & = 0\n",
    "    \\end{cases}\n",
    "\\end{equation}\n",
    "\n",
    "## Data\n",
    "\n",
    "pH, Ka, $[Cr]_{tot}$ and $[L^-]_{tot}$ are fixed quantities with the following ranges :\n",
    "\n",
    "* $[Cr]_{tot} \\in [0.1 ; 0.8]$\n",
    "* $[L^-]_{tot} \\in [0.1 ; 0.8]$\n",
    "* $pH \\in [1 ; 6]$\n",
    "* pKa = 3.5 \n",
    "\n",
    "Dissociative constants are\n",
    "\n",
    "\\begin{align*}\n",
    "    K_{d_{app}, 2} & = 6.15\\times 10^{-7} &\n",
    "    K_{d_{app}, 3} & = 3.9\\times 10^{-5} &\n",
    "    K_{d_{app}, 4} & = 2.14\\times 10^{-2.4}\n",
    "\\end{align*}\n",
    "\n",
    "## Computations\n",
    "\n",
    "### Basic functions\n",
    "\n",
    "First defines basic functions"
   ]
  },
  {
   "cell_type": "code",
   "execution_count": 2,
   "metadata": {
    "collapsed": true
   },
   "outputs": [],
   "source": [
    "def cH(pH):\n",
    "    \"\"\" compute [H+] from pH \"\"\"\n",
    "    return 10**(-pH)\n",
    "\n",
    "def get_c_cplx(B, L, n, Kd):\n",
    "    \"\"\" compute concentration of complex CLn associated to constant Kd \"\"\"\n",
    "    return B**2 * L**n / Kd\n",
    "\n",
    "def output_results(B, L, params):\n",
    "    Kd2, Kd3, Kd4, pH, Ka, Cr_tot, L_tot = params\n",
    "    # compute C, D, E from B, L\n",
    "    C = get_c_cplx(B, L, 7, Kd2)\n",
    "    D = get_c_cplx(B, L, 5, Kd3)\n",
    "    E = get_c_cplx(B, L, 3, Kd4)\n",
    "    # print results\n",
    "    print(\"Cr3+ free = %10.4e \" % B)\n",
    "    print(\"L- free   = %10.4e \" % L)\n",
    "    print(\"Cr2L3^3+  = %10.4e \" % C)\n",
    "    print(\"Cr2L5^+   = %10.4e \" % D) \n",
    "    print(\"Cr2L7^-   = %10.4e \" % E)\n",
    "    "
   ]
  },
  {
   "cell_type": "markdown",
   "metadata": {},
   "source": [
    "### Set up constants"
   ]
  },
  {
   "cell_type": "code",
   "execution_count": 3,
   "metadata": {
    "collapsed": false
   },
   "outputs": [],
   "source": [
    "Kd2 = 6.15e-7\n",
    "Kd3 = 3.9e-5\n",
    "Kd4 = 2.14* 10**(-2.4)\n",
    "Ka = 10**(-3.5)"
   ]
  },
  {
   "cell_type": "markdown",
   "metadata": {},
   "source": [
    "### Equations to solve"
   ]
  },
  {
   "cell_type": "code",
   "execution_count": 4,
   "metadata": {
    "collapsed": true
   },
   "outputs": [],
   "source": [
    "def system(X, *params):\n",
    "    \"\"\" \n",
    "    compute each equation of the system \n",
    "    \n",
    "    Args:\n",
    "        X is the unknowns\n",
    "        params are the parameters \n",
    "    \n",
    "    \"\"\"\n",
    "    B, L = X\n",
    "    Kd2, Kd3, Kd4, pH, Ka, Cr_tot, L_tot = params\n",
    "    \n",
    "    # compute C, D, E from B, L\n",
    "    C = get_c_cplx(B, L, 7, Kd2)\n",
    "    D = get_c_cplx(B, L, 5, Kd3)\n",
    "    E = get_c_cplx(B, L, 3, Kd4)\n",
    "    \n",
    "    # compute equations\n",
    "    eq1 = B + 2 * C + 2 * D + 2 * E - Cr_tot\n",
    "    eq2 = (1 + cH(pH) / Ka) * L + 3 * E + 5 * D + 7 * C - L_tot\n",
    "    \n",
    "    return (eq1, eq2)"
   ]
  },
  {
   "cell_type": "markdown",
   "metadata": {},
   "source": [
    "### Solve the equations\n",
    "\n",
    "#### set up parameters"
   ]
  },
  {
   "cell_type": "code",
   "execution_count": 5,
   "metadata": {
    "collapsed": true
   },
   "outputs": [],
   "source": [
    "Cr_tot = .4\n",
    "L_tot = .4\n",
    "pH = 4.5\n",
    "params = (Kd2, Kd3, Kd4, pH, Ka, Cr_tot, L_tot)"
   ]
  },
  {
   "cell_type": "markdown",
   "metadata": {},
   "source": [
    "#### define an estimate of B and L"
   ]
  },
  {
   "cell_type": "code",
   "execution_count": null,
   "metadata": {
    "collapsed": true
   },
   "outputs": [],
   "source": [
    "B = 5e-6\n",
    "L = 3"
   ]
  },
  {
   "cell_type": "markdown",
   "metadata": {},
   "source": [
    "#### run the solver"
   ]
  },
  {
   "cell_type": "code",
   "execution_count": 6,
   "metadata": {
    "collapsed": false
   },
   "outputs": [],
   "source": [
    "B, L = fsolve(system, x0=[1, 1], args=params)"
   ]
  },
  {
   "cell_type": "code",
   "execution_count": 7,
   "metadata": {
    "collapsed": false
   },
   "outputs": [
    {
     "name": "stdout",
     "output_type": "stream",
     "text": [
      "Cr3+ free = 2.9086e-01 \n",
      "L- free   = 1.0361e-01 \n",
      "Cr2L3^3+  = 1.7630e-02 \n",
      "Cr2L5^+   = 2.5898e-02 \n",
      "Cr2L7^-   = 1.1044e-02 \n"
     ]
    }
   ],
   "source": [
    "output_results(B, L, params)"
   ]
  },
  {
   "cell_type": "markdown",
   "metadata": {},
   "source": [
    "### Compute some datas"
   ]
  },
  {
   "cell_type": "code",
   "execution_count": null,
   "metadata": {
    "collapsed": false
   },
   "outputs": [],
   "source": [
    "pH = np.arange(1, 6.5, .5)\n",
    "npts = len(pH)\n",
    "df = pd.DataFrame({\"Cr3+\": npts * [.4]}, index=pH)\n",
    "df.index.name = \"pH\"\n",
    "df"
   ]
  },
  {
   "cell_type": "code",
   "execution_count": 31,
   "metadata": {
    "collapsed": false
   },
   "outputs": [],
   "source": [
    "data = {\"pH\": [], \"Cr_tot\": [], \"L_tot\": [], \"Cr3+\": [], \"L-\": [], \"Cr2L3\": [], \"Cr2L5\": [], \"Cr2L7\":[]}\n",
    "Cr_tot = .2\n",
    "L_tot = 8\n",
    "for pH in np.arange(1, 6.5, .5):\n",
    "    params = (Kd2, Kd3, Kd4, pH, Ka, Cr_tot, L_tot)\n",
    "    B, L = fsolve(system, x0=[1e-6, L_tot], args=params)\n",
    "    data[\"pH\"].append(pH)\n",
    "    data[\"Cr_tot\"].append(Cr_tot)\n",
    "    data[\"L_tot\"].append(L_tot)\n",
    "    data[\"Cr3+\"].append(B)\n",
    "    data[\"L-\"].append(L)\n",
    "    data[\"Cr2L3\"].append(get_c_cplx(B, L, 3, Kd4))\n",
    "    data[\"Cr2L5\"].append(get_c_cplx(B, L, 5, Kd3))\n",
    "    data[\"Cr2L7\"].append(get_c_cplx(B, L, 7, Kd2))"
   ]
  },
  {
   "cell_type": "code",
   "execution_count": 32,
   "metadata": {
    "collapsed": false
   },
   "outputs": [
    {
     "data": {
      "text/html": [
       "<div>\n",
       "<table border=\"1\" class=\"dataframe\">\n",
       "  <thead>\n",
       "    <tr style=\"text-align: right;\">\n",
       "      <th></th>\n",
       "      <th>Cr2L3</th>\n",
       "      <th>Cr2L5</th>\n",
       "      <th>Cr2L7</th>\n",
       "      <th>Cr3+</th>\n",
       "      <th>Cr_tot</th>\n",
       "      <th>L-</th>\n",
       "      <th>L_tot</th>\n",
       "    </tr>\n",
       "    <tr>\n",
       "      <th>pH</th>\n",
       "      <th></th>\n",
       "      <th></th>\n",
       "      <th></th>\n",
       "      <th></th>\n",
       "      <th></th>\n",
       "      <th></th>\n",
       "      <th></th>\n",
       "    </tr>\n",
       "  </thead>\n",
       "  <tbody>\n",
       "    <tr>\n",
       "      <th>1.0</th>\n",
       "      <td>7.516391e-05</td>\n",
       "      <td>0.000010</td>\n",
       "      <td>4.210777e-07</td>\n",
       "      <td>1.998279e-01</td>\n",
       "      <td>0.2</td>\n",
       "      <td>0.025218</td>\n",
       "      <td>8</td>\n",
       "    </tr>\n",
       "    <tr>\n",
       "      <th>1.5</th>\n",
       "      <td>2.043559e-03</td>\n",
       "      <td>0.002781</td>\n",
       "      <td>1.098926e-03</td>\n",
       "      <td>1.881523e-01</td>\n",
       "      <td>0.2</td>\n",
       "      <td>0.078933</td>\n",
       "      <td>8</td>\n",
       "    </tr>\n",
       "    <tr>\n",
       "      <th>2.0</th>\n",
       "      <td>1.644939e-03</td>\n",
       "      <td>0.018810</td>\n",
       "      <td>6.244154e-02</td>\n",
       "      <td>3.420680e-02</td>\n",
       "      <td>0.2</td>\n",
       "      <td>0.228795</td>\n",
       "      <td>8</td>\n",
       "    </tr>\n",
       "    <tr>\n",
       "      <th>2.5</th>\n",
       "      <td>3.553287e-05</td>\n",
       "      <td>0.003428</td>\n",
       "      <td>9.602829e-02</td>\n",
       "      <td>1.015513e-03</td>\n",
       "      <td>0.2</td>\n",
       "      <td>0.664596</td>\n",
       "      <td>8</td>\n",
       "    </tr>\n",
       "    <tr>\n",
       "      <th>3.0</th>\n",
       "      <td>7.584439e-07</td>\n",
       "      <td>0.000510</td>\n",
       "      <td>9.947215e-02</td>\n",
       "      <td>3.460022e-05</td>\n",
       "      <td>0.2</td>\n",
       "      <td>1.754122</td>\n",
       "      <td>8</td>\n",
       "    </tr>\n",
       "    <tr>\n",
       "      <th>3.5</th>\n",
       "      <td>4.061736e-08</td>\n",
       "      <td>0.000118</td>\n",
       "      <td>9.988041e-02</td>\n",
       "      <td>2.667482e-06</td>\n",
       "      <td>0.2</td>\n",
       "      <td>3.650123</td>\n",
       "      <td>8</td>\n",
       "    </tr>\n",
       "    <tr>\n",
       "      <th>4.0</th>\n",
       "      <td>7.625095e-09</td>\n",
       "      <td>0.000051</td>\n",
       "      <td>9.994845e-02</td>\n",
       "      <td>6.170672e-07</td>\n",
       "      <td>0.2</td>\n",
       "      <td>5.546232</td>\n",
       "      <td>8</td>\n",
       "    </tr>\n",
       "    <tr>\n",
       "      <th>4.5</th>\n",
       "      <td>3.720207e-09</td>\n",
       "      <td>0.000036</td>\n",
       "      <td>9.996404e-02</td>\n",
       "      <td>3.292977e-07</td>\n",
       "      <td>0.2</td>\n",
       "      <td>6.636430</td>\n",
       "      <td>8</td>\n",
       "    </tr>\n",
       "    <tr>\n",
       "      <th>5.0</th>\n",
       "      <td>2.878068e-09</td>\n",
       "      <td>0.000031</td>\n",
       "      <td>9.996838e-02</td>\n",
       "      <td>2.630564e-07</td>\n",
       "      <td>0.2</td>\n",
       "      <td>7.076292</td>\n",
       "      <td>8</td>\n",
       "    </tr>\n",
       "    <tr>\n",
       "      <th>5.5</th>\n",
       "      <td>2.644291e-09</td>\n",
       "      <td>0.000030</td>\n",
       "      <td>9.996970e-02</td>\n",
       "      <td>2.442608e-07</td>\n",
       "      <td>0.2</td>\n",
       "      <td>7.227783</td>\n",
       "      <td>8</td>\n",
       "    </tr>\n",
       "    <tr>\n",
       "      <th>6.0</th>\n",
       "      <td>2.573419e-09</td>\n",
       "      <td>0.000030</td>\n",
       "      <td>9.997011e-02</td>\n",
       "      <td>2.385224e-07</td>\n",
       "      <td>0.2</td>\n",
       "      <td>7.277048</td>\n",
       "      <td>8</td>\n",
       "    </tr>\n",
       "  </tbody>\n",
       "</table>\n",
       "</div>"
      ],
      "text/plain": [
       "            Cr2L3     Cr2L5         Cr2L7          Cr3+  Cr_tot        L-  \\\n",
       "pH                                                                          \n",
       "1.0  7.516391e-05  0.000010  4.210777e-07  1.998279e-01     0.2  0.025218   \n",
       "1.5  2.043559e-03  0.002781  1.098926e-03  1.881523e-01     0.2  0.078933   \n",
       "2.0  1.644939e-03  0.018810  6.244154e-02  3.420680e-02     0.2  0.228795   \n",
       "2.5  3.553287e-05  0.003428  9.602829e-02  1.015513e-03     0.2  0.664596   \n",
       "3.0  7.584439e-07  0.000510  9.947215e-02  3.460022e-05     0.2  1.754122   \n",
       "3.5  4.061736e-08  0.000118  9.988041e-02  2.667482e-06     0.2  3.650123   \n",
       "4.0  7.625095e-09  0.000051  9.994845e-02  6.170672e-07     0.2  5.546232   \n",
       "4.5  3.720207e-09  0.000036  9.996404e-02  3.292977e-07     0.2  6.636430   \n",
       "5.0  2.878068e-09  0.000031  9.996838e-02  2.630564e-07     0.2  7.076292   \n",
       "5.5  2.644291e-09  0.000030  9.996970e-02  2.442608e-07     0.2  7.227783   \n",
       "6.0  2.573419e-09  0.000030  9.997011e-02  2.385224e-07     0.2  7.277048   \n",
       "\n",
       "     L_tot  \n",
       "pH          \n",
       "1.0      8  \n",
       "1.5      8  \n",
       "2.0      8  \n",
       "2.5      8  \n",
       "3.0      8  \n",
       "3.5      8  \n",
       "4.0      8  \n",
       "4.5      8  \n",
       "5.0      8  \n",
       "5.5      8  \n",
       "6.0      8  "
      ]
     },
     "execution_count": 32,
     "metadata": {},
     "output_type": "execute_result"
    }
   ],
   "source": [
    "df = pd.DataFrame(data)\n",
    "df.set_index(\"pH\", inplace=True)\n",
    "df"
   ]
  },
  {
   "cell_type": "code",
   "execution_count": 38,
   "metadata": {
    "collapsed": false
   },
   "outputs": [
    {
     "data": {
      "text/plain": [
       "<matplotlib.text.Text at 0x114b69da0>"
      ]
     },
     "execution_count": 38,
     "metadata": {},
     "output_type": "execute_result"
    },
    {
     "data": {
      "image/png": "[encoded data removed]",
      "text/plain": [
       "<matplotlib.figure.Figure at 0x1192a8940>"
      ]
     },
     "metadata": {},
     "output_type": "display_data"
    }
   ],
   "source": [
    "ax = df[[\"Cr3+\", \"Cr2L3\", \"Cr2L5\", \"Cr2L7\"]].plot(\n",
    "    kind=\"line\", \n",
    "    title=\"With Cr_tot = %f and L_tot = %f\" % (Cr_tot, L_tot),    \n",
    ")\n",
    "ax.set_xlabel(\"pH\")\n",
    "ax.set_ylabel(\"concentration mol/L\")"
   ]
  },
  {
   "cell_type": "code",
   "execution_count": 10,
   "metadata": {
    "collapsed": false
   },
   "outputs": [
    {
     "name": "stderr",
     "output_type": "stream",
     "text": [
      "/Users/gvallver/anaconda/lib/python3.5/site-packages/scipy/optimize/minpack.py:161: RuntimeWarning: The iteration is not making good progress, as measured by the \n",
      "  improvement from the last ten iterations.\n",
      "  warnings.warn(msg, RuntimeWarning)\n",
      "/Users/gvallver/anaconda/lib/python3.5/site-packages/scipy/optimize/minpack.py:161: RuntimeWarning: The iteration is not making good progress, as measured by the \n",
      "  improvement from the last five Jacobian evaluations.\n",
      "  warnings.warn(msg, RuntimeWarning)\n"
     ]
    }
   ],
   "source": [
    "data = {\"pH\": [], \"Cr_tot\": [], \"L_tot\": [], \"Cr3+\": [], \"L-\": [], \"Cr2L3\": [], \"Cr2L5\": [], \"Cr2L7\":[]}\n",
    "for pH in np.arange(1, 6.5, .5):\n",
    "    for Cr_tot in np.arange(0.1, 0.9, .1):\n",
    "        for L_tot in np.arange(0.1, 8.1, .1):\n",
    "            params = (Kd2, Kd3, Kd4, pH, Ka, Cr_tot, L_tot)\n",
    "            B, L = fsolve(system, x0=[.1, .1], args=params)\n",
    "            data[\"pH\"].append(pH)\n",
    "            data[\"Cr_tot\"].append(Cr_tot)\n",
    "            data[\"L_tot\"].append(L_tot)\n",
    "            data[\"Cr3+\"].append(B)\n",
    "            data[\"L-\"].append(L)\n",
    "            data[\"Cr2L3\"].append(get_c_cplx(B, L, 3, Kd4))\n",
    "            data[\"Cr2L5\"].append(get_c_cplx(B, L, 5, Kd3))\n",
    "            data[\"Cr2L7\"].append(get_c_cplx(B, L, 7, Kd2))"
   ]
  },
  {
   "cell_type": "markdown",
   "metadata": {},
   "source": [
    "## Make a plot"
   ]
  }
 ],
 "metadata": {
  "anaconda-cloud": {},
  "kernelspec": {
   "display_name": "Python [conda root]",
   "language": "python",
   "name": "conda-root-py"
  },
  "language_info": {
   "codemirror_mode": {
    "name": "ipython",
    "version": 3
   },
   "file_extension": ".py",
   "mimetype": "text/x-python",
   "name": "python",
   "nbconvert_exporter": "python",
   "pygments_lexer": "ipython3",
   "version": "3.5.2"
  }
 },
 "nbformat": 4,
 "nbformat_minor": 1
}
