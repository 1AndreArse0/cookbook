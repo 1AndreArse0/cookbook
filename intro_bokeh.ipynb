{
 "cells": [
  {
   "cell_type": "code",
   "execution_count": 1,
   "metadata": {
    "collapsed": false
   },
   "outputs": [
    {
     "data": {
      "text/html": [
       "\n",
       "    <div class=\"bk-banner\">\n",
       "        <a href=\"http://bokeh.pydata.org\" target=\"_blank\" class=\"bk-logo bk-logo-small bk-logo-notebook\"></a>\n",
       "        <span id=\"f0baeb72-2b3e-4378-a392-b7636912da80\">Loading BokehJS ...</span>\n",
       "    </div>"
      ]
     },
     "metadata": {},
     "output_type": "display_data"
    },
    {
     "data": {
      "application/javascript": [
       "\n",
       "(function(global) {\n",
       "  function now() {\n",
       "    return new Date();\n",
       "  }\n",
       "\n",
       "  if (typeof (window._bokeh_onload_callbacks) === \"undefined\") {\n",
       "    window._bokeh_onload_callbacks = [];\n",
       "  }\n",
       "\n",
       "  function run_callbacks() {\n",
       "    window._bokeh_onload_callbacks.forEach(function(callback) { callback() });\n",
       "    delete window._bokeh_onload_callbacks\n",
       "    console.info(\"Bokeh: all callbacks have finished\");\n",
       "  }\n",
       "\n",
       "  function load_libs(js_urls, callback) {\n",
       "    window._bokeh_onload_callbacks.push(callback);\n",
       "    if (window._bokeh_is_loading > 0) {\n",
       "      console.log(\"Bokeh: BokehJS is being loaded, scheduling callback at\", now());\n",
       "      return null;\n",
       "    }\n",
       "    if (js_urls == null || js_urls.length === 0) {\n",
       "      run_callbacks();\n",
       "      return null;\n",
       "    }\n",
       "    console.log(\"Bokeh: BokehJS not loaded, scheduling load and callback at\", now());\n",
       "    window._bokeh_is_loading = js_urls.length;\n",
       "    for (var i = 0; i < js_urls.length; i++) {\n",
       "      var url = js_urls[i];\n",
       "      var s = document.createElement('script');\n",
       "      s.src = url;\n",
       "      s.async = false;\n",
       "      s.onreadystatechange = s.onload = function() {\n",
       "        window._bokeh_is_loading--;\n",
       "        if (window._bokeh_is_loading === 0) {\n",
       "          console.log(\"Bokeh: all BokehJS libraries loaded\");\n",
       "          run_callbacks()\n",
       "        }\n",
       "      };\n",
       "      s.onerror = function() {\n",
       "        console.warn(\"failed to load library \" + url);\n",
       "      };\n",
       "      console.log(\"Bokeh: injecting script tag for BokehJS library: \", url);\n",
       "      document.getElementsByTagName(\"head\")[0].appendChild(s);\n",
       "    }\n",
       "  };\n",
       "\n",
       "  var js_urls = ['https://cdn.pydata.org/bokeh/release/bokeh-0.11.1.min.js', 'https://cdn.pydata.org/bokeh/release/bokeh-widgets-0.11.1.min.js', 'https://cdn.pydata.org/bokeh/release/bokeh-compiler-0.11.1.min.js'];\n",
       "\n",
       "  var inline_js = [\n",
       "    function(Bokeh) {\n",
       "      Bokeh.set_log_level(\"info\");\n",
       "    },\n",
       "    \n",
       "    function(Bokeh) {\n",
       "      Bokeh.$(\"#f0baeb72-2b3e-4378-a392-b7636912da80\").text(\"BokehJS successfully loaded\");\n",
       "    },\n",
       "    function(Bokeh) {\n",
       "      console.log(\"Bokeh: injecting CSS: https://cdn.pydata.org/bokeh/release/bokeh-0.11.1.min.css\");\n",
       "      Bokeh.embed.inject_css(\"https://cdn.pydata.org/bokeh/release/bokeh-0.11.1.min.css\");\n",
       "      console.log(\"Bokeh: injecting CSS: https://cdn.pydata.org/bokeh/release/bokeh-widgets-0.11.1.min.css\");\n",
       "      Bokeh.embed.inject_css(\"https://cdn.pydata.org/bokeh/release/bokeh-widgets-0.11.1.min.css\");\n",
       "    }\n",
       "  ];\n",
       "\n",
       "  function run_inline_js() {\n",
       "    for (var i = 0; i < inline_js.length; i++) {\n",
       "      inline_js[i](window.Bokeh);\n",
       "    }\n",
       "  }\n",
       "\n",
       "  if (window._bokeh_is_loading === 0) {\n",
       "    console.log(\"Bokeh: BokehJS loaded, going straight to plotting\");\n",
       "    run_inline_js();\n",
       "  } else {\n",
       "    load_libs(js_urls, function() {\n",
       "      console.log(\"Bokeh: BokehJS plotting callback run at\", now());\n",
       "      run_inline_js();\n",
       "    });\n",
       "  }\n",
       "}(this));"
      ]
     },
     "metadata": {},
     "output_type": "display_data"
    }
   ],
   "source": [
    "import bokeh.plotting as bp\n",
    "bp.output_notebook()"
   ]
  },
  {
   "cell_type": "code",
   "execution_count": 2,
   "metadata": {
    "collapsed": true
   },
   "outputs": [],
   "source": [
    "# prepare some data\n",
    "x = [1, 2, 3, 4, 5]\n",
    "y = [6, 7, 2, 4, 5]"
   ]
  },
  {
   "cell_type": "code",
   "execution_count": 3,
   "metadata": {
    "collapsed": false
   },
   "outputs": [
    {
     "data": {
      "text/html": [
       "\n",
       "\n",
       "    <div class=\"plotdiv\" id=\"50041669-52d5-431b-9447-8466e9a6809d\"></div>\n",
       "<script type=\"text/javascript\">\n",
       "  \n",
       "  (function(global) {\n",
       "    function now() {\n",
       "      return new Date();\n",
       "    }\n",
       "  \n",
       "    if (typeof (window._bokeh_onload_callbacks) === \"undefined\") {\n",
       "      window._bokeh_onload_callbacks = [];\n",
       "    }\n",
       "  \n",
       "    function run_callbacks() {\n",
       "      window._bokeh_onload_callbacks.forEach(function(callback) { callback() });\n",
       "      delete window._bokeh_onload_callbacks\n",
       "      console.info(\"Bokeh: all callbacks have finished\");\n",
       "    }\n",
       "  \n",
       "    function load_libs(js_urls, callback) {\n",
       "      window._bokeh_onload_callbacks.push(callback);\n",
       "      if (window._bokeh_is_loading > 0) {\n",
       "        console.log(\"Bokeh: BokehJS is being loaded, scheduling callback at\", now());\n",
       "        return null;\n",
       "      }\n",
       "      if (js_urls == null || js_urls.length === 0) {\n",
       "        run_callbacks();\n",
       "        return null;\n",
       "      }\n",
       "      console.log(\"Bokeh: BokehJS not loaded, scheduling load and callback at\", now());\n",
       "      window._bokeh_is_loading = js_urls.length;\n",
       "      for (var i = 0; i < js_urls.length; i++) {\n",
       "        var url = js_urls[i];\n",
       "        var s = document.createElement('script');\n",
       "        s.src = url;\n",
       "        s.async = false;\n",
       "        s.onreadystatechange = s.onload = function() {\n",
       "          window._bokeh_is_loading--;\n",
       "          if (window._bokeh_is_loading === 0) {\n",
       "            console.log(\"Bokeh: all BokehJS libraries loaded\");\n",
       "            run_callbacks()\n",
       "          }\n",
       "        };\n",
       "        s.onerror = function() {\n",
       "          console.warn(\"failed to load library \" + url);\n",
       "        };\n",
       "        console.log(\"Bokeh: injecting script tag for BokehJS library: \", url);\n",
       "        document.getElementsByTagName(\"head\")[0].appendChild(s);\n",
       "      }\n",
       "    };var element = document.getElementById(\"50041669-52d5-431b-9447-8466e9a6809d\");\n",
       "    if (element == null) {\n",
       "      console.log(\"Bokeh: ERROR: autoload.js configured with elementid '50041669-52d5-431b-9447-8466e9a6809d' but no matching script tag was found. \")\n",
       "      return false;\n",
       "    }\n",
       "  \n",
       "    var js_urls = [];\n",
       "  \n",
       "    var inline_js = [\n",
       "      function(Bokeh) {\n",
       "        Bokeh.$(function() {\n",
       "            var docs_json = {\"95d56967-7ab0-40e9-b052-ad3ca0d0ce19\":{\"roots\":{\"references\":[{\"attributes\":{\"axis_label\":\"x\",\"formatter\":{\"id\":\"4f40b9da-2197-4739-a5bc-cb65376a7d7c\",\"type\":\"BasicTickFormatter\"},\"plot\":{\"id\":\"99fcb382-a5ec-4d16-ab16-5247b2c673b5\",\"subtype\":\"Figure\",\"type\":\"Plot\"},\"ticker\":{\"id\":\"c5602d23-739e-4fc6-abcb-2950d6e3b4d0\",\"type\":\"BasicTicker\"}},\"id\":\"d4b8e429-f554-4730-a474-bd2a878d6899\",\"type\":\"LinearAxis\"},{\"attributes\":{\"plot\":{\"id\":\"99fcb382-a5ec-4d16-ab16-5247b2c673b5\",\"subtype\":\"Figure\",\"type\":\"Plot\"},\"ticker\":{\"id\":\"c5602d23-739e-4fc6-abcb-2950d6e3b4d0\",\"type\":\"BasicTicker\"}},\"id\":\"b62481ec-30b4-418f-873c-8f5ad4c26592\",\"type\":\"Grid\"},{\"attributes\":{\"plot\":{\"id\":\"99fcb382-a5ec-4d16-ab16-5247b2c673b5\",\"subtype\":\"Figure\",\"type\":\"Plot\"}},\"id\":\"88ba3974-401e-45e5-a942-b7ac203fd38e\",\"type\":\"ResetTool\"},{\"attributes\":{\"plot\":{\"id\":\"99fcb382-a5ec-4d16-ab16-5247b2c673b5\",\"subtype\":\"Figure\",\"type\":\"Plot\"}},\"id\":\"6394005c-1cf4-4fc8-9567-d2e1fae7a7a0\",\"type\":\"PanTool\"},{\"attributes\":{\"overlay\":{\"id\":\"b0f36a4c-dcfe-4610-943b-ef800d203120\",\"type\":\"BoxAnnotation\"},\"plot\":{\"id\":\"99fcb382-a5ec-4d16-ab16-5247b2c673b5\",\"subtype\":\"Figure\",\"type\":\"Plot\"}},\"id\":\"ddcdaf1a-915f-40ec-91d5-5738e5dd7447\",\"type\":\"BoxZoomTool\"},{\"attributes\":{\"below\":[{\"id\":\"d4b8e429-f554-4730-a474-bd2a878d6899\",\"type\":\"LinearAxis\"}],\"left\":[{\"id\":\"f17eb39a-209c-4fc4-b9e4-c430a70be4a9\",\"type\":\"LinearAxis\"}],\"renderers\":[{\"id\":\"d4b8e429-f554-4730-a474-bd2a878d6899\",\"type\":\"LinearAxis\"},{\"id\":\"b62481ec-30b4-418f-873c-8f5ad4c26592\",\"type\":\"Grid\"},{\"id\":\"f17eb39a-209c-4fc4-b9e4-c430a70be4a9\",\"type\":\"LinearAxis\"},{\"id\":\"ad290ce1-4d7b-44b8-a615-430bdf9d49c0\",\"type\":\"Grid\"},{\"id\":\"b0f36a4c-dcfe-4610-943b-ef800d203120\",\"type\":\"BoxAnnotation\"},{\"id\":\"4c210969-e4ed-41ad-a866-e561a7c3e397\",\"type\":\"GlyphRenderer\"}],\"tool_events\":{\"id\":\"952f2675-4291-47e2-9e75-9ea51a70cf83\",\"type\":\"ToolEvents\"},\"tools\":[{\"id\":\"6394005c-1cf4-4fc8-9567-d2e1fae7a7a0\",\"type\":\"PanTool\"},{\"id\":\"b1151b60-8c42-4fdc-921e-13dc81fd17fc\",\"type\":\"WheelZoomTool\"},{\"id\":\"ddcdaf1a-915f-40ec-91d5-5738e5dd7447\",\"type\":\"BoxZoomTool\"},{\"id\":\"1ecd76d7-d090-420a-bb91-6748e45df011\",\"type\":\"PreviewSaveTool\"},{\"id\":\"d9f14dff-e544-4b60-9f9a-7dfa7d3123df\",\"type\":\"ResizeTool\"},{\"id\":\"88ba3974-401e-45e5-a942-b7ac203fd38e\",\"type\":\"ResetTool\"},{\"id\":\"7091746d-1bde-4bcb-8eed-f8237e815e0f\",\"type\":\"HelpTool\"}],\"x_range\":{\"id\":\"8e824f40-36f0-4e90-91d0-16f028f7b71c\",\"type\":\"DataRange1d\"},\"y_range\":{\"id\":\"2831d184-6035-4462-aa65-7cc7d210bc29\",\"type\":\"DataRange1d\"}},\"id\":\"99fcb382-a5ec-4d16-ab16-5247b2c673b5\",\"subtype\":\"Figure\",\"type\":\"Plot\"},{\"attributes\":{},\"id\":\"952f2675-4291-47e2-9e75-9ea51a70cf83\",\"type\":\"ToolEvents\"},{\"attributes\":{\"axis_label\":\"y\",\"formatter\":{\"id\":\"3b3bc763-58be-4b96-8d04-f21c282a76b0\",\"type\":\"BasicTickFormatter\"},\"plot\":{\"id\":\"99fcb382-a5ec-4d16-ab16-5247b2c673b5\",\"subtype\":\"Figure\",\"type\":\"Plot\"},\"ticker\":{\"id\":\"6566af34-085a-4252-8abc-71063ece61d3\",\"type\":\"BasicTicker\"}},\"id\":\"f17eb39a-209c-4fc4-b9e4-c430a70be4a9\",\"type\":\"LinearAxis\"},{\"attributes\":{\"callback\":null},\"id\":\"2831d184-6035-4462-aa65-7cc7d210bc29\",\"type\":\"DataRange1d\"},{\"attributes\":{\"fill_alpha\":{\"value\":0.1},\"fill_color\":{\"value\":\"#1f77b4\"},\"line_alpha\":{\"value\":0.1},\"line_color\":{\"value\":\"#1f77b4\"},\"size\":{\"units\":\"screen\",\"value\":10},\"x\":{\"field\":\"x\"},\"y\":{\"field\":\"y\"}},\"id\":\"9e1116ec-8216-4651-b7d8-feef6a506858\",\"type\":\"Circle\"},{\"attributes\":{\"data_source\":{\"id\":\"e56994d4-2bc6-4476-b82b-94f49cf6da41\",\"type\":\"ColumnDataSource\"},\"glyph\":{\"id\":\"266d0cc7-4dba-46ba-b448-9c9c5e306b39\",\"type\":\"Circle\"},\"hover_glyph\":null,\"nonselection_glyph\":{\"id\":\"9e1116ec-8216-4651-b7d8-feef6a506858\",\"type\":\"Circle\"},\"selection_glyph\":null},\"id\":\"4c210969-e4ed-41ad-a866-e561a7c3e397\",\"type\":\"GlyphRenderer\"},{\"attributes\":{},\"id\":\"3b3bc763-58be-4b96-8d04-f21c282a76b0\",\"type\":\"BasicTickFormatter\"},{\"attributes\":{\"dimension\":1,\"plot\":{\"id\":\"99fcb382-a5ec-4d16-ab16-5247b2c673b5\",\"subtype\":\"Figure\",\"type\":\"Plot\"},\"ticker\":{\"id\":\"6566af34-085a-4252-8abc-71063ece61d3\",\"type\":\"BasicTicker\"}},\"id\":\"ad290ce1-4d7b-44b8-a615-430bdf9d49c0\",\"type\":\"Grid\"},{\"attributes\":{\"plot\":{\"id\":\"99fcb382-a5ec-4d16-ab16-5247b2c673b5\",\"subtype\":\"Figure\",\"type\":\"Plot\"}},\"id\":\"1ecd76d7-d090-420a-bb91-6748e45df011\",\"type\":\"PreviewSaveTool\"},{\"attributes\":{},\"id\":\"c5602d23-739e-4fc6-abcb-2950d6e3b4d0\",\"type\":\"BasicTicker\"},{\"attributes\":{},\"id\":\"6566af34-085a-4252-8abc-71063ece61d3\",\"type\":\"BasicTicker\"},{\"attributes\":{},\"id\":\"4f40b9da-2197-4739-a5bc-cb65376a7d7c\",\"type\":\"BasicTickFormatter\"},{\"attributes\":{\"fill_color\":{\"value\":\"red\"},\"line_color\":{\"value\":\"red\"},\"size\":{\"units\":\"screen\",\"value\":10},\"x\":{\"field\":\"x\"},\"y\":{\"field\":\"y\"}},\"id\":\"266d0cc7-4dba-46ba-b448-9c9c5e306b39\",\"type\":\"Circle\"},{\"attributes\":{\"plot\":{\"id\":\"99fcb382-a5ec-4d16-ab16-5247b2c673b5\",\"subtype\":\"Figure\",\"type\":\"Plot\"}},\"id\":\"d9f14dff-e544-4b60-9f9a-7dfa7d3123df\",\"type\":\"ResizeTool\"},{\"attributes\":{\"bottom_units\":\"screen\",\"fill_alpha\":{\"value\":0.5},\"fill_color\":{\"value\":\"lightgrey\"},\"left_units\":\"screen\",\"level\":\"overlay\",\"line_alpha\":{\"value\":1.0},\"line_color\":{\"value\":\"black\"},\"line_dash\":[4,4],\"line_width\":{\"value\":2},\"plot\":null,\"render_mode\":\"css\",\"right_units\":\"screen\",\"top_units\":\"screen\"},\"id\":\"b0f36a4c-dcfe-4610-943b-ef800d203120\",\"type\":\"BoxAnnotation\"},{\"attributes\":{\"callback\":null},\"id\":\"8e824f40-36f0-4e90-91d0-16f028f7b71c\",\"type\":\"DataRange1d\"},{\"attributes\":{\"callback\":null,\"column_names\":[\"y\",\"x\"],\"data\":{\"x\":[1,2,3,4,5],\"y\":[6,7,2,4,5]}},\"id\":\"e56994d4-2bc6-4476-b82b-94f49cf6da41\",\"type\":\"ColumnDataSource\"},{\"attributes\":{\"plot\":{\"id\":\"99fcb382-a5ec-4d16-ab16-5247b2c673b5\",\"subtype\":\"Figure\",\"type\":\"Plot\"}},\"id\":\"b1151b60-8c42-4fdc-921e-13dc81fd17fc\",\"type\":\"WheelZoomTool\"},{\"attributes\":{\"plot\":{\"id\":\"99fcb382-a5ec-4d16-ab16-5247b2c673b5\",\"subtype\":\"Figure\",\"type\":\"Plot\"}},\"id\":\"7091746d-1bde-4bcb-8eed-f8237e815e0f\",\"type\":\"HelpTool\"}],\"root_ids\":[\"99fcb382-a5ec-4d16-ab16-5247b2c673b5\"]},\"title\":\"Bokeh Application\",\"version\":\"0.11.1\"}};\n",
       "            var render_items = [{\"docid\":\"95d56967-7ab0-40e9-b052-ad3ca0d0ce19\",\"elementid\":\"50041669-52d5-431b-9447-8466e9a6809d\",\"modelid\":\"99fcb382-a5ec-4d16-ab16-5247b2c673b5\",\"notebook_comms_target\":\"d2dbd714-b5d0-4c37-8249-ca187c06f0c1\"}];\n",
       "            \n",
       "            Bokeh.embed.embed_items(docs_json, render_items);\n",
       "        });\n",
       "      },\n",
       "      function(Bokeh) {\n",
       "      }\n",
       "    ];\n",
       "  \n",
       "    function run_inline_js() {\n",
       "      for (var i = 0; i < inline_js.length; i++) {\n",
       "        inline_js[i](window.Bokeh);\n",
       "      }\n",
       "    }\n",
       "  \n",
       "    if (window._bokeh_is_loading === 0) {\n",
       "      console.log(\"Bokeh: BokehJS loaded, going straight to plotting\");\n",
       "      run_inline_js();\n",
       "    } else {\n",
       "      load_libs(js_urls, function() {\n",
       "        console.log(\"Bokeh: BokehJS plotting callback run at\", now());\n",
       "        run_inline_js();\n",
       "      });\n",
       "    }\n",
       "  }(this));\n",
       "</script>"
      ]
     },
     "metadata": {},
     "output_type": "display_data"
    },
    {
     "data": {
      "text/html": [
       "<p><code>&lt;Bokeh Notebook handle for <strong>In[3]</strong>&gt;</code></p>"
      ],
      "text/plain": [
       "<bokeh.io._CommsHandle at 0x106564ac8>"
      ]
     },
     "execution_count": 3,
     "metadata": {},
     "output_type": "execute_result"
    }
   ],
   "source": [
    "# create a new plot with a title and axis labels\n",
    "p = bp.figure(x_axis_label='x', y_axis_label='y')\n",
    "\n",
    "# add a line renderer with legend and line thickness\n",
    "p.circle(x, y, size=10, color=\"red\")\n",
    "\n",
    "bp.show(p)"
   ]
  }
 ],
 "metadata": {
  "kernelspec": {
   "display_name": "Python 3",
   "language": "python",
   "name": "python3"
  },
  "language_info": {
   "codemirror_mode": {
    "name": "ipython",
    "version": 3
   },
   "file_extension": ".py",
   "mimetype": "text/x-python",
   "name": "python",
   "nbconvert_exporter": "python",
   "pygments_lexer": "ipython3",
   "version": "3.5.1"
  }
 },
 "nbformat": 4,
 "nbformat_minor": 0
}
